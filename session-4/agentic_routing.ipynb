{
 "cells": [
  {
   "cell_type": "markdown",
   "id": "86d639ee",
   "metadata": {},
   "source": [
    "#### Agentic routing\n",
    "\n",
    "In this use case, we \"route\" the LLM to different tasks based on ``type of query`` input, i.e. what task we want to accomplish.\n",
    "\n",
    "It is also possible to \"route\" based on the input prompt, breaking down its complexity and figuring out (automatically) which task needs to be performed. This example does not show this use case."
   ]
  },
  {
   "cell_type": "code",
   "execution_count": 1,
   "id": "d25454d0",
   "metadata": {},
   "outputs": [],
   "source": [
    "import os\n",
    "from langchain_community.llms import Ollama\n",
    "from langchain.agents import initialize_agent, AgentType\n",
    "from typing import Literal, Annotated, Literal, Optional, TypedDict\n",
    "from dotenv import load_dotenv\n",
    "from IPython.display import Image, display\n",
    "from langchain_core.messages import HumanMessage, SystemMessage, ToolMessage\n",
    "from langchain_core.tools import tool\n",
    "from langchain_openai import ChatOpenAI\n",
    "from langgraph.graph import END, START, MessagesState, StateGraph\n",
    "from langchain_core.tools import tool as tool\n",
    "\n",
    "import asyncio\n",
    "import operator\n",
    "from langgraph.graph import END, START, StateGraph\n",
    "from langgraph.types import Send\n",
    "from pydantic import BaseModel, Field"
   ]
  },
  {
   "cell_type": "code",
   "execution_count": 2,
   "id": "0d424351",
   "metadata": {},
   "outputs": [],
   "source": [
    "load_dotenv(\"../.env\")\n",
    "os.environ[\"OPENAI_API_KEY\"] = os.getenv(\"OPENAI_API_KEY_PERSONAL\")"
   ]
  },
  {
   "cell_type": "code",
   "execution_count": 3,
   "id": "2f551c1c",
   "metadata": {},
   "outputs": [],
   "source": [
    "model = ChatOpenAI(model=\"gpt-4.1-mini\", temperature=0)"
   ]
  },
  {
   "cell_type": "code",
   "execution_count": 4,
   "id": "207841ab",
   "metadata": {},
   "outputs": [],
   "source": [
    "class State(TypedDict):\n",
    "    input: str\n",
    "    type: Optional[Literal[\"write_article\", \"generate_table_of_contents\", \"review_article\"]] = None\n",
    "    output: Optional[str] = None\n",
    "\n",
    "\n",
    "class MessageType(BaseModel):\n",
    "    type: Literal[\"write_article\", \"generate_table_of_contents\", \"review_article\"]"
   ]
  },
  {
   "cell_type": "code",
   "execution_count": 5,
   "id": "7c16a297",
   "metadata": {},
   "outputs": [],
   "source": [
    "def classify_message(message: str) -> dict:\n",
    "    model_with_str_output = model.with_structured_output(MessageType)\n",
    "    messages = [\n",
    "        SystemMessage(\n",
    "            content=f\"\"\"You are a writer. You will classify the message into one of the following categories:\n",
    "                  'write_article', 'generate_table_of_contents', 'review_article'.\"\"\"\n",
    "        ),\n",
    "        HumanMessage(content=f\"Classify the message: {message}\"),\n",
    "    ]\n",
    "    return {\"type\": model_with_str_output.invoke(messages).type}\n",
    "\n",
    "\n",
    "def route_message(state: State) -> State:\n",
    "    if state[\"type\"] == \"write_article\":\n",
    "        return \"generate_article_content\"\n",
    "    elif state[\"type\"] == \"generate_table_of_contents\":\n",
    "        return \"generate_table_of_contents\"\n",
    "    elif state[\"type\"] == \"review_article\":\n",
    "        return \"revise_article_content\"\n",
    "    else:\n",
    "        raise ValueError(f\"Invalid message type: {state['type']}\")\n",
    "\n",
    "\n",
    "def generate_table_of_contents(state: State) -> State:\n",
    "    messages = [\n",
    "        SystemMessage(\n",
    "            content=f\"\"\"You are an expert writer specialized in SEO. Provided with a topic, \n",
    "            you will generate the table of contents for a short article.\"\"\"\n",
    "        ),\n",
    "        HumanMessage(\n",
    "            content=f\"Generate the table of contents of an article about {state['input']}\"\n",
    "        ),\n",
    "    ]\n",
    "    return {\"output\": model.invoke(messages).content}\n",
    "\n",
    "\n",
    "def generate_article_content(state: State) -> str:\n",
    "    messages = [\n",
    "        SystemMessage(\n",
    "            content=\"You are an expert writer specialized in SEO. Provided with a topic and a table of contents, you will generate the content of the article.\"\n",
    "        ),\n",
    "        HumanMessage(\n",
    "            content=f\"Generate the content of an article about {state['input']}\"\n",
    "        ),\n",
    "    ]\n",
    "    return {\"output\": model.invoke(messages).content}\n",
    "\n",
    "\n",
    "def revise_article_content(state: State) -> str:\n",
    "    messages = [\n",
    "        SystemMessage(\n",
    "            content=\"You are an expert writer specialized in SEO. Provided with a topic, a table of contents and a content, you will revise the content of the article to make it less than 1000 characters.\"\n",
    "        ),\n",
    "        HumanMessage(\n",
    "            content=f\"Revise the content of the following article:\\n\\n{state['input']}\"\n",
    "        ),\n",
    "    ]\n",
    "    return {\"output\": model.invoke(messages).content}"
   ]
  },
  {
   "cell_type": "code",
   "execution_count": null,
   "id": "e7e5585c",
   "metadata": {},
   "outputs": [],
   "source": [
    "workflow_builder = StateGraph(State)\n",
    "\n",
    "workflow_builder.add_node(\"classify_message\", classify_message)\n",
    "workflow_builder.add_node(\"generate_table_of_contents\", generate_table_of_contents)\n",
    "workflow_builder.add_node(\"generate_article_content\", generate_article_content)\n",
    "workflow_builder.add_node(\"revise_article_content\", revise_article_content)\n",
    "# edges now\n",
    "workflow_builder.add_edge(START, \"classify_message\")\n",
    "\n",
    "# which edge to go to next based on router message\n",
    "workflow_builder.add_conditional_edges(\n",
    "    source = \"classify_message\",\n",
    "    path = route_message,\n",
    "    path_map = {\n",
    "        \"generate_article_content\": \"generate_article_content\",\n",
    "        \"generate_table_of_contents\": \"generate_table_of_contents\",\n",
    "        \"revise_article_content\": \"revise_article_content\",\n",
    "    },\n",
    ")\n",
    "workflow_builder.add_edge(\"generate_table_of_contents\", END)\n",
    "workflow_builder.add_edge(\"generate_article_content\", END)\n",
    "workflow_builder.add_edge(\"revise_article_content\", END)\n",
    "\n",
    "workflow = workflow_builder.compile()"
   ]
  },
  {
   "cell_type": "code",
   "execution_count": 11,
   "id": "fcc70ce4",
   "metadata": {},
   "outputs": [
    {
     "data": {
      "image/png": "[encoded data removed]",
      "text/plain": [
       "<IPython.core.display.Image object>"
      ]
     },
     "metadata": {},
     "output_type": "display_data"
    }
   ],
   "source": [
    "display(Image(workflow.get_graph().draw_mermaid_png()))"
   ]
  },
  {
   "cell_type": "code",
   "execution_count": 13,
   "id": "f002524d",
   "metadata": {},
   "outputs": [],
   "source": [
    "article = workflow.invoke({\"input\": \"write an article about Quantum Computing\"})"
   ]
  },
  {
   "cell_type": "code",
   "execution_count": 14,
   "id": "ad8cda2d",
   "metadata": {},
   "outputs": [
    {
     "name": "stdout",
     "output_type": "stream",
     "text": [
      "{'input': 'write an article about Quantum Computing', 'type': 'write_article', 'output': '# Quantum Computing: Revolutionizing the Future of Technology\\n\\nQuantum computing is an emerging field at the intersection of computer science, physics, and mathematics that promises to revolutionize the way we process information. Unlike classical computers, which use bits as the smallest unit of data, quantum computers leverage quantum bits or qubits, enabling them to perform complex calculations at unprecedented speeds. This article explores the fundamentals of quantum computing, its potential applications, challenges, and the future outlook of this transformative technology.\\n\\n## What is Quantum Computing?\\n\\nQuantum computing is a type of computation that harnesses the principles of quantum mechanics to process information. Traditional computers operate using bits that represent either a 0 or a 1. In contrast, quantum computers use qubits, which can exist simultaneously in multiple states thanks to a phenomenon called superposition. Additionally, qubits can be entangled, meaning the state of one qubit can depend on the state of another, no matter the distance between them. These unique properties allow quantum computers to solve certain problems much more efficiently than classical computers.\\n\\n## How Does Quantum Computing Work?\\n\\nAt the core of quantum computing are qubits, which differ fundamentally from classical bits. Here are the key principles that enable quantum computing:\\n\\n- **Superposition:** A qubit can be in a state of 0, 1, or both at the same time. This allows quantum computers to process a vast number of possibilities simultaneously.\\n- **Entanglement:** Qubits can become entangled, creating a connection where the state of one qubit instantly influences the state of another, enabling complex correlations.\\n- **Quantum Interference:** Quantum algorithms use interference to amplify correct solutions and cancel out incorrect ones, improving the accuracy of computations.\\n\\nQuantum computers manipulate qubits using quantum gates, which are the quantum equivalent of logical gates in classical computing. These gates perform operations that change the state of qubits, enabling the execution of quantum algorithms.\\n\\n## Potential Applications of Quantum Computing\\n\\nQuantum computing holds promise across various industries by solving problems that are currently intractable for classical computers:\\n\\n- **Cryptography:** Quantum computers can potentially break widely used encryption methods, prompting the development of quantum-resistant cryptography.\\n- **Drug Discovery and Material Science:** By simulating molecular structures at the quantum level, quantum computers can accelerate the discovery of new drugs and materials.\\n- **Optimization Problems:** Industries such as logistics, finance, and manufacturing can benefit from quantum algorithms that optimize complex systems more efficiently.\\n- **Artificial Intelligence:** Quantum computing can enhance machine learning models by processing large datasets and complex computations faster.\\n\\n## Challenges Facing Quantum Computing\\n\\nDespite its potential, quantum computing faces significant challenges:\\n\\n- **Qubit Stability:** Qubits are highly sensitive to environmental disturbances, leading to errors known as quantum decoherence.\\n- **Error Correction:** Developing effective quantum error correction methods is essential to maintain the integrity of quantum computations.\\n- **Scalability:** Building quantum computers with a large number of qubits remains a technical hurdle.\\n- **Resource Requirements:** Quantum hardware requires extremely low temperatures and sophisticated infrastructure, making it expensive and complex to maintain.\\n\\n## The Future of Quantum Computing\\n\\nResearch and development in quantum computing are advancing rapidly, with tech giants, startups, and academic institutions investing heavily in the field. As hardware improves and quantum algorithms become more refined, practical quantum computing applications are expected to emerge within the next decade. Governments worldwide are also recognizing the strategic importance of quantum technology, leading to increased funding and collaborative initiatives.\\n\\nIn conclusion, quantum computing represents a paradigm shift in computational capabilities. While still in its infancy, its potential to solve complex problems beyond the reach of classical computers makes it one of the most exciting technological frontiers today. Staying informed about quantum computing developments is essential for businesses, researchers, and policymakers aiming to harness its transformative power.'}\n"
     ]
    }
   ],
   "source": [
    "print(article)"
   ]
  }
 ],
 "metadata": {
  "kernelspec": {
   "display_name": ".venv",
   "language": "python",
   "name": "python3"
  },
  "language_info": {
   "codemirror_mode": {
    "name": "ipython",
    "version": 3
   },
   "file_extension": ".py",
   "mimetype": "text/x-python",
   "name": "python",
   "nbconvert_exporter": "python",
   "pygments_lexer": "ipython3",
   "version": "3.12.6"
  }
 },
 "nbformat": 4,
 "nbformat_minor": 5
}
