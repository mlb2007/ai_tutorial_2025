{
 "cells": [
  {
   "cell_type": "markdown",
   "id": "410e6c2e",
   "metadata": {},
   "source": [
    "#### Writing an article using LLM on some topic, revising it and editing it.\n",
    "\n",
    "The key here is that the steps are known. There is one time revision here. There is no iterative loop here.\n",
    "1. write the article\n",
    "2. generate TOC\n",
    "3. revise article, if needed\n",
    "4. done"
   ]
  },
  {
   "cell_type": "code",
   "execution_count": 1,
   "id": "49f6436d",
   "metadata": {},
   "outputs": [],
   "source": [
    "import os\n",
    "from langchain_community.llms import Ollama\n",
    "from langchain.agents import initialize_agent, AgentType\n",
    "from typing import Literal, Annotated, Literal, Optional, TypedDict\n",
    "from dotenv import load_dotenv\n",
    "from IPython.display import Image, display\n",
    "from langchain_core.messages import HumanMessage, SystemMessage, ToolMessage\n",
    "from langchain_core.tools import tool\n",
    "from langchain_openai import ChatOpenAI\n",
    "from langgraph.graph import END, START, MessagesState, StateGraph\n",
    "from langchain_core.tools import tool as tool\n",
    "\n",
    "import asyncio\n",
    "import operator\n",
    "from langgraph.graph import END, START, StateGraph\n",
    "from langgraph.types import Send\n",
    "from pydantic import BaseModel, Field\n"
   ]
  },
  {
   "cell_type": "code",
   "execution_count": 2,
   "id": "e185a4bd",
   "metadata": {},
   "outputs": [],
   "source": [
    "load_dotenv(\"../.env\")\n",
    "os.environ[\"OPENAI_API_KEY\"] = os.getenv(\"OPENAI_API_KEY_PERSONAL\")"
   ]
  },
  {
   "cell_type": "code",
   "execution_count": 3,
   "id": "bee3518d",
   "metadata": {},
   "outputs": [],
   "source": [
    "\n",
    "model = ChatOpenAI(model=\"gpt-4.1-mini\", temperature=0)"
   ]
  },
  {
   "cell_type": "markdown",
   "id": "5e866014",
   "metadata": {},
   "source": [
    "#### Describe the State(s)\n",
    "\n",
    "Here all states are encapsulated in one dictionary"
   ]
  },
  {
   "cell_type": "code",
   "execution_count": 4,
   "id": "558be9f4",
   "metadata": {},
   "outputs": [],
   "source": [
    "class State(TypedDict):\n",
    "    topic: str\n",
    "    table_of_contents: str\n",
    "    content: str\n",
    "    revised_content: str"
   ]
  },
  {
   "cell_type": "code",
   "execution_count": 6,
   "id": "f9f0a94f",
   "metadata": {},
   "outputs": [],
   "source": [
    "def generate_table_of_contents(state: State) -> dict:\n",
    "    messages = [\n",
    "        SystemMessage(\n",
    "            content=\"You are an expert writer specialized in SEO. Provided with a topic, you will generate the table of contents for a short article.\"\n",
    "        ),\n",
    "        HumanMessage(\n",
    "            content=f\"Generate the table of contents of an article about {state['topic']}\"\n",
    "        ),\n",
    "    ]\n",
    "    return {\"table_of_contents\": model.invoke(messages).content}\n",
    "\n",
    "\n",
    "def generate_article_content(state: State) -> str:\n",
    "    messages = [\n",
    "        SystemMessage(\n",
    "            content=\"You are an expert writer specialized in SEO. Provided with a topic and a table of contents, you will generate the content of the article.\"\n",
    "        ),\n",
    "        HumanMessage(\n",
    "            content=f\"Generate the content of an article about {state['topic']} with the following table of contents: {state['table_of_contents']}\"\n",
    "        ),\n",
    "    ]\n",
    "    return {\"content\": model.invoke(messages).content}\n",
    "\n",
    "\n",
    "def revise_article_content(state: State) -> str:\n",
    "    messages = [\n",
    "        SystemMessage(\n",
    "            content=\"You are an expert writer specialized in SEO. Provided with a topic, a table of contents and a content, you will revise the content of the article to make it less than 1000 characters.\"\n",
    "        ),\n",
    "        HumanMessage(\n",
    "            content=f\"Revise the content of an article about {state['topic']} with the following table of contents: {state['table_of_contents']} and the following content:\\n\\n{state['content']}\"\n",
    "        ),\n",
    "    ]\n",
    "    return {\"revised_content\": model.invoke(messages).content}\n",
    "\n",
    "\n",
    "def check_article_content(state: State) -> str:\n",
    "    if len(state[\"content\"]) > 1000:\n",
    "        return \"Fail\"\n",
    "    return \"Pass\""
   ]
  },
  {
   "cell_type": "code",
   "execution_count": 10,
   "id": "ac564a51",
   "metadata": {},
   "outputs": [],
   "source": [
    "workflow_builder = StateGraph(State)\n",
    "\n",
    "workflow_builder.add_node(\"generate_table_of_contents\", generate_table_of_contents)\n",
    "workflow_builder.add_node(\"generate_article_content\", generate_article_content)\n",
    "workflow_builder.add_node(\"revise_article_content\", revise_article_content)\n",
    "\n",
    "workflow_builder.add_edge(START, \"generate_table_of_contents\")\n",
    "workflow_builder.add_edge(\"generate_table_of_contents\", \"generate_article_content\")\n",
    "workflow_builder.add_conditional_edges(\n",
    "    source = \"generate_article_content\",\n",
    "    path =check_article_content,\n",
    "    path_map = {\n",
    "        \"Pass\": END,\n",
    "        \"Fail\": \"revise_article_content\",\n",
    "    },\n",
    ")\n",
    "workflow_builder.add_edge(\"revise_article_content\", END)\n",
    "\n",
    "workflow = workflow_builder.compile()\n"
   ]
  },
  {
   "cell_type": "code",
   "execution_count": 11,
   "id": "9762c8ed",
   "metadata": {},
   "outputs": [
    {
     "data": {
      "image/png": "[encoded data removed]",
      "text/plain": [
       "<IPython.core.display.Image object>"
      ]
     },
     "metadata": {},
     "output_type": "display_data"
    }
   ],
   "source": [
    "display(Image(workflow.get_graph().draw_mermaid_png()))"
   ]
  },
  {
   "cell_type": "code",
   "execution_count": 12,
   "id": "1ec1aab5",
   "metadata": {},
   "outputs": [],
   "source": [
    "article = workflow.invoke({\"topic\": \"Artificial Intelligence\"})"
   ]
  },
  {
   "cell_type": "code",
   "execution_count": 15,
   "id": "d5fae4da",
   "metadata": {},
   "outputs": [
    {
     "data": {
      "text/plain": [
       "{'topic': 'Artificial Intelligence',\n",
       " 'table_of_contents': 'Table of Contents\\n\\n1. Introduction to Artificial Intelligence  \\n2. History and Evolution of AI  \\n3. Types of Artificial Intelligence  \\n4. Key Technologies Behind AI  \\n5. Applications of Artificial Intelligence  \\n6. Benefits and Challenges of AI  \\n7. The Future of Artificial Intelligence  \\n8. Ethical Considerations in AI  \\n9. Conclusion',\n",
       " 'content': '# Artificial Intelligence: Transforming the Future of Technology\\n\\n## 1. Introduction to Artificial Intelligence\\n\\nArtificial Intelligence (AI) refers to the simulation of human intelligence in machines that are programmed to think, learn, and make decisions. These intelligent systems can perform tasks that typically require human cognition, such as understanding natural language, recognizing patterns, solving problems, and adapting to new information. AI is revolutionizing various industries by enhancing efficiency, accuracy, and innovation.\\n\\n## 2. History and Evolution of AI\\n\\nThe concept of artificial intelligence dates back to ancient times, with myths and stories about mechanical beings endowed with intelligence. However, AI as a scientific discipline began in the mid-20th century. In 1956, the Dartmouth Conference marked the official birth of AI research. Early AI focused on symbolic reasoning and problem-solving. Over the decades, AI evolved through phases of optimism, setbacks known as \"AI winters,\" and breakthroughs fueled by advances in computing power, data availability, and algorithms. The rise of machine learning and deep learning in the 21st century has propelled AI into mainstream applications.\\n\\n## 3. Types of Artificial Intelligence\\n\\nAI can be broadly categorized into three types:\\n\\n- **Narrow AI (Weak AI):** Designed to perform specific tasks, such as voice assistants, recommendation systems, and image recognition. These systems operate under limited contexts and cannot generalize beyond their programming.\\n\\n- **General AI (Strong AI):** Hypothetical AI that possesses human-like cognitive abilities, capable of understanding, learning, and applying knowledge across diverse tasks. General AI remains a goal rather than a reality.\\n\\n- **Superintelligent AI:** A theoretical form of AI that surpasses human intelligence in all aspects, including creativity, problem-solving, and emotional intelligence. This level raises significant ethical and existential questions.\\n\\n## 4. Key Technologies Behind AI\\n\\nSeveral core technologies underpin the development and functionality of AI:\\n\\n- **Machine Learning (ML):** Enables systems to learn from data and improve over time without explicit programming. Techniques include supervised, unsupervised, and reinforcement learning.\\n\\n- **Deep Learning:** A subset of ML that uses neural networks with multiple layers to model complex patterns in large datasets, powering advancements in image and speech recognition.\\n\\n- **Natural Language Processing (NLP):** Allows machines to understand, interpret, and generate human language, facilitating applications like chatbots and language translation.\\n\\n- **Computer Vision:** Enables AI to interpret and analyze visual information from the world, used in facial recognition, autonomous vehicles, and medical imaging.\\n\\n- **Robotics:** Combines AI with mechanical systems to create intelligent machines capable of performing physical tasks.\\n\\n## 5. Applications of Artificial Intelligence\\n\\nAI is transforming numerous sectors, including:\\n\\n- **Healthcare:** AI assists in diagnostics, personalized treatment plans, drug discovery, and robotic surgeries.\\n\\n- **Finance:** Fraud detection, algorithmic trading, credit scoring, and customer service automation benefit from AI.\\n\\n- **Retail:** Personalized recommendations, inventory management, and customer insights are enhanced by AI analytics.\\n\\n- **Transportation:** Autonomous vehicles, traffic management, and predictive maintenance rely on AI technologies.\\n\\n- **Manufacturing:** AI optimizes supply chains, quality control, and predictive maintenance.\\n\\n- **Entertainment:** Content creation, recommendation engines, and interactive gaming use AI to improve user experience.\\n\\n## 6. Benefits and Challenges of AI\\n\\n### Benefits\\n\\n- **Efficiency and Automation:** AI automates repetitive tasks, freeing humans for more complex work.\\n\\n- **Data Analysis:** AI can process vast amounts of data quickly, uncovering insights and trends.\\n\\n- **Innovation:** AI drives new products, services, and business models.\\n\\n### Challenges\\n\\n- **Job Displacement:** Automation may lead to workforce disruptions in certain sectors.\\n\\n- **Bias and Fairness:** AI systems can perpetuate or amplify existing biases present in training data.\\n\\n- **Privacy Concerns:** The collection and use of personal data raise ethical and legal issues.\\n\\n- **Security Risks:** AI can be exploited for malicious purposes, such as deepfakes or cyberattacks.\\n\\n## 7. The Future of Artificial Intelligence\\n\\nThe future of AI promises continued integration into daily life and industry, with advancements in explainable AI, human-AI collaboration, and autonomous systems. Emerging trends include AI in edge computing, quantum AI, and AI-driven scientific discovery. However, realizing AI’s full potential requires addressing technical, ethical, and societal challenges to ensure responsible and beneficial deployment.\\n\\n## 8. Ethical Considerations in AI\\n\\nEthical AI development focuses on transparency, accountability, and fairness. Key considerations include:\\n\\n- **Bias Mitigation:** Ensuring AI systems do not discriminate against individuals or groups.\\n\\n- **Privacy Protection:** Safeguarding user data and respecting consent.\\n\\n- **Transparency:** Making AI decision-making processes understandable to users.\\n\\n- **Accountability:** Defining responsibility for AI-driven actions and outcomes.\\n\\n- **Human Oversight:** Maintaining human control over critical decisions, especially in healthcare, law enforcement, and autonomous weapons.\\n\\nGlobal efforts are underway to establish guidelines and regulations that promote ethical AI use.\\n\\n## 9. Conclusion\\n\\nArtificial Intelligence stands as one of the most transformative technologies of our time, reshaping industries, economies, and societies. While AI offers immense benefits in efficiency, innovation, and problem-solving, it also presents significant challenges that require careful management. By fostering ethical development, inclusive policies, and continuous research, humanity can harness AI’s power to create a smarter, more equitable future.',\n",
       " 'revised_content': 'Artificial Intelligence (AI) simulates human intelligence in machines to perform tasks like language understanding, pattern recognition, and decision-making. Originating as a scientific field in 1956, AI has evolved through advances in machine learning, deep learning, and data availability. AI types include Narrow AI, designed for specific tasks; General AI, a future goal with human-like cognition; and Superintelligent AI, a theoretical form surpassing human intelligence. Core technologies include machine learning, natural language processing, computer vision, and robotics. AI impacts sectors such as healthcare, finance, retail, transportation, and entertainment by enhancing efficiency and innovation. Benefits include automation and data analysis, while challenges involve job displacement, bias, privacy, and security risks. The future of AI involves explainable systems and ethical considerations like transparency, fairness, and accountability to ensure responsible use and societal benefit.'}"
      ]
     },
     "execution_count": 15,
     "metadata": {},
     "output_type": "execute_result"
    }
   ],
   "source": [
    "article"
   ]
  }
 ],
 "metadata": {
  "kernelspec": {
   "display_name": ".venv",
   "language": "python",
   "name": "python3"
  },
  "language_info": {
   "codemirror_mode": {
    "name": "ipython",
    "version": 3
   },
   "file_extension": ".py",
   "mimetype": "text/x-python",
   "name": "python",
   "nbconvert_exporter": "python",
   "pygments_lexer": "ipython3",
   "version": "3.12.6"
  }
 },
 "nbformat": 4,
 "nbformat_minor": 5
}
