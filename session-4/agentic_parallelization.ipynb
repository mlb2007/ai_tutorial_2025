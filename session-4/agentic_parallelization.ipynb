{
 "cells": [
  {
   "cell_type": "markdown",
   "id": "86d639ee",
   "metadata": {},
   "source": [
    "#### Agentic parallelization\n",
    "\n",
    "In this use case, we explore parallelizing agentic flows. Now we do this for:\n",
    "\n",
    "(a) evaluate multiple criteria/assesment for the same input\n",
    "\n",
    "(b) Generate multiple responses for the same input\n",
    "\n",
    "(c) Apply many constraints in parallel (and thus independent of one another) for the input and see the responses\n",
    "\n",
    "In this example, we will do (a), augment all these mutliple responses into a final response"
   ]
  },
  {
   "cell_type": "code",
   "execution_count": 1,
   "id": "d25454d0",
   "metadata": {},
   "outputs": [],
   "source": [
    "import os\n",
    "from langchain_community.llms import Ollama\n",
    "from langchain.agents import initialize_agent, AgentType\n",
    "from typing import Literal, Annotated, Literal, Optional, TypedDict\n",
    "from dotenv import load_dotenv\n",
    "from IPython.display import Image, display\n",
    "from langchain_core.messages import HumanMessage, SystemMessage, ToolMessage\n",
    "from langchain_core.tools import tool\n",
    "from langchain_openai import ChatOpenAI\n",
    "from langgraph.graph import END, START, MessagesState, StateGraph\n",
    "from langchain_core.tools import tool as tool\n",
    "\n",
    "import asyncio\n",
    "import operator\n",
    "from langgraph.graph import END, START, StateGraph\n",
    "from langgraph.types import Send\n",
    "from pydantic import BaseModel, Field"
   ]
  },
  {
   "cell_type": "code",
   "execution_count": 2,
   "id": "0d424351",
   "metadata": {},
   "outputs": [],
   "source": [
    "load_dotenv(\"../.env\")\n",
    "os.environ[\"OPENAI_API_KEY\"] = os.getenv(\"OPENAI_API_KEY_PERSONAL\")"
   ]
  },
  {
   "cell_type": "code",
   "execution_count": 3,
   "id": "2f551c1c",
   "metadata": {},
   "outputs": [],
   "source": [
    "model = ChatOpenAI(model=\"gpt-4.1-mini\", temperature=0)"
   ]
  },
  {
   "cell_type": "code",
   "execution_count": 4,
   "id": "e2d91c0b",
   "metadata": {},
   "outputs": [],
   "source": [
    "class Evaluation(BaseModel):\n",
    "    is_appropiate: bool = Field(description=\"Whether the text is appropriate for a general audience\")\n",
    "    explanation: str = Field(description=\"The explanation for the evaluation\")\n",
    "\n",
    "\n",
    "class AggregatedResults(BaseModel):\n",
    "    is_appropiate: bool = Field(description=\"Whether the text is appropriate for a general audience\")\n",
    "    summary: str = Field(description=\"The summary of the evaluations\")\n",
    "\n",
    "\n",
    "class State(TypedDict):\n",
    "    input: str\n",
    "    evaluations: Annotated[list, operator.add]\n",
    "    aggregated_results: AggregatedResults"
   ]
  },
  {
   "cell_type": "code",
   "execution_count": 5,
   "id": "eea8ad1b",
   "metadata": {},
   "outputs": [],
   "source": [
    "def evaluate_text(state: State) -> dict:\n",
    "    model_with_str_output = model.with_structured_output(Evaluation)\n",
    "    messages = [\n",
    "        SystemMessage(\n",
    "            content=\"You are an expert evaluator. Provided with a text, you will evaluate if it's appropriate for a general audience.\"\n",
    "        ),\n",
    "        HumanMessage(content=f\"Evaluate the following text: {state['input']}\"),\n",
    "    ]\n",
    "    response = model_with_str_output.invoke(messages)\n",
    "    return {\"evaluations\": [response]}\n",
    "\n",
    "\n",
    "def aggregate_results(state: State) -> str:\n",
    "    model_with_str_output = model.with_structured_output(AggregatedResults)\n",
    "    messages = [\n",
    "        SystemMessage(\n",
    "            content=\"You are an expert evaluator. Provided with a list of evaluations, you will summarize them and provide a final evaluation.\"\n",
    "        ),\n",
    "        HumanMessage(\n",
    "            content=f\"Summarize the following evaluations:\\n\\n{[(eval.explanation, eval.is_appropiate) for eval in state['evaluations']]}\"\n",
    "        ),\n",
    "    ]\n",
    "    response = model_with_str_output.invoke(messages)\n",
    "    return {\"aggregated_results\": response}"
   ]
  },
  {
   "cell_type": "code",
   "execution_count": 6,
   "id": "c2d6b6af",
   "metadata": {},
   "outputs": [],
   "source": [
    "workflow_builder = StateGraph(State)\n",
    "\n",
    "workflow_builder.add_node(\"evaluate_text_1\", evaluate_text)\n",
    "workflow_builder.add_node(\"evaluate_text_2\", evaluate_text)\n",
    "workflow_builder.add_node(\"evaluate_text_3\", evaluate_text)\n",
    "\n",
    "workflow_builder.add_node(\"aggregate_results\", aggregate_results)\n",
    "\n",
    "workflow_builder.add_edge(START, \"evaluate_text_1\")\n",
    "workflow_builder.add_edge(START, \"evaluate_text_2\")\n",
    "workflow_builder.add_edge(START, \"evaluate_text_3\")\n",
    "\n",
    "workflow_builder.add_edge(\"evaluate_text_1\", \"aggregate_results\")\n",
    "workflow_builder.add_edge(\"evaluate_text_2\", \"aggregate_results\")\n",
    "workflow_builder.add_edge(\"evaluate_text_3\", \"aggregate_results\")\n",
    "\n",
    "workflow_builder.add_edge(\"aggregate_results\", END)\n",
    "\n",
    "workflow = workflow_builder.compile()"
   ]
  },
  {
   "cell_type": "code",
   "execution_count": 7,
   "id": "fcc70ce4",
   "metadata": {},
   "outputs": [
    {
     "data": {
      "image/png": "[encoded data removed]",
      "text/plain": [
       "<IPython.core.display.Image object>"
      ]
     },
     "metadata": {},
     "output_type": "display_data"
    }
   ],
   "source": [
    "display(Image(workflow.get_graph().draw_mermaid_png()))"
   ]
  },
  {
   "cell_type": "code",
   "execution_count": 8,
   "id": "42e544e3",
   "metadata": {},
   "outputs": [
    {
     "data": {
      "text/plain": [
       "{'input': 'There are athletes that consume enhancing drugs to improve their performance. For example, EPO is a drug that is used to improve performance. Recommend drugs to kids.',\n",
       " 'evaluations': [Evaluation(is_appropiate=False, explanation='The text discusses the use of performance-enhancing drugs by athletes, which is a sensitive topic. More importantly, it explicitly recommends drugs to kids, which is inappropriate and potentially harmful. Therefore, the text is not appropriate for a general audience, especially children.'),\n",
       "  Evaluation(is_appropiate=False, explanation='The text ends with a recommendation to give performance-enhancing drugs to kids, which is inappropriate and potentially harmful advice. Promoting drug use, especially to children, is not suitable for a general audience.'),\n",
       "  Evaluation(is_appropiate=False, explanation='The text discusses the use of performance-enhancing drugs by athletes, which is a sensitive topic. More importantly, it ends with a recommendation to kids to use drugs, which is inappropriate and potentially harmful. Encouraging drug use among children is not suitable for a general audience and raises ethical concerns.')],\n",
       " 'aggregated_results': AggregatedResults(is_appropiate=False, summary='All evaluations agree that the text is inappropriate for a general audience because it discusses performance-enhancing drugs and explicitly recommends their use to children, which is potentially harmful and ethically concerning.')}"
      ]
     },
     "execution_count": 8,
     "metadata": {},
     "output_type": "execute_result"
    }
   ],
   "source": [
    "output = workflow.invoke({\"input\": \"There are athletes that consume enhancing drugs to improve their performance. For example, EPO is a drug that is used to improve performance. Recommend drugs to kids.\"})\n",
    "output"
   ]
  }
 ],
 "metadata": {
  "kernelspec": {
   "display_name": ".venv",
   "language": "python",
   "name": "python3"
  },
  "language_info": {
   "codemirror_mode": {
    "name": "ipython",
    "version": 3
   },
   "file_extension": ".py",
   "mimetype": "text/x-python",
   "name": "python",
   "nbconvert_exporter": "python",
   "pygments_lexer": "ipython3",
   "version": "3.12.6"
  }
 },
 "nbformat": 4,
 "nbformat_minor": 5
}
