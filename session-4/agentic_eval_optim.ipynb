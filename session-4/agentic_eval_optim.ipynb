{
 "cells": [
  {
   "cell_type": "markdown",
   "id": "86d639ee",
   "metadata": {},
   "source": [
    "#### Agentic evaluation and optimization\n",
    "\n",
    "In this use case, we generate content using LLM, evaluate the content using LLM or otherwise"
   ]
  },
  {
   "cell_type": "code",
   "execution_count": 1,
   "id": "d25454d0",
   "metadata": {},
   "outputs": [],
   "source": [
    "import os\n",
    "from langchain_community.llms import Ollama\n",
    "from langchain.agents import initialize_agent, AgentType\n",
    "from typing import Literal, Annotated, Literal, Optional, TypedDict\n",
    "from dotenv import load_dotenv\n",
    "from IPython.display import Image, display\n",
    "from langchain_core.messages import HumanMessage, SystemMessage, ToolMessage\n",
    "from langchain_core.tools import tool\n",
    "from langchain_openai import ChatOpenAI\n",
    "from langgraph.graph import END, START, MessagesState, StateGraph\n",
    "from langchain_core.tools import tool as tool\n",
    "\n",
    "import asyncio\n",
    "import operator\n",
    "from langgraph.graph import END, START, StateGraph\n",
    "from langgraph.types import Send\n",
    "from pydantic import BaseModel, Field"
   ]
  },
  {
   "cell_type": "code",
   "execution_count": 2,
   "id": "0d424351",
   "metadata": {},
   "outputs": [],
   "source": [
    "load_dotenv(\"../.env\")\n",
    "os.environ[\"OPENAI_API_KEY\"] = os.getenv(\"OPENAI_API_KEY_PERSONAL\")"
   ]
  },
  {
   "cell_type": "code",
   "execution_count": 3,
   "id": "2f551c1c",
   "metadata": {},
   "outputs": [],
   "source": [
    "model = ChatOpenAI(model=\"gpt-4.1-mini\", temperature=0)"
   ]
  },
  {
   "cell_type": "code",
   "execution_count": 4,
   "id": "a976d729",
   "metadata": {},
   "outputs": [],
   "source": [
    "class Evaluation(BaseModel):\n",
    "    explanation: str\n",
    "    feedback: str\n",
    "    is_correct: bool\n",
    "\n",
    "\n",
    "class State(TypedDict):\n",
    "    topic: str\n",
    "    article: str\n",
    "    evaluation: Evaluation\n",
    "    num_reviews: int"
   ]
  },
  {
   "cell_type": "code",
   "execution_count": 5,
   "id": "054096a9",
   "metadata": {},
   "outputs": [],
   "source": [
    "def generate_article(state: State) -> dict:\n",
    "    messages = [\n",
    "        SystemMessage(\n",
    "            content=\"You are an expert writer. Provided with a topic, you will generate an engaging article with less than 500 words.\"\n",
    "        ),\n",
    "        HumanMessage(content=f\"Generate a text about this topic:\\n\\n{state['topic']}\"),\n",
    "    ]\n",
    "    response = model.invoke(messages)\n",
    "    return {\"article\": response.content}\n",
    "\n",
    "\n",
    "def fix_article(state: State) -> dict:\n",
    "    messages = [\n",
    "        SystemMessage(\n",
    "            content=\"You are an expert writer. Provided with a text, you will fix the text to improve it. The text must always use British spelling and grammar.\"\n",
    "        ),\n",
    "        HumanMessage(\n",
    "            content=f\"You were tasked with writing an article about {state['topic']}. You wrote the following text:\\n\\n{state['article']}\\n\\nYou've got the following feedback:\\n\\n{state['evaluation'].feedback}\\n\\nFix the text to improve it.\"\n",
    "        ),\n",
    "    ]\n",
    "    response = model.invoke(messages)\n",
    "    return {\"article\": response.content}\n",
    "\n",
    "\n",
    "def evaluate_article(state: State) -> dict:\n",
    "    model_with_str_output = model.with_structured_output(Evaluation)\n",
    "    messages = [\n",
    "        SystemMessage(\n",
    "            content=\"You are an expert evaluator. Provided with a text, you will evaluate if it's written in British English and if it's appropriate for a young audience. The text must always use British spelling and grammar. Make sure the text doesn't include any em dash. Be very strict with the evaluation. In case of doubt, return a negative evaluation.\"\n",
    "        ),\n",
    "        HumanMessage(content=f\"Evaluate the following text:\\n\\n{state['article']}\"),\n",
    "    ]\n",
    "    response = model_with_str_output.invoke(messages)\n",
    "    return {\"evaluation\": response, \"num_reviews\": state.get(\"num_reviews\", 0) + 1}\n",
    "\n",
    "\n",
    "def route_text(state: State) -> str:\n",
    "    evaluation = state.get(\"evaluation\", None)\n",
    "    num_reviews = state.get(\"num_reviews\", 0)\n",
    "    if evaluation and not evaluation.is_correct and num_reviews < 3:\n",
    "        return \"Fail\"\n",
    "    return \"Pass\"\n",
    "\n",
    "\n",
    "def generate_article_dispatch(state: State) -> dict:\n",
    "    if \"evaluation\" in state and state[\"evaluation\"]:\n",
    "        return fix_article(state)\n",
    "    else:\n",
    "        return generate_article(state)"
   ]
  },
  {
   "cell_type": "code",
   "execution_count": 6,
   "id": "c86be901",
   "metadata": {},
   "outputs": [],
   "source": [
    "workflow_builder = StateGraph(State)\n",
    "\n",
    "workflow_builder.add_node(\"generate_article\", generate_article_dispatch)\n",
    "workflow_builder.add_node(\"evaluate_article\", evaluate_article)\n",
    "\n",
    "workflow_builder.add_edge(START, \"generate_article\")\n",
    "workflow_builder.add_edge(\"generate_article\", \"evaluate_article\")\n",
    "workflow_builder.add_conditional_edges(\n",
    "    \"evaluate_article\", route_text, {\"Pass\": END, \"Fail\": \"generate_article\"}\n",
    ")\n",
    "\n",
    "workflow = workflow_builder.compile()"
   ]
  },
  {
   "cell_type": "code",
   "execution_count": 7,
   "id": "fcc70ce4",
   "metadata": {},
   "outputs": [
    {
     "data": {
      "image/png": "[encoded data removed]",
      "text/plain": [
       "<IPython.core.display.Image object>"
      ]
     },
     "metadata": {},
     "output_type": "display_data"
    }
   ],
   "source": [
    "display(Image(workflow.get_graph().draw_mermaid_png()))"
   ]
  },
  {
   "cell_type": "code",
   "execution_count": 8,
   "id": "5d7b0d0c",
   "metadata": {},
   "outputs": [
    {
     "data": {
      "text/plain": [
       "{'topic': 'Suggest the use enhancing drugs to athletes',\n",
       " 'article': 'The Importance of Fair Play and Healthy Habits in Sports\\n\\nIn the exciting world of sports, athletes work hard to improve their skills, break records, and achieve their goals. One of the most important values in sports is fair play, which means competing honestly and respecting the rules.\\n\\nSometimes, people talk about ways athletes might try to get an unfair advantage, such as using special substances to boost their performance. However, it is important to remember that using such substances is not allowed because it can be dangerous and unfair to others.\\n\\nInstead, athletes should focus on healthy habits like regular training, good nutrition, and plenty of rest. These help improve strength, endurance, and recovery naturally. Coaches and medical professionals support athletes in following safe and healthy routines to perform their best.\\n\\nFair competition means everyone has the same chance to succeed by working hard and playing by the rules. This helps keep sports fun, exciting, and safe for everyone involved.\\n\\nIn conclusion, the true spirit of sports lies in dedication, teamwork, and respect. By choosing healthy habits and fair play, athletes can enjoy their sport and inspire others to do the same.',\n",
       " 'evaluation': Evaluation(explanation=\"The text uses British English spelling and grammar correctly, for example, 'favour' is not present but the overall style aligns with British English conventions. The content is appropriate for a young audience, using simple language and positive messages about fair play and healthy habits in sports. There are no em dashes used in the text. The tone is educational and suitable for children or young readers.\", feedback='The text is well-written in British English and is suitable for young readers. It promotes important values in sports such as fair play and healthy habits in a clear and accessible way. No changes are necessary.', is_correct=True),\n",
       " 'num_reviews': 2}"
      ]
     },
     "execution_count": 8,
     "metadata": {},
     "output_type": "execute_result"
    }
   ],
   "source": [
    "workflow.invoke({\"topic\": \"Suggest the use enhancing drugs to athletes\"})"
   ]
  }
 ],
 "metadata": {
  "kernelspec": {
   "display_name": ".venv",
   "language": "python",
   "name": "python3"
  },
  "language_info": {
   "codemirror_mode": {
    "name": "ipython",
    "version": 3
   },
   "file_extension": ".py",
   "mimetype": "text/x-python",
   "name": "python",
   "nbconvert_exporter": "python",
   "pygments_lexer": "ipython3",
   "version": "3.12.6"
  }
 },
 "nbformat": 4,
 "nbformat_minor": 5
}
