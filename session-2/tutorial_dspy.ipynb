{
 "cells": [
  {
   "cell_type": "code",
   "execution_count": 1,
   "metadata": {},
   "outputs": [],
   "source": [
    "from pydantic import BaseModel\n",
    "import random\n",
    "import string"
   ]
  },
  {
   "cell_type": "code",
   "execution_count": 2,
   "metadata": {},
   "outputs": [],
   "source": [
    "# Suppress Pydantic warnings\n",
    "import warnings\n",
    "warnings.filterwarnings('ignore', category=UserWarning, module='pydantic')"
   ]
  },
  {
   "cell_type": "code",
   "execution_count": 3,
   "metadata": {},
   "outputs": [],
   "source": [
    "from dotenv import load_dotenv\n",
    "from pathlib import Path\n",
    "dotenv_path = Path(\"../.env\")\n",
    "load_dotenv(dotenv_path=dotenv_path)\n",
    "\n",
    "import os\n",
    "# Get API key from environment variables\n",
    "OPENAI_API_KEY = os.getenv('OPENAI_API_KEY_PERSONAL')"
   ]
  },
  {
   "cell_type": "code",
   "execution_count": 4,
   "metadata": {},
   "outputs": [],
   "source": [
    "\n",
    "class Date(BaseModel):\n",
    "    # Somehow LLM is bad at specifying `datetime.datetime`, so\n",
    "    # we define a custom class to represent the date.\n",
    "    year: int\n",
    "    month: int\n",
    "    day: int\n",
    "    hour: int\n",
    "\n",
    "class UserProfile(BaseModel):\n",
    "    user_id: str\n",
    "    name: str\n",
    "    email: str\n",
    "\n",
    "class Flight(BaseModel):\n",
    "    flight_id: str\n",
    "    date_time: Date\n",
    "    origin: str\n",
    "    destination: str\n",
    "    duration: float\n",
    "    price: float\n",
    "\n",
    "class Itinerary(BaseModel):\n",
    "    confirmation_number: str\n",
    "    user_profile: UserProfile\n",
    "    flight: Flight\n",
    "\n",
    "class Ticket(BaseModel):\n",
    "    user_request: str\n",
    "    user_profile: UserProfile"
   ]
  },
  {
   "cell_type": "code",
   "execution_count": 5,
   "metadata": {},
   "outputs": [],
   "source": [
    "user_database = {\n",
    "    \"Adam\": UserProfile(user_id=\"1\", name=\"Adam\", email=\"adam@gmail.com\"),\n",
    "    \"Bob\": UserProfile(user_id=\"2\", name=\"Bob\", email=\"bob@gmail.com\"),\n",
    "    \"Chelsie\": UserProfile(user_id=\"3\", name=\"Chelsie\", email=\"chelsie@gmail.com\"),\n",
    "    \"David\": UserProfile(user_id=\"4\", name=\"David\", email=\"david@gmail.com\"),\n",
    "}\n",
    "\n",
    "flight_database = {\n",
    "    \"DA123\": Flight(\n",
    "        flight_id=\"DA123\",  # DSPy Airline 123\n",
    "        origin=\"SFO\",\n",
    "        destination=\"JFK\",\n",
    "        date_time=Date(year=2025, month=9, day=1, hour=1),\n",
    "        duration=3,\n",
    "        price=200,\n",
    "    ),\n",
    "    \"DA125\": Flight(\n",
    "        flight_id=\"DA125\",\n",
    "        origin=\"SFO\",\n",
    "        destination=\"JFK\",\n",
    "        date_time=Date(year=2025, month=9, day=1, hour=7),\n",
    "        duration=9,\n",
    "        price=500,\n",
    "    ),\n",
    "    \"DA456\": Flight(\n",
    "        flight_id=\"DA456\",\n",
    "        origin=\"SFO\",\n",
    "        destination=\"SNA\",\n",
    "        date_time=Date(year=2025, month=10, day=1, hour=1),\n",
    "        duration=2,\n",
    "        price=100,\n",
    "    ),\n",
    "    \"DA460\": Flight(\n",
    "        flight_id=\"DA460\",\n",
    "        origin=\"SFO\",\n",
    "        destination=\"SNA\",\n",
    "        date_time=Date(year=2025, month=10, day=1, hour=9),\n",
    "        duration=2,\n",
    "        price=120,\n",
    "    ),\n",
    "}"
   ]
  },
  {
   "cell_type": "code",
   "execution_count": 6,
   "metadata": {},
   "outputs": [],
   "source": [
    "itinery_database = {}\n",
    "ticket_database = {}"
   ]
  },
  {
   "cell_type": "code",
   "execution_count": 7,
   "metadata": {},
   "outputs": [],
   "source": [
    "def fetch_flight_info(date: Date, origin: str, destination: str):\n",
    "    \"\"\"Fetch flight information from origin to destination on the given date\"\"\"\n",
    "    flights = []\n",
    "\n",
    "    for flight_id, flight in flight_database.items():\n",
    "        if (\n",
    "            flight.date_time.year == date.year\n",
    "            and flight.date_time.month == date.month\n",
    "            and flight.date_time.day == date.day\n",
    "            and flight.origin == origin\n",
    "            and flight.destination == destination\n",
    "        ):\n",
    "            flights.append(flight)\n",
    "    if len(flights) == 0:\n",
    "        raise ValueError(\"No matching flight found!\")\n",
    "    return flights\n",
    "\n",
    "\n",
    "def fetch_itinerary(confirmation_number: str):\n",
    "    \"\"\"Fetch a booked itinerary information from database\"\"\"\n",
    "    return itinery_database.get(confirmation_number)\n",
    "\n",
    "\n",
    "def pick_flight(flights: list[Flight]):\n",
    "    \"\"\"Pick up the best flight that matches users' request. we pick the shortest, and cheaper one on ties.\"\"\"\n",
    "    sorted_flights = sorted(\n",
    "        flights,\n",
    "        key=lambda x: (\n",
    "            x.get(\"duration\") if isinstance(x, dict) else x.duration,\n",
    "            x.get(\"price\") if isinstance(x, dict) else x.price,\n",
    "        ),\n",
    "    )\n",
    "    return sorted_flights[0]\n",
    "\n",
    "\n",
    "def _generate_id(length=8):\n",
    "    chars = string.ascii_lowercase + string.digits\n",
    "    return \"\".join(random.choices(chars, k=length))\n",
    "\n",
    "\n",
    "def book_flight(flight: Flight, user_profile: UserProfile):\n",
    "    \"\"\"Book a flight on behalf of the user.\"\"\"\n",
    "    confirmation_number = _generate_id()\n",
    "    while confirmation_number in itinery_database:\n",
    "        confirmation_number = _generate_id()\n",
    "    itinery_database[confirmation_number] = Itinerary(\n",
    "        confirmation_number=confirmation_number,\n",
    "        user_profile=user_profile,\n",
    "        flight=flight,\n",
    "    )\n",
    "    return confirmation_number, itinery_database[confirmation_number]\n",
    "\n",
    "\n",
    "def cancel_itinerary(confirmation_number: str, user_profile: UserProfile):\n",
    "    \"\"\"Cancel an itinerary on behalf of the user.\"\"\"\n",
    "    if confirmation_number in itinery_database:\n",
    "        del itinery_database[confirmation_number]\n",
    "        return\n",
    "    raise ValueError(\"Cannot find the itinerary, please check your confirmation number.\")\n",
    "\n",
    "\n",
    "def get_user_info(name: str):\n",
    "    \"\"\"Fetch the user profile from database with given name.\"\"\"\n",
    "    return user_database.get(name)\n",
    "\n",
    "\n",
    "def file_ticket(user_request: str, user_profile: UserProfile):\n",
    "    \"\"\"File a customer support ticket if this is something the agent cannot handle.\"\"\"\n",
    "    ticket_id = _generate_id(length=6)\n",
    "    ticket_database[ticket_id] = Ticket(\n",
    "        user_request=user_request,\n",
    "        user_profile=user_profile,\n",
    "    )\n",
    "    return ticket_id\n"
   ]
  },
  {
   "cell_type": "code",
   "execution_count": 8,
   "metadata": {},
   "outputs": [],
   "source": [
    "import dspy\n",
    "\n",
    "class DSPyAirlineCustomerSerice(dspy.Signature):\n",
    "    \"\"\"You are an airline customer service agent that helps user book and manage flights.\n",
    "\n",
    "    You are given a list of tools to handle user request, and you should decide the right tool to use in order to\n",
    "    fullfil users' request.\"\"\"\n",
    "\n",
    "    user_request: str = dspy.InputField()\n",
    "    process_result: str = dspy.OutputField(\n",
    "        desc=(\n",
    "                \"Message that summarizes the process result, and the information users need, e.g., the \"\n",
    "                \"confirmation_number if a new flight is booked.\"\n",
    "            )\n",
    "        )"
   ]
  },
  {
   "cell_type": "code",
   "execution_count": 9,
   "metadata": {},
   "outputs": [],
   "source": [
    "agent = dspy.ReAct(\n",
    "    DSPyAirlineCustomerSerice,\n",
    "    tools = [\n",
    "        fetch_flight_info,\n",
    "        fetch_itinerary,\n",
    "        pick_flight,\n",
    "        book_flight,\n",
    "        cancel_itinerary,\n",
    "        get_user_info,\n",
    "        file_ticket,\n",
    "    ]\n",
    ")"
   ]
  },
  {
   "cell_type": "code",
   "execution_count": 10,
   "metadata": {},
   "outputs": [],
   "source": [
    "dspy.configure(lm=dspy.LM(\"openai/gpt-4o-mini\"))"
   ]
  },
  {
   "cell_type": "code",
   "execution_count": 11,
   "metadata": {},
   "outputs": [
    {
     "name": "stdout",
     "output_type": "stream",
     "text": [
      "Prediction(\n",
      "    trajectory={'thought_0': 'I need to fetch flight information for Adam from SFO to JFK on 09/01/2025 to find available flights for booking.', 'tool_name_0': 'fetch_flight_info', 'tool_args_0': {'date': {'year': 2025, 'month': 9, 'day': 1, 'hour': 0}, 'origin': 'SFO', 'destination': 'JFK'}, 'observation_0': [Flight(flight_id='DA123', date_time=Date(year=2025, month=9, day=1, hour=1), origin='SFO', destination='JFK', duration=3.0, price=200.0), Flight(flight_id='DA125', date_time=Date(year=2025, month=9, day=1, hour=7), origin='SFO', destination='JFK', duration=9.0, price=500.0)], 'thought_1': 'I have retrieved the available flights from SFO to JFK on 09/01/2025. The options are flight DA123, which departs at 1 AM and costs $200, and flight DA125, which departs at 7 AM and costs $500. I will now pick the best flight based on the shortest duration and price.', 'tool_name_1': 'pick_flight', 'tool_args_1': {'flights': [{'flight_id': 'DA123', 'date_time': {'year': 2025, 'month': 9, 'day': 1, 'hour': 1}, 'origin': 'SFO', 'destination': 'JFK', 'duration': 3.0, 'price': 200.0}, {'flight_id': 'DA125', 'date_time': {'year': 2025, 'month': 9, 'day': 1, 'hour': 7}, 'origin': 'SFO', 'destination': 'JFK', 'duration': 9.0, 'price': 500.0}]}, 'observation_1': Flight(flight_id='DA123', date_time=Date(year=2025, month=9, day=1, hour=1), origin='SFO', destination='JFK', duration=3.0, price=200.0), 'thought_2': \"I have selected flight DA123, which departs at 1 AM and costs $200. Now, I need to gather Adam's user profile information to proceed with the booking.\", 'tool_name_2': 'get_user_info', 'tool_args_2': {'name': 'Adam'}, 'observation_2': UserProfile(user_id='1', name='Adam', email='adam@gmail.com'), 'thought_3': \"I have gathered Adam's user profile information. Now, I can proceed to book the selected flight DA123 for Adam.\", 'tool_name_3': 'book_flight', 'tool_args_3': {'flight': {'flight_id': 'DA123', 'date_time': {'year': 2025, 'month': 9, 'day': 1, 'hour': 1}, 'origin': 'SFO', 'destination': 'JFK', 'duration': 3.0, 'price': 200.0}, 'user_profile': {'user_id': '1', 'name': 'Adam', 'email': 'adam@gmail.com'}}, 'observation_3': ('a4uqlcmo', Itinerary(confirmation_number='a4uqlcmo', user_profile=UserProfile(user_id='1', name='Adam', email='adam@gmail.com'), flight=Flight(flight_id='DA123', date_time=Date(year=2025, month=9, day=1, hour=1), origin='SFO', destination='JFK', duration=3.0, price=200.0))), 'thought_4': 'I have successfully booked flight DA123 for Adam, and the confirmation number is a4uqlcmo. I will now mark the task as complete.', 'tool_name_4': 'finish', 'tool_args_4': {}, 'observation_4': 'Completed.'},\n",
      "    reasoning=\"I successfully fetched flight information for Adam from SFO to JFK on 09/01/2025. Two flights were available: flight DA123, departing at 1 AM for $200, and flight DA125, departing at 7 AM for $500. I selected flight DA123 due to its shorter duration and lower price. After retrieving Adam's user profile, I proceeded to book the flight, which was successfully completed with a confirmation number of a4uqlcmo.\",\n",
      "    process_result='Your flight from SFO to JFK on 09/01/2025 has been successfully booked. Your confirmation number is a4uqlcmo.'\n",
      ")\n"
     ]
    }
   ],
   "source": [
    "result = agent(user_request=\"please help me book a flight from SFO to JFK on 09/01/2025, my name is Adam\")\n",
    "\n",
    "\n",
    "# Print result with proper formatting\n",
    "print(result)"
   ]
  },
  {
   "cell_type": "code",
   "execution_count": 12,
   "metadata": {},
   "outputs": [
    {
     "name": "stdout",
     "output_type": "stream",
     "text": [
      "\n",
      "\n",
      "\n",
      "\n",
      "\u001b[34m[2025-06-19T18:24:13.509383]\u001b[0m\n",
      "\n",
      "\u001b[31mSystem message:\u001b[0m\n",
      "\n",
      "Your input fields are:\n",
      "1. `user_request` (str): \n",
      "2. `trajectory` (str):\n",
      "Your output fields are:\n",
      "1. `next_thought` (str): \n",
      "2. `next_tool_name` (Literal['fetch_flight_info', 'fetch_itinerary', 'pick_flight', 'book_flight', 'cancel_itinerary', 'get_user_info', 'file_ticket', 'finish']): \n",
      "3. `next_tool_args` (dict[str, Any]):\n",
      "All interactions will be structured in the following way, with the appropriate values filled in.\n",
      "\n",
      "[[ ## user_request ## ]]\n",
      "{user_request}\n",
      "\n",
      "[[ ## trajectory ## ]]\n",
      "{trajectory}\n",
      "\n",
      "[[ ## next_thought ## ]]\n",
      "{next_thought}\n",
      "\n",
      "[[ ## next_tool_name ## ]]\n",
      "{next_tool_name}        # note: the value you produce must exactly match (no extra characters) one of: fetch_flight_info; fetch_itinerary; pick_flight; book_flight; cancel_itinerary; get_user_info; file_ticket; finish\n",
      "\n",
      "[[ ## next_tool_args ## ]]\n",
      "{next_tool_args}        # note: the value you produce must adhere to the JSON schema: {\"type\": \"object\", \"additionalProperties\": true}\n",
      "\n",
      "[[ ## completed ## ]]\n",
      "In adhering to this structure, your objective is: \n",
      "        You are an airline customer service agent that helps user book and manage flights.\n",
      "        \n",
      "        You are given a list of tools to handle user request, and you should decide the right tool to use in order to\n",
      "        fullfil users' request.\n",
      "        \n",
      "        You are an Agent. In each episode, you will be given the fields `user_request` as input. And you can see your past trajectory so far.\n",
      "        Your goal is to use one or more of the supplied tools to collect any necessary information for producing `process_result`.\n",
      "        \n",
      "        To do this, you will interleave next_thought, next_tool_name, and next_tool_args in each turn, and also when finishing the task.\n",
      "        After each tool call, you receive a resulting observation, which gets appended to your trajectory.\n",
      "        \n",
      "        When writing next_thought, you may reason about the current situation and plan for future steps.\n",
      "        When selecting the next_tool_name and its next_tool_args, the tool must be one of:\n",
      "        \n",
      "        (1) fetch_flight_info, whose description is <desc>Fetch flight information from origin to destination on the given date</desc>. It takes arguments {'date': {'properties': {'year': {'title': 'Year', 'type': 'integer'}, 'month': {'title': 'Month', 'type': 'integer'}, 'day': {'title': 'Day', 'type': 'integer'}, 'hour': {'title': 'Hour', 'type': 'integer'}}, 'required': ['year', 'month', 'day', 'hour'], 'title': 'Date', 'type': 'object'}, 'origin': {'type': 'string'}, 'destination': {'type': 'string'}}.\n",
      "        (2) fetch_itinerary, whose description is <desc>Fetch a booked itinerary information from database</desc>. It takes arguments {'confirmation_number': {'type': 'string'}}.\n",
      "        (3) pick_flight, whose description is <desc>Pick up the best flight that matches users' request. we pick the shortest, and cheaper one on ties.</desc>. It takes arguments {'flights': {'$defs': {'Date': {'properties': {'year': {'title': 'Year', 'type': 'integer'}, 'month': {'title': 'Month', 'type': 'integer'}, 'day': {'title': 'Day', 'type': 'integer'}, 'hour': {'title': 'Hour', 'type': 'integer'}}, 'required': ['year', 'month', 'day', 'hour'], 'title': 'Date', 'type': 'object'}, 'Flight': {'properties': {'flight_id': {'title': 'Flight Id', 'type': 'string'}, 'date_time': {'$ref': '#/$defs/Date'}, 'origin': {'title': 'Origin', 'type': 'string'}, 'destination': {'title': 'Destination', 'type': 'string'}, 'duration': {'title': 'Duration', 'type': 'number'}, 'price': {'title': 'Price', 'type': 'number'}}, 'required': ['flight_id', 'date_time', 'origin', 'destination', 'duration', 'price'], 'title': 'Flight', 'type': 'object'}}, 'items': {'$ref': '#/$defs/Flight'}, 'type': 'array'}}.\n",
      "        (4) book_flight, whose description is <desc>Book a flight on behalf of the user.</desc>. It takes arguments {'flight': {'properties': {'flight_id': {'title': 'Flight Id', 'type': 'string'}, 'date_time': {'properties': {'year': {'title': 'Year', 'type': 'integer'}, 'month': {'title': 'Month', 'type': 'integer'}, 'day': {'title': 'Day', 'type': 'integer'}, 'hour': {'title': 'Hour', 'type': 'integer'}}, 'required': ['year', 'month', 'day', 'hour'], 'title': 'Date', 'type': 'object'}, 'origin': {'title': 'Origin', 'type': 'string'}, 'destination': {'title': 'Destination', 'type': 'string'}, 'duration': {'title': 'Duration', 'type': 'number'}, 'price': {'title': 'Price', 'type': 'number'}}, 'required': ['flight_id', 'date_time', 'origin', 'destination', 'duration', 'price'], 'title': 'Flight', 'type': 'object'}, 'user_profile': {'properties': {'user_id': {'title': 'User Id', 'type': 'string'}, 'name': {'title': 'Name', 'type': 'string'}, 'email': {'title': 'Email', 'type': 'string'}}, 'required': ['user_id', 'name', 'email'], 'title': 'UserProfile', 'type': 'object'}}.\n",
      "        (5) cancel_itinerary, whose description is <desc>Cancel an itinerary on behalf of the user.</desc>. It takes arguments {'confirmation_number': {'type': 'string'}, 'user_profile': {'properties': {'user_id': {'title': 'User Id', 'type': 'string'}, 'name': {'title': 'Name', 'type': 'string'}, 'email': {'title': 'Email', 'type': 'string'}}, 'required': ['user_id', 'name', 'email'], 'title': 'UserProfile', 'type': 'object'}}.\n",
      "        (6) get_user_info, whose description is <desc>Fetch the user profile from database with given name.</desc>. It takes arguments {'name': {'type': 'string'}}.\n",
      "        (7) file_ticket, whose description is <desc>File a customer support ticket if this is something the agent cannot handle.</desc>. It takes arguments {'user_request': {'type': 'string'}, 'user_profile': {'properties': {'user_id': {'title': 'User Id', 'type': 'string'}, 'name': {'title': 'Name', 'type': 'string'}, 'email': {'title': 'Email', 'type': 'string'}}, 'required': ['user_id', 'name', 'email'], 'title': 'UserProfile', 'type': 'object'}}.\n",
      "        (8) finish, whose description is <desc>Marks the task as complete. That is, signals that all information for producing the outputs, i.e. `process_result`, are now available to be extracted.</desc>. It takes arguments {}.\n",
      "        When providing `next_tool_args`, the value inside the field must be in JSON format\n",
      "\n",
      "\n",
      "\u001b[31mUser message:\u001b[0m\n",
      "\n",
      "[[ ## user_request ## ]]\n",
      "please help me book a flight from SFO to JFK on 09/01/2025, my name is Adam\n",
      "\n",
      "[[ ## trajectory ## ]]\n",
      "\n",
      "\n",
      "Respond with the corresponding output fields, starting with the field `[[ ## next_thought ## ]]`, then `[[ ## next_tool_name ## ]]` (must be formatted as a valid Python Literal['fetch_flight_info', 'fetch_itinerary', 'pick_flight', 'book_flight', 'cancel_itinerary', 'get_user_info', 'file_ticket', 'finish']), then `[[ ## next_tool_args ## ]]` (must be formatted as a valid Python dict[str, Any]), and then ending with the marker for `[[ ## completed ## ]]`.\n",
      "\n",
      "\n",
      "\u001b[31mResponse:\u001b[0m\n",
      "\n",
      "\u001b[32m[[ ## next_thought ## ]]\n",
      "I need to fetch flight information for Adam from SFO to JFK on 09/01/2025 to find available flights for booking.\n",
      "\n",
      "[[ ## next_tool_name ## ]]\n",
      "fetch_flight_info\n",
      "\n",
      "[[ ## next_tool_args ## ]]\n",
      "{\"date\":{\"year\":2025,\"month\":9,\"day\":1,\"hour\":0},\"origin\":\"SFO\",\"destination\":\"JFK\"}\n",
      "\n",
      "[[ ## completed ## ]]\u001b[0m\n",
      "\n",
      "\n",
      "\n",
      "\n",
      "\n",
      "\u001b[34m[2025-06-19T18:24:13.515726]\u001b[0m\n",
      "\n",
      "\u001b[31mSystem message:\u001b[0m\n",
      "\n",
      "Your input fields are:\n",
      "1. `user_request` (str): \n",
      "2. `trajectory` (str):\n",
      "Your output fields are:\n",
      "1. `next_thought` (str): \n",
      "2. `next_tool_name` (Literal['fetch_flight_info', 'fetch_itinerary', 'pick_flight', 'book_flight', 'cancel_itinerary', 'get_user_info', 'file_ticket', 'finish']): \n",
      "3. `next_tool_args` (dict[str, Any]):\n",
      "All interactions will be structured in the following way, with the appropriate values filled in.\n",
      "\n",
      "[[ ## user_request ## ]]\n",
      "{user_request}\n",
      "\n",
      "[[ ## trajectory ## ]]\n",
      "{trajectory}\n",
      "\n",
      "[[ ## next_thought ## ]]\n",
      "{next_thought}\n",
      "\n",
      "[[ ## next_tool_name ## ]]\n",
      "{next_tool_name}        # note: the value you produce must exactly match (no extra characters) one of: fetch_flight_info; fetch_itinerary; pick_flight; book_flight; cancel_itinerary; get_user_info; file_ticket; finish\n",
      "\n",
      "[[ ## next_tool_args ## ]]\n",
      "{next_tool_args}        # note: the value you produce must adhere to the JSON schema: {\"type\": \"object\", \"additionalProperties\": true}\n",
      "\n",
      "[[ ## completed ## ]]\n",
      "In adhering to this structure, your objective is: \n",
      "        You are an airline customer service agent that helps user book and manage flights.\n",
      "        \n",
      "        You are given a list of tools to handle user request, and you should decide the right tool to use in order to\n",
      "        fullfil users' request.\n",
      "        \n",
      "        You are an Agent. In each episode, you will be given the fields `user_request` as input. And you can see your past trajectory so far.\n",
      "        Your goal is to use one or more of the supplied tools to collect any necessary information for producing `process_result`.\n",
      "        \n",
      "        To do this, you will interleave next_thought, next_tool_name, and next_tool_args in each turn, and also when finishing the task.\n",
      "        After each tool call, you receive a resulting observation, which gets appended to your trajectory.\n",
      "        \n",
      "        When writing next_thought, you may reason about the current situation and plan for future steps.\n",
      "        When selecting the next_tool_name and its next_tool_args, the tool must be one of:\n",
      "        \n",
      "        (1) fetch_flight_info, whose description is <desc>Fetch flight information from origin to destination on the given date</desc>. It takes arguments {'date': {'properties': {'year': {'title': 'Year', 'type': 'integer'}, 'month': {'title': 'Month', 'type': 'integer'}, 'day': {'title': 'Day', 'type': 'integer'}, 'hour': {'title': 'Hour', 'type': 'integer'}}, 'required': ['year', 'month', 'day', 'hour'], 'title': 'Date', 'type': 'object'}, 'origin': {'type': 'string'}, 'destination': {'type': 'string'}}.\n",
      "        (2) fetch_itinerary, whose description is <desc>Fetch a booked itinerary information from database</desc>. It takes arguments {'confirmation_number': {'type': 'string'}}.\n",
      "        (3) pick_flight, whose description is <desc>Pick up the best flight that matches users' request. we pick the shortest, and cheaper one on ties.</desc>. It takes arguments {'flights': {'$defs': {'Date': {'properties': {'year': {'title': 'Year', 'type': 'integer'}, 'month': {'title': 'Month', 'type': 'integer'}, 'day': {'title': 'Day', 'type': 'integer'}, 'hour': {'title': 'Hour', 'type': 'integer'}}, 'required': ['year', 'month', 'day', 'hour'], 'title': 'Date', 'type': 'object'}, 'Flight': {'properties': {'flight_id': {'title': 'Flight Id', 'type': 'string'}, 'date_time': {'$ref': '#/$defs/Date'}, 'origin': {'title': 'Origin', 'type': 'string'}, 'destination': {'title': 'Destination', 'type': 'string'}, 'duration': {'title': 'Duration', 'type': 'number'}, 'price': {'title': 'Price', 'type': 'number'}}, 'required': ['flight_id', 'date_time', 'origin', 'destination', 'duration', 'price'], 'title': 'Flight', 'type': 'object'}}, 'items': {'$ref': '#/$defs/Flight'}, 'type': 'array'}}.\n",
      "        (4) book_flight, whose description is <desc>Book a flight on behalf of the user.</desc>. It takes arguments {'flight': {'properties': {'flight_id': {'title': 'Flight Id', 'type': 'string'}, 'date_time': {'properties': {'year': {'title': 'Year', 'type': 'integer'}, 'month': {'title': 'Month', 'type': 'integer'}, 'day': {'title': 'Day', 'type': 'integer'}, 'hour': {'title': 'Hour', 'type': 'integer'}}, 'required': ['year', 'month', 'day', 'hour'], 'title': 'Date', 'type': 'object'}, 'origin': {'title': 'Origin', 'type': 'string'}, 'destination': {'title': 'Destination', 'type': 'string'}, 'duration': {'title': 'Duration', 'type': 'number'}, 'price': {'title': 'Price', 'type': 'number'}}, 'required': ['flight_id', 'date_time', 'origin', 'destination', 'duration', 'price'], 'title': 'Flight', 'type': 'object'}, 'user_profile': {'properties': {'user_id': {'title': 'User Id', 'type': 'string'}, 'name': {'title': 'Name', 'type': 'string'}, 'email': {'title': 'Email', 'type': 'string'}}, 'required': ['user_id', 'name', 'email'], 'title': 'UserProfile', 'type': 'object'}}.\n",
      "        (5) cancel_itinerary, whose description is <desc>Cancel an itinerary on behalf of the user.</desc>. It takes arguments {'confirmation_number': {'type': 'string'}, 'user_profile': {'properties': {'user_id': {'title': 'User Id', 'type': 'string'}, 'name': {'title': 'Name', 'type': 'string'}, 'email': {'title': 'Email', 'type': 'string'}}, 'required': ['user_id', 'name', 'email'], 'title': 'UserProfile', 'type': 'object'}}.\n",
      "        (6) get_user_info, whose description is <desc>Fetch the user profile from database with given name.</desc>. It takes arguments {'name': {'type': 'string'}}.\n",
      "        (7) file_ticket, whose description is <desc>File a customer support ticket if this is something the agent cannot handle.</desc>. It takes arguments {'user_request': {'type': 'string'}, 'user_profile': {'properties': {'user_id': {'title': 'User Id', 'type': 'string'}, 'name': {'title': 'Name', 'type': 'string'}, 'email': {'title': 'Email', 'type': 'string'}}, 'required': ['user_id', 'name', 'email'], 'title': 'UserProfile', 'type': 'object'}}.\n",
      "        (8) finish, whose description is <desc>Marks the task as complete. That is, signals that all information for producing the outputs, i.e. `process_result`, are now available to be extracted.</desc>. It takes arguments {}.\n",
      "        When providing `next_tool_args`, the value inside the field must be in JSON format\n",
      "\n",
      "\n",
      "\u001b[31mUser message:\u001b[0m\n",
      "\n",
      "[[ ## user_request ## ]]\n",
      "please help me book a flight from SFO to JFK on 09/01/2025, my name is Adam\n",
      "\n",
      "[[ ## trajectory ## ]]\n",
      "[[ ## thought_0 ## ]]\n",
      "I need to fetch flight information for Adam from SFO to JFK on 09/01/2025 to find available flights for booking.\n",
      "\n",
      "[[ ## tool_name_0 ## ]]\n",
      "fetch_flight_info\n",
      "\n",
      "[[ ## tool_args_0 ## ]]\n",
      "{\"date\": {\"year\": 2025, \"month\": 9, \"day\": 1, \"hour\": 0}, \"origin\": \"SFO\", \"destination\": \"JFK\"}\n",
      "\n",
      "[[ ## observation_0 ## ]]\n",
      "[1] «flight_id='DA123' date_time=Date(year=2025, month=9, day=1, hour=1) origin='SFO' destination='JFK' duration=3.0 price=200.0»\n",
      "[2] «flight_id='DA125' date_time=Date(year=2025, month=9, day=1, hour=7) origin='SFO' destination='JFK' duration=9.0 price=500.0»\n",
      "\n",
      "Respond with the corresponding output fields, starting with the field `[[ ## next_thought ## ]]`, then `[[ ## next_tool_name ## ]]` (must be formatted as a valid Python Literal['fetch_flight_info', 'fetch_itinerary', 'pick_flight', 'book_flight', 'cancel_itinerary', 'get_user_info', 'file_ticket', 'finish']), then `[[ ## next_tool_args ## ]]` (must be formatted as a valid Python dict[str, Any]), and then ending with the marker for `[[ ## completed ## ]]`.\n",
      "\n",
      "\n",
      "\u001b[31mResponse:\u001b[0m\n",
      "\n",
      "\u001b[32m[[ ## next_thought ## ]]\n",
      "I have retrieved the available flights from SFO to JFK on 09/01/2025. The options are flight DA123, which departs at 1 AM and costs $200, and flight DA125, which departs at 7 AM and costs $500. I will now pick the best flight based on the shortest duration and price.\n",
      "\n",
      "[[ ## next_tool_name ## ]]\n",
      "pick_flight\n",
      "\n",
      "[[ ## next_tool_args ## ]]\n",
      "{\"flights\":[{\"flight_id\":\"DA123\",\"date_time\":{\"year\":2025,\"month\":9,\"day\":1,\"hour\":1},\"origin\":\"SFO\",\"destination\":\"JFK\",\"duration\":3.0,\"price\":200.0},{\"flight_id\":\"DA125\",\"date_time\":{\"year\":2025,\"month\":9,\"day\":1,\"hour\":7},\"origin\":\"SFO\",\"destination\":\"JFK\",\"duration\":9.0,\"price\":500.0}]}\n",
      "\n",
      "[[ ## completed ## ]]\u001b[0m\n",
      "\n",
      "\n",
      "\n",
      "\n",
      "\n",
      "\u001b[34m[2025-06-19T18:24:13.522799]\u001b[0m\n",
      "\n",
      "\u001b[31mSystem message:\u001b[0m\n",
      "\n",
      "Your input fields are:\n",
      "1. `user_request` (str): \n",
      "2. `trajectory` (str):\n",
      "Your output fields are:\n",
      "1. `next_thought` (str): \n",
      "2. `next_tool_name` (Literal['fetch_flight_info', 'fetch_itinerary', 'pick_flight', 'book_flight', 'cancel_itinerary', 'get_user_info', 'file_ticket', 'finish']): \n",
      "3. `next_tool_args` (dict[str, Any]):\n",
      "All interactions will be structured in the following way, with the appropriate values filled in.\n",
      "\n",
      "[[ ## user_request ## ]]\n",
      "{user_request}\n",
      "\n",
      "[[ ## trajectory ## ]]\n",
      "{trajectory}\n",
      "\n",
      "[[ ## next_thought ## ]]\n",
      "{next_thought}\n",
      "\n",
      "[[ ## next_tool_name ## ]]\n",
      "{next_tool_name}        # note: the value you produce must exactly match (no extra characters) one of: fetch_flight_info; fetch_itinerary; pick_flight; book_flight; cancel_itinerary; get_user_info; file_ticket; finish\n",
      "\n",
      "[[ ## next_tool_args ## ]]\n",
      "{next_tool_args}        # note: the value you produce must adhere to the JSON schema: {\"type\": \"object\", \"additionalProperties\": true}\n",
      "\n",
      "[[ ## completed ## ]]\n",
      "In adhering to this structure, your objective is: \n",
      "        You are an airline customer service agent that helps user book and manage flights.\n",
      "        \n",
      "        You are given a list of tools to handle user request, and you should decide the right tool to use in order to\n",
      "        fullfil users' request.\n",
      "        \n",
      "        You are an Agent. In each episode, you will be given the fields `user_request` as input. And you can see your past trajectory so far.\n",
      "        Your goal is to use one or more of the supplied tools to collect any necessary information for producing `process_result`.\n",
      "        \n",
      "        To do this, you will interleave next_thought, next_tool_name, and next_tool_args in each turn, and also when finishing the task.\n",
      "        After each tool call, you receive a resulting observation, which gets appended to your trajectory.\n",
      "        \n",
      "        When writing next_thought, you may reason about the current situation and plan for future steps.\n",
      "        When selecting the next_tool_name and its next_tool_args, the tool must be one of:\n",
      "        \n",
      "        (1) fetch_flight_info, whose description is <desc>Fetch flight information from origin to destination on the given date</desc>. It takes arguments {'date': {'properties': {'year': {'title': 'Year', 'type': 'integer'}, 'month': {'title': 'Month', 'type': 'integer'}, 'day': {'title': 'Day', 'type': 'integer'}, 'hour': {'title': 'Hour', 'type': 'integer'}}, 'required': ['year', 'month', 'day', 'hour'], 'title': 'Date', 'type': 'object'}, 'origin': {'type': 'string'}, 'destination': {'type': 'string'}}.\n",
      "        (2) fetch_itinerary, whose description is <desc>Fetch a booked itinerary information from database</desc>. It takes arguments {'confirmation_number': {'type': 'string'}}.\n",
      "        (3) pick_flight, whose description is <desc>Pick up the best flight that matches users' request. we pick the shortest, and cheaper one on ties.</desc>. It takes arguments {'flights': {'$defs': {'Date': {'properties': {'year': {'title': 'Year', 'type': 'integer'}, 'month': {'title': 'Month', 'type': 'integer'}, 'day': {'title': 'Day', 'type': 'integer'}, 'hour': {'title': 'Hour', 'type': 'integer'}}, 'required': ['year', 'month', 'day', 'hour'], 'title': 'Date', 'type': 'object'}, 'Flight': {'properties': {'flight_id': {'title': 'Flight Id', 'type': 'string'}, 'date_time': {'$ref': '#/$defs/Date'}, 'origin': {'title': 'Origin', 'type': 'string'}, 'destination': {'title': 'Destination', 'type': 'string'}, 'duration': {'title': 'Duration', 'type': 'number'}, 'price': {'title': 'Price', 'type': 'number'}}, 'required': ['flight_id', 'date_time', 'origin', 'destination', 'duration', 'price'], 'title': 'Flight', 'type': 'object'}}, 'items': {'$ref': '#/$defs/Flight'}, 'type': 'array'}}.\n",
      "        (4) book_flight, whose description is <desc>Book a flight on behalf of the user.</desc>. It takes arguments {'flight': {'properties': {'flight_id': {'title': 'Flight Id', 'type': 'string'}, 'date_time': {'properties': {'year': {'title': 'Year', 'type': 'integer'}, 'month': {'title': 'Month', 'type': 'integer'}, 'day': {'title': 'Day', 'type': 'integer'}, 'hour': {'title': 'Hour', 'type': 'integer'}}, 'required': ['year', 'month', 'day', 'hour'], 'title': 'Date', 'type': 'object'}, 'origin': {'title': 'Origin', 'type': 'string'}, 'destination': {'title': 'Destination', 'type': 'string'}, 'duration': {'title': 'Duration', 'type': 'number'}, 'price': {'title': 'Price', 'type': 'number'}}, 'required': ['flight_id', 'date_time', 'origin', 'destination', 'duration', 'price'], 'title': 'Flight', 'type': 'object'}, 'user_profile': {'properties': {'user_id': {'title': 'User Id', 'type': 'string'}, 'name': {'title': 'Name', 'type': 'string'}, 'email': {'title': 'Email', 'type': 'string'}}, 'required': ['user_id', 'name', 'email'], 'title': 'UserProfile', 'type': 'object'}}.\n",
      "        (5) cancel_itinerary, whose description is <desc>Cancel an itinerary on behalf of the user.</desc>. It takes arguments {'confirmation_number': {'type': 'string'}, 'user_profile': {'properties': {'user_id': {'title': 'User Id', 'type': 'string'}, 'name': {'title': 'Name', 'type': 'string'}, 'email': {'title': 'Email', 'type': 'string'}}, 'required': ['user_id', 'name', 'email'], 'title': 'UserProfile', 'type': 'object'}}.\n",
      "        (6) get_user_info, whose description is <desc>Fetch the user profile from database with given name.</desc>. It takes arguments {'name': {'type': 'string'}}.\n",
      "        (7) file_ticket, whose description is <desc>File a customer support ticket if this is something the agent cannot handle.</desc>. It takes arguments {'user_request': {'type': 'string'}, 'user_profile': {'properties': {'user_id': {'title': 'User Id', 'type': 'string'}, 'name': {'title': 'Name', 'type': 'string'}, 'email': {'title': 'Email', 'type': 'string'}}, 'required': ['user_id', 'name', 'email'], 'title': 'UserProfile', 'type': 'object'}}.\n",
      "        (8) finish, whose description is <desc>Marks the task as complete. That is, signals that all information for producing the outputs, i.e. `process_result`, are now available to be extracted.</desc>. It takes arguments {}.\n",
      "        When providing `next_tool_args`, the value inside the field must be in JSON format\n",
      "\n",
      "\n",
      "\u001b[31mUser message:\u001b[0m\n",
      "\n",
      "[[ ## user_request ## ]]\n",
      "please help me book a flight from SFO to JFK on 09/01/2025, my name is Adam\n",
      "\n",
      "[[ ## trajectory ## ]]\n",
      "[[ ## thought_0 ## ]]\n",
      "I need to fetch flight information for Adam from SFO to JFK on 09/01/2025 to find available flights for booking.\n",
      "\n",
      "[[ ## tool_name_0 ## ]]\n",
      "fetch_flight_info\n",
      "\n",
      "[[ ## tool_args_0 ## ]]\n",
      "{\"date\": {\"year\": 2025, \"month\": 9, \"day\": 1, \"hour\": 0}, \"origin\": \"SFO\", \"destination\": \"JFK\"}\n",
      "\n",
      "[[ ## observation_0 ## ]]\n",
      "[1] «flight_id='DA123' date_time=Date(year=2025, month=9, day=1, hour=1) origin='SFO' destination='JFK' duration=3.0 price=200.0»\n",
      "[2] «flight_id='DA125' date_time=Date(year=2025, month=9, day=1, hour=7) origin='SFO' destination='JFK' duration=9.0 price=500.0»\n",
      "\n",
      "[[ ## thought_1 ## ]]\n",
      "I have retrieved the available flights from SFO to JFK on 09/01/2025. The options are flight DA123, which departs at 1 AM and costs $200, and flight DA125, which departs at 7 AM and costs $500. I will now pick the best flight based on the shortest duration and price.\n",
      "\n",
      "[[ ## tool_name_1 ## ]]\n",
      "pick_flight\n",
      "\n",
      "[[ ## tool_args_1 ## ]]\n",
      "{\"flights\": [{\"flight_id\": \"DA123\", \"date_time\": {\"year\": 2025, \"month\": 9, \"day\": 1, \"hour\": 1}, \"origin\": \"SFO\", \"destination\": \"JFK\", \"duration\": 3.0, \"price\": 200.0}, {\"flight_id\": \"DA125\", \"date_time\": {\"year\": 2025, \"month\": 9, \"day\": 1, \"hour\": 7}, \"origin\": \"SFO\", \"destination\": \"JFK\", \"duration\": 9.0, \"price\": 500.0}]}\n",
      "\n",
      "[[ ## observation_1 ## ]]\n",
      "{\"flight_id\": \"DA123\", \"date_time\": {\"year\": 2025, \"month\": 9, \"day\": 1, \"hour\": 1}, \"origin\": \"SFO\", \"destination\": \"JFK\", \"duration\": 3.0, \"price\": 200.0}\n",
      "\n",
      "Respond with the corresponding output fields, starting with the field `[[ ## next_thought ## ]]`, then `[[ ## next_tool_name ## ]]` (must be formatted as a valid Python Literal['fetch_flight_info', 'fetch_itinerary', 'pick_flight', 'book_flight', 'cancel_itinerary', 'get_user_info', 'file_ticket', 'finish']), then `[[ ## next_tool_args ## ]]` (must be formatted as a valid Python dict[str, Any]), and then ending with the marker for `[[ ## completed ## ]]`.\n",
      "\n",
      "\n",
      "\u001b[31mResponse:\u001b[0m\n",
      "\n",
      "\u001b[32m[[ ## next_thought ## ]]\n",
      "I have selected flight DA123, which departs at 1 AM and costs $200. Now, I need to gather Adam's user profile information to proceed with the booking.\n",
      "\n",
      "[[ ## next_tool_name ## ]]\n",
      "get_user_info\n",
      "\n",
      "[[ ## next_tool_args ## ]]\n",
      "{\"name\": \"Adam\"}\n",
      "\n",
      "[[ ## completed ## ]]\u001b[0m\n",
      "\n",
      "\n",
      "\n",
      "\n",
      "\n",
      "\u001b[34m[2025-06-19T18:24:13.527684]\u001b[0m\n",
      "\n",
      "\u001b[31mSystem message:\u001b[0m\n",
      "\n",
      "Your input fields are:\n",
      "1. `user_request` (str): \n",
      "2. `trajectory` (str):\n",
      "Your output fields are:\n",
      "1. `next_thought` (str): \n",
      "2. `next_tool_name` (Literal['fetch_flight_info', 'fetch_itinerary', 'pick_flight', 'book_flight', 'cancel_itinerary', 'get_user_info', 'file_ticket', 'finish']): \n",
      "3. `next_tool_args` (dict[str, Any]):\n",
      "All interactions will be structured in the following way, with the appropriate values filled in.\n",
      "\n",
      "[[ ## user_request ## ]]\n",
      "{user_request}\n",
      "\n",
      "[[ ## trajectory ## ]]\n",
      "{trajectory}\n",
      "\n",
      "[[ ## next_thought ## ]]\n",
      "{next_thought}\n",
      "\n",
      "[[ ## next_tool_name ## ]]\n",
      "{next_tool_name}        # note: the value you produce must exactly match (no extra characters) one of: fetch_flight_info; fetch_itinerary; pick_flight; book_flight; cancel_itinerary; get_user_info; file_ticket; finish\n",
      "\n",
      "[[ ## next_tool_args ## ]]\n",
      "{next_tool_args}        # note: the value you produce must adhere to the JSON schema: {\"type\": \"object\", \"additionalProperties\": true}\n",
      "\n",
      "[[ ## completed ## ]]\n",
      "In adhering to this structure, your objective is: \n",
      "        You are an airline customer service agent that helps user book and manage flights.\n",
      "        \n",
      "        You are given a list of tools to handle user request, and you should decide the right tool to use in order to\n",
      "        fullfil users' request.\n",
      "        \n",
      "        You are an Agent. In each episode, you will be given the fields `user_request` as input. And you can see your past trajectory so far.\n",
      "        Your goal is to use one or more of the supplied tools to collect any necessary information for producing `process_result`.\n",
      "        \n",
      "        To do this, you will interleave next_thought, next_tool_name, and next_tool_args in each turn, and also when finishing the task.\n",
      "        After each tool call, you receive a resulting observation, which gets appended to your trajectory.\n",
      "        \n",
      "        When writing next_thought, you may reason about the current situation and plan for future steps.\n",
      "        When selecting the next_tool_name and its next_tool_args, the tool must be one of:\n",
      "        \n",
      "        (1) fetch_flight_info, whose description is <desc>Fetch flight information from origin to destination on the given date</desc>. It takes arguments {'date': {'properties': {'year': {'title': 'Year', 'type': 'integer'}, 'month': {'title': 'Month', 'type': 'integer'}, 'day': {'title': 'Day', 'type': 'integer'}, 'hour': {'title': 'Hour', 'type': 'integer'}}, 'required': ['year', 'month', 'day', 'hour'], 'title': 'Date', 'type': 'object'}, 'origin': {'type': 'string'}, 'destination': {'type': 'string'}}.\n",
      "        (2) fetch_itinerary, whose description is <desc>Fetch a booked itinerary information from database</desc>. It takes arguments {'confirmation_number': {'type': 'string'}}.\n",
      "        (3) pick_flight, whose description is <desc>Pick up the best flight that matches users' request. we pick the shortest, and cheaper one on ties.</desc>. It takes arguments {'flights': {'$defs': {'Date': {'properties': {'year': {'title': 'Year', 'type': 'integer'}, 'month': {'title': 'Month', 'type': 'integer'}, 'day': {'title': 'Day', 'type': 'integer'}, 'hour': {'title': 'Hour', 'type': 'integer'}}, 'required': ['year', 'month', 'day', 'hour'], 'title': 'Date', 'type': 'object'}, 'Flight': {'properties': {'flight_id': {'title': 'Flight Id', 'type': 'string'}, 'date_time': {'$ref': '#/$defs/Date'}, 'origin': {'title': 'Origin', 'type': 'string'}, 'destination': {'title': 'Destination', 'type': 'string'}, 'duration': {'title': 'Duration', 'type': 'number'}, 'price': {'title': 'Price', 'type': 'number'}}, 'required': ['flight_id', 'date_time', 'origin', 'destination', 'duration', 'price'], 'title': 'Flight', 'type': 'object'}}, 'items': {'$ref': '#/$defs/Flight'}, 'type': 'array'}}.\n",
      "        (4) book_flight, whose description is <desc>Book a flight on behalf of the user.</desc>. It takes arguments {'flight': {'properties': {'flight_id': {'title': 'Flight Id', 'type': 'string'}, 'date_time': {'properties': {'year': {'title': 'Year', 'type': 'integer'}, 'month': {'title': 'Month', 'type': 'integer'}, 'day': {'title': 'Day', 'type': 'integer'}, 'hour': {'title': 'Hour', 'type': 'integer'}}, 'required': ['year', 'month', 'day', 'hour'], 'title': 'Date', 'type': 'object'}, 'origin': {'title': 'Origin', 'type': 'string'}, 'destination': {'title': 'Destination', 'type': 'string'}, 'duration': {'title': 'Duration', 'type': 'number'}, 'price': {'title': 'Price', 'type': 'number'}}, 'required': ['flight_id', 'date_time', 'origin', 'destination', 'duration', 'price'], 'title': 'Flight', 'type': 'object'}, 'user_profile': {'properties': {'user_id': {'title': 'User Id', 'type': 'string'}, 'name': {'title': 'Name', 'type': 'string'}, 'email': {'title': 'Email', 'type': 'string'}}, 'required': ['user_id', 'name', 'email'], 'title': 'UserProfile', 'type': 'object'}}.\n",
      "        (5) cancel_itinerary, whose description is <desc>Cancel an itinerary on behalf of the user.</desc>. It takes arguments {'confirmation_number': {'type': 'string'}, 'user_profile': {'properties': {'user_id': {'title': 'User Id', 'type': 'string'}, 'name': {'title': 'Name', 'type': 'string'}, 'email': {'title': 'Email', 'type': 'string'}}, 'required': ['user_id', 'name', 'email'], 'title': 'UserProfile', 'type': 'object'}}.\n",
      "        (6) get_user_info, whose description is <desc>Fetch the user profile from database with given name.</desc>. It takes arguments {'name': {'type': 'string'}}.\n",
      "        (7) file_ticket, whose description is <desc>File a customer support ticket if this is something the agent cannot handle.</desc>. It takes arguments {'user_request': {'type': 'string'}, 'user_profile': {'properties': {'user_id': {'title': 'User Id', 'type': 'string'}, 'name': {'title': 'Name', 'type': 'string'}, 'email': {'title': 'Email', 'type': 'string'}}, 'required': ['user_id', 'name', 'email'], 'title': 'UserProfile', 'type': 'object'}}.\n",
      "        (8) finish, whose description is <desc>Marks the task as complete. That is, signals that all information for producing the outputs, i.e. `process_result`, are now available to be extracted.</desc>. It takes arguments {}.\n",
      "        When providing `next_tool_args`, the value inside the field must be in JSON format\n",
      "\n",
      "\n",
      "\u001b[31mUser message:\u001b[0m\n",
      "\n",
      "[[ ## user_request ## ]]\n",
      "please help me book a flight from SFO to JFK on 09/01/2025, my name is Adam\n",
      "\n",
      "[[ ## trajectory ## ]]\n",
      "[[ ## thought_0 ## ]]\n",
      "I need to fetch flight information for Adam from SFO to JFK on 09/01/2025 to find available flights for booking.\n",
      "\n",
      "[[ ## tool_name_0 ## ]]\n",
      "fetch_flight_info\n",
      "\n",
      "[[ ## tool_args_0 ## ]]\n",
      "{\"date\": {\"year\": 2025, \"month\": 9, \"day\": 1, \"hour\": 0}, \"origin\": \"SFO\", \"destination\": \"JFK\"}\n",
      "\n",
      "[[ ## observation_0 ## ]]\n",
      "[1] «flight_id='DA123' date_time=Date(year=2025, month=9, day=1, hour=1) origin='SFO' destination='JFK' duration=3.0 price=200.0»\n",
      "[2] «flight_id='DA125' date_time=Date(year=2025, month=9, day=1, hour=7) origin='SFO' destination='JFK' duration=9.0 price=500.0»\n",
      "\n",
      "[[ ## thought_1 ## ]]\n",
      "I have retrieved the available flights from SFO to JFK on 09/01/2025. The options are flight DA123, which departs at 1 AM and costs $200, and flight DA125, which departs at 7 AM and costs $500. I will now pick the best flight based on the shortest duration and price.\n",
      "\n",
      "[[ ## tool_name_1 ## ]]\n",
      "pick_flight\n",
      "\n",
      "[[ ## tool_args_1 ## ]]\n",
      "{\"flights\": [{\"flight_id\": \"DA123\", \"date_time\": {\"year\": 2025, \"month\": 9, \"day\": 1, \"hour\": 1}, \"origin\": \"SFO\", \"destination\": \"JFK\", \"duration\": 3.0, \"price\": 200.0}, {\"flight_id\": \"DA125\", \"date_time\": {\"year\": 2025, \"month\": 9, \"day\": 1, \"hour\": 7}, \"origin\": \"SFO\", \"destination\": \"JFK\", \"duration\": 9.0, \"price\": 500.0}]}\n",
      "\n",
      "[[ ## observation_1 ## ]]\n",
      "{\"flight_id\": \"DA123\", \"date_time\": {\"year\": 2025, \"month\": 9, \"day\": 1, \"hour\": 1}, \"origin\": \"SFO\", \"destination\": \"JFK\", \"duration\": 3.0, \"price\": 200.0}\n",
      "\n",
      "[[ ## thought_2 ## ]]\n",
      "I have selected flight DA123, which departs at 1 AM and costs $200. Now, I need to gather Adam's user profile information to proceed with the booking.\n",
      "\n",
      "[[ ## tool_name_2 ## ]]\n",
      "get_user_info\n",
      "\n",
      "[[ ## tool_args_2 ## ]]\n",
      "{\"name\": \"Adam\"}\n",
      "\n",
      "[[ ## observation_2 ## ]]\n",
      "{\"user_id\": \"1\", \"name\": \"Adam\", \"email\": \"adam@gmail.com\"}\n",
      "\n",
      "Respond with the corresponding output fields, starting with the field `[[ ## next_thought ## ]]`, then `[[ ## next_tool_name ## ]]` (must be formatted as a valid Python Literal['fetch_flight_info', 'fetch_itinerary', 'pick_flight', 'book_flight', 'cancel_itinerary', 'get_user_info', 'file_ticket', 'finish']), then `[[ ## next_tool_args ## ]]` (must be formatted as a valid Python dict[str, Any]), and then ending with the marker for `[[ ## completed ## ]]`.\n",
      "\n",
      "\n",
      "\u001b[31mResponse:\u001b[0m\n",
      "\n",
      "\u001b[32m[[ ## next_thought ## ]]\n",
      "I have gathered Adam's user profile information. Now, I can proceed to book the selected flight DA123 for Adam.\n",
      "\n",
      "[[ ## next_tool_name ## ]]\n",
      "book_flight\n",
      "\n",
      "[[ ## next_tool_args ## ]]\n",
      "{\"flight\":{\"flight_id\":\"DA123\",\"date_time\":{\"year\":2025,\"month\":9,\"day\":1,\"hour\":1},\"origin\":\"SFO\",\"destination\":\"JFK\",\"duration\":3.0,\"price\":200.0},\"user_profile\":{\"user_id\":\"1\",\"name\":\"Adam\",\"email\":\"adam@gmail.com\"}}\n",
      "\n",
      "[[ ## completed ## ]]\u001b[0m\n",
      "\n",
      "\n",
      "\n",
      "\n",
      "\n",
      "\u001b[34m[2025-06-19T18:24:15.514483]\u001b[0m\n",
      "\n",
      "\u001b[31mSystem message:\u001b[0m\n",
      "\n",
      "Your input fields are:\n",
      "1. `user_request` (str): \n",
      "2. `trajectory` (str):\n",
      "Your output fields are:\n",
      "1. `next_thought` (str): \n",
      "2. `next_tool_name` (Literal['fetch_flight_info', 'fetch_itinerary', 'pick_flight', 'book_flight', 'cancel_itinerary', 'get_user_info', 'file_ticket', 'finish']): \n",
      "3. `next_tool_args` (dict[str, Any]):\n",
      "All interactions will be structured in the following way, with the appropriate values filled in.\n",
      "\n",
      "[[ ## user_request ## ]]\n",
      "{user_request}\n",
      "\n",
      "[[ ## trajectory ## ]]\n",
      "{trajectory}\n",
      "\n",
      "[[ ## next_thought ## ]]\n",
      "{next_thought}\n",
      "\n",
      "[[ ## next_tool_name ## ]]\n",
      "{next_tool_name}        # note: the value you produce must exactly match (no extra characters) one of: fetch_flight_info; fetch_itinerary; pick_flight; book_flight; cancel_itinerary; get_user_info; file_ticket; finish\n",
      "\n",
      "[[ ## next_tool_args ## ]]\n",
      "{next_tool_args}        # note: the value you produce must adhere to the JSON schema: {\"type\": \"object\", \"additionalProperties\": true}\n",
      "\n",
      "[[ ## completed ## ]]\n",
      "In adhering to this structure, your objective is: \n",
      "        You are an airline customer service agent that helps user book and manage flights.\n",
      "        \n",
      "        You are given a list of tools to handle user request, and you should decide the right tool to use in order to\n",
      "        fullfil users' request.\n",
      "        \n",
      "        You are an Agent. In each episode, you will be given the fields `user_request` as input. And you can see your past trajectory so far.\n",
      "        Your goal is to use one or more of the supplied tools to collect any necessary information for producing `process_result`.\n",
      "        \n",
      "        To do this, you will interleave next_thought, next_tool_name, and next_tool_args in each turn, and also when finishing the task.\n",
      "        After each tool call, you receive a resulting observation, which gets appended to your trajectory.\n",
      "        \n",
      "        When writing next_thought, you may reason about the current situation and plan for future steps.\n",
      "        When selecting the next_tool_name and its next_tool_args, the tool must be one of:\n",
      "        \n",
      "        (1) fetch_flight_info, whose description is <desc>Fetch flight information from origin to destination on the given date</desc>. It takes arguments {'date': {'properties': {'year': {'title': 'Year', 'type': 'integer'}, 'month': {'title': 'Month', 'type': 'integer'}, 'day': {'title': 'Day', 'type': 'integer'}, 'hour': {'title': 'Hour', 'type': 'integer'}}, 'required': ['year', 'month', 'day', 'hour'], 'title': 'Date', 'type': 'object'}, 'origin': {'type': 'string'}, 'destination': {'type': 'string'}}.\n",
      "        (2) fetch_itinerary, whose description is <desc>Fetch a booked itinerary information from database</desc>. It takes arguments {'confirmation_number': {'type': 'string'}}.\n",
      "        (3) pick_flight, whose description is <desc>Pick up the best flight that matches users' request. we pick the shortest, and cheaper one on ties.</desc>. It takes arguments {'flights': {'$defs': {'Date': {'properties': {'year': {'title': 'Year', 'type': 'integer'}, 'month': {'title': 'Month', 'type': 'integer'}, 'day': {'title': 'Day', 'type': 'integer'}, 'hour': {'title': 'Hour', 'type': 'integer'}}, 'required': ['year', 'month', 'day', 'hour'], 'title': 'Date', 'type': 'object'}, 'Flight': {'properties': {'flight_id': {'title': 'Flight Id', 'type': 'string'}, 'date_time': {'$ref': '#/$defs/Date'}, 'origin': {'title': 'Origin', 'type': 'string'}, 'destination': {'title': 'Destination', 'type': 'string'}, 'duration': {'title': 'Duration', 'type': 'number'}, 'price': {'title': 'Price', 'type': 'number'}}, 'required': ['flight_id', 'date_time', 'origin', 'destination', 'duration', 'price'], 'title': 'Flight', 'type': 'object'}}, 'items': {'$ref': '#/$defs/Flight'}, 'type': 'array'}}.\n",
      "        (4) book_flight, whose description is <desc>Book a flight on behalf of the user.</desc>. It takes arguments {'flight': {'properties': {'flight_id': {'title': 'Flight Id', 'type': 'string'}, 'date_time': {'properties': {'year': {'title': 'Year', 'type': 'integer'}, 'month': {'title': 'Month', 'type': 'integer'}, 'day': {'title': 'Day', 'type': 'integer'}, 'hour': {'title': 'Hour', 'type': 'integer'}}, 'required': ['year', 'month', 'day', 'hour'], 'title': 'Date', 'type': 'object'}, 'origin': {'title': 'Origin', 'type': 'string'}, 'destination': {'title': 'Destination', 'type': 'string'}, 'duration': {'title': 'Duration', 'type': 'number'}, 'price': {'title': 'Price', 'type': 'number'}}, 'required': ['flight_id', 'date_time', 'origin', 'destination', 'duration', 'price'], 'title': 'Flight', 'type': 'object'}, 'user_profile': {'properties': {'user_id': {'title': 'User Id', 'type': 'string'}, 'name': {'title': 'Name', 'type': 'string'}, 'email': {'title': 'Email', 'type': 'string'}}, 'required': ['user_id', 'name', 'email'], 'title': 'UserProfile', 'type': 'object'}}.\n",
      "        (5) cancel_itinerary, whose description is <desc>Cancel an itinerary on behalf of the user.</desc>. It takes arguments {'confirmation_number': {'type': 'string'}, 'user_profile': {'properties': {'user_id': {'title': 'User Id', 'type': 'string'}, 'name': {'title': 'Name', 'type': 'string'}, 'email': {'title': 'Email', 'type': 'string'}}, 'required': ['user_id', 'name', 'email'], 'title': 'UserProfile', 'type': 'object'}}.\n",
      "        (6) get_user_info, whose description is <desc>Fetch the user profile from database with given name.</desc>. It takes arguments {'name': {'type': 'string'}}.\n",
      "        (7) file_ticket, whose description is <desc>File a customer support ticket if this is something the agent cannot handle.</desc>. It takes arguments {'user_request': {'type': 'string'}, 'user_profile': {'properties': {'user_id': {'title': 'User Id', 'type': 'string'}, 'name': {'title': 'Name', 'type': 'string'}, 'email': {'title': 'Email', 'type': 'string'}}, 'required': ['user_id', 'name', 'email'], 'title': 'UserProfile', 'type': 'object'}}.\n",
      "        (8) finish, whose description is <desc>Marks the task as complete. That is, signals that all information for producing the outputs, i.e. `process_result`, are now available to be extracted.</desc>. It takes arguments {}.\n",
      "        When providing `next_tool_args`, the value inside the field must be in JSON format\n",
      "\n",
      "\n",
      "\u001b[31mUser message:\u001b[0m\n",
      "\n",
      "[[ ## user_request ## ]]\n",
      "please help me book a flight from SFO to JFK on 09/01/2025, my name is Adam\n",
      "\n",
      "[[ ## trajectory ## ]]\n",
      "[[ ## thought_0 ## ]]\n",
      "I need to fetch flight information for Adam from SFO to JFK on 09/01/2025 to find available flights for booking.\n",
      "\n",
      "[[ ## tool_name_0 ## ]]\n",
      "fetch_flight_info\n",
      "\n",
      "[[ ## tool_args_0 ## ]]\n",
      "{\"date\": {\"year\": 2025, \"month\": 9, \"day\": 1, \"hour\": 0}, \"origin\": \"SFO\", \"destination\": \"JFK\"}\n",
      "\n",
      "[[ ## observation_0 ## ]]\n",
      "[1] «flight_id='DA123' date_time=Date(year=2025, month=9, day=1, hour=1) origin='SFO' destination='JFK' duration=3.0 price=200.0»\n",
      "[2] «flight_id='DA125' date_time=Date(year=2025, month=9, day=1, hour=7) origin='SFO' destination='JFK' duration=9.0 price=500.0»\n",
      "\n",
      "[[ ## thought_1 ## ]]\n",
      "I have retrieved the available flights from SFO to JFK on 09/01/2025. The options are flight DA123, which departs at 1 AM and costs $200, and flight DA125, which departs at 7 AM and costs $500. I will now pick the best flight based on the shortest duration and price.\n",
      "\n",
      "[[ ## tool_name_1 ## ]]\n",
      "pick_flight\n",
      "\n",
      "[[ ## tool_args_1 ## ]]\n",
      "{\"flights\": [{\"flight_id\": \"DA123\", \"date_time\": {\"year\": 2025, \"month\": 9, \"day\": 1, \"hour\": 1}, \"origin\": \"SFO\", \"destination\": \"JFK\", \"duration\": 3.0, \"price\": 200.0}, {\"flight_id\": \"DA125\", \"date_time\": {\"year\": 2025, \"month\": 9, \"day\": 1, \"hour\": 7}, \"origin\": \"SFO\", \"destination\": \"JFK\", \"duration\": 9.0, \"price\": 500.0}]}\n",
      "\n",
      "[[ ## observation_1 ## ]]\n",
      "{\"flight_id\": \"DA123\", \"date_time\": {\"year\": 2025, \"month\": 9, \"day\": 1, \"hour\": 1}, \"origin\": \"SFO\", \"destination\": \"JFK\", \"duration\": 3.0, \"price\": 200.0}\n",
      "\n",
      "[[ ## thought_2 ## ]]\n",
      "I have selected flight DA123, which departs at 1 AM and costs $200. Now, I need to gather Adam's user profile information to proceed with the booking.\n",
      "\n",
      "[[ ## tool_name_2 ## ]]\n",
      "get_user_info\n",
      "\n",
      "[[ ## tool_args_2 ## ]]\n",
      "{\"name\": \"Adam\"}\n",
      "\n",
      "[[ ## observation_2 ## ]]\n",
      "{\"user_id\": \"1\", \"name\": \"Adam\", \"email\": \"adam@gmail.com\"}\n",
      "\n",
      "[[ ## thought_3 ## ]]\n",
      "I have gathered Adam's user profile information. Now, I can proceed to book the selected flight DA123 for Adam.\n",
      "\n",
      "[[ ## tool_name_3 ## ]]\n",
      "book_flight\n",
      "\n",
      "[[ ## tool_args_3 ## ]]\n",
      "{\"flight\": {\"flight_id\": \"DA123\", \"date_time\": {\"year\": 2025, \"month\": 9, \"day\": 1, \"hour\": 1}, \"origin\": \"SFO\", \"destination\": \"JFK\", \"duration\": 3.0, \"price\": 200.0}, \"user_profile\": {\"user_id\": \"1\", \"name\": \"Adam\", \"email\": \"adam@gmail.com\"}}\n",
      "\n",
      "[[ ## observation_3 ## ]]\n",
      "[\"a4uqlcmo\", {\"confirmation_number\": \"a4uqlcmo\", \"user_profile\": {\"user_id\": \"1\", \"name\": \"Adam\", \"email\": \"adam@gmail.com\"}, \"flight\": {\"flight_id\": \"DA123\", \"date_time\": {\"year\": 2025, \"month\": 9, \"day\": 1, \"hour\": 1}, \"origin\": \"SFO\", \"destination\": \"JFK\", \"duration\": 3.0, \"price\": 200.0}}]\n",
      "\n",
      "Respond with the corresponding output fields, starting with the field `[[ ## next_thought ## ]]`, then `[[ ## next_tool_name ## ]]` (must be formatted as a valid Python Literal['fetch_flight_info', 'fetch_itinerary', 'pick_flight', 'book_flight', 'cancel_itinerary', 'get_user_info', 'file_ticket', 'finish']), then `[[ ## next_tool_args ## ]]` (must be formatted as a valid Python dict[str, Any]), and then ending with the marker for `[[ ## completed ## ]]`.\n",
      "\n",
      "\n",
      "\u001b[31mResponse:\u001b[0m\n",
      "\n",
      "\u001b[32m[[ ## next_thought ## ]]\n",
      "I have successfully booked flight DA123 for Adam, and the confirmation number is a4uqlcmo. I will now mark the task as complete.\n",
      "\n",
      "[[ ## next_tool_name ## ]]\n",
      "finish\n",
      "\n",
      "[[ ## next_tool_args ## ]]\n",
      "{}\n",
      "\n",
      "[[ ## completed ## ]]\u001b[0m\n",
      "\n",
      "\n",
      "\n",
      "\n",
      "\n",
      "\u001b[34m[2025-06-19T18:24:19.551417]\u001b[0m\n",
      "\n",
      "\u001b[31mSystem message:\u001b[0m\n",
      "\n",
      "Your input fields are:\n",
      "1. `user_request` (str): \n",
      "2. `trajectory` (str):\n",
      "Your output fields are:\n",
      "1. `reasoning` (str): \n",
      "2. `process_result` (str): Message that summarizes the process result, and the information users need, e.g., the confirmation_number if a new flight is booked.\n",
      "All interactions will be structured in the following way, with the appropriate values filled in.\n",
      "\n",
      "[[ ## user_request ## ]]\n",
      "{user_request}\n",
      "\n",
      "[[ ## trajectory ## ]]\n",
      "{trajectory}\n",
      "\n",
      "[[ ## reasoning ## ]]\n",
      "{reasoning}\n",
      "\n",
      "[[ ## process_result ## ]]\n",
      "{process_result}\n",
      "\n",
      "[[ ## completed ## ]]\n",
      "In adhering to this structure, your objective is: \n",
      "        You are an airline customer service agent that helps user book and manage flights.\n",
      "        \n",
      "        You are given a list of tools to handle user request, and you should decide the right tool to use in order to\n",
      "        fullfil users' request.\n",
      "\n",
      "\n",
      "\u001b[31mUser message:\u001b[0m\n",
      "\n",
      "[[ ## user_request ## ]]\n",
      "please help me book a flight from SFO to JFK on 09/01/2025, my name is Adam\n",
      "\n",
      "[[ ## trajectory ## ]]\n",
      "[[ ## thought_0 ## ]]\n",
      "I need to fetch flight information for Adam from SFO to JFK on 09/01/2025 to find available flights for booking.\n",
      "\n",
      "[[ ## tool_name_0 ## ]]\n",
      "fetch_flight_info\n",
      "\n",
      "[[ ## tool_args_0 ## ]]\n",
      "{\"date\": {\"year\": 2025, \"month\": 9, \"day\": 1, \"hour\": 0}, \"origin\": \"SFO\", \"destination\": \"JFK\"}\n",
      "\n",
      "[[ ## observation_0 ## ]]\n",
      "[1] «flight_id='DA123' date_time=Date(year=2025, month=9, day=1, hour=1) origin='SFO' destination='JFK' duration=3.0 price=200.0»\n",
      "[2] «flight_id='DA125' date_time=Date(year=2025, month=9, day=1, hour=7) origin='SFO' destination='JFK' duration=9.0 price=500.0»\n",
      "\n",
      "[[ ## thought_1 ## ]]\n",
      "I have retrieved the available flights from SFO to JFK on 09/01/2025. The options are flight DA123, which departs at 1 AM and costs $200, and flight DA125, which departs at 7 AM and costs $500. I will now pick the best flight based on the shortest duration and price.\n",
      "\n",
      "[[ ## tool_name_1 ## ]]\n",
      "pick_flight\n",
      "\n",
      "[[ ## tool_args_1 ## ]]\n",
      "{\"flights\": [{\"flight_id\": \"DA123\", \"date_time\": {\"year\": 2025, \"month\": 9, \"day\": 1, \"hour\": 1}, \"origin\": \"SFO\", \"destination\": \"JFK\", \"duration\": 3.0, \"price\": 200.0}, {\"flight_id\": \"DA125\", \"date_time\": {\"year\": 2025, \"month\": 9, \"day\": 1, \"hour\": 7}, \"origin\": \"SFO\", \"destination\": \"JFK\", \"duration\": 9.0, \"price\": 500.0}]}\n",
      "\n",
      "[[ ## observation_1 ## ]]\n",
      "{\"flight_id\": \"DA123\", \"date_time\": {\"year\": 2025, \"month\": 9, \"day\": 1, \"hour\": 1}, \"origin\": \"SFO\", \"destination\": \"JFK\", \"duration\": 3.0, \"price\": 200.0}\n",
      "\n",
      "[[ ## thought_2 ## ]]\n",
      "I have selected flight DA123, which departs at 1 AM and costs $200. Now, I need to gather Adam's user profile information to proceed with the booking.\n",
      "\n",
      "[[ ## tool_name_2 ## ]]\n",
      "get_user_info\n",
      "\n",
      "[[ ## tool_args_2 ## ]]\n",
      "{\"name\": \"Adam\"}\n",
      "\n",
      "[[ ## observation_2 ## ]]\n",
      "{\"user_id\": \"1\", \"name\": \"Adam\", \"email\": \"adam@gmail.com\"}\n",
      "\n",
      "[[ ## thought_3 ## ]]\n",
      "I have gathered Adam's user profile information. Now, I can proceed to book the selected flight DA123 for Adam.\n",
      "\n",
      "[[ ## tool_name_3 ## ]]\n",
      "book_flight\n",
      "\n",
      "[[ ## tool_args_3 ## ]]\n",
      "{\"flight\": {\"flight_id\": \"DA123\", \"date_time\": {\"year\": 2025, \"month\": 9, \"day\": 1, \"hour\": 1}, \"origin\": \"SFO\", \"destination\": \"JFK\", \"duration\": 3.0, \"price\": 200.0}, \"user_profile\": {\"user_id\": \"1\", \"name\": \"Adam\", \"email\": \"adam@gmail.com\"}}\n",
      "\n",
      "[[ ## observation_3 ## ]]\n",
      "[\"a4uqlcmo\", {\"confirmation_number\": \"a4uqlcmo\", \"user_profile\": {\"user_id\": \"1\", \"name\": \"Adam\", \"email\": \"adam@gmail.com\"}, \"flight\": {\"flight_id\": \"DA123\", \"date_time\": {\"year\": 2025, \"month\": 9, \"day\": 1, \"hour\": 1}, \"origin\": \"SFO\", \"destination\": \"JFK\", \"duration\": 3.0, \"price\": 200.0}}]\n",
      "\n",
      "[[ ## thought_4 ## ]]\n",
      "I have successfully booked flight DA123 for Adam, and the confirmation number is a4uqlcmo. I will now mark the task as complete.\n",
      "\n",
      "[[ ## tool_name_4 ## ]]\n",
      "finish\n",
      "\n",
      "[[ ## tool_args_4 ## ]]\n",
      "{}\n",
      "\n",
      "[[ ## observation_4 ## ]]\n",
      "Completed.\n",
      "\n",
      "Respond with the corresponding output fields, starting with the field `[[ ## reasoning ## ]]`, then `[[ ## process_result ## ]]`, and then ending with the marker for `[[ ## completed ## ]]`.\n",
      "\n",
      "\n",
      "\u001b[31mResponse:\u001b[0m\n",
      "\n",
      "\u001b[32m[[ ## reasoning ## ]]\n",
      "I successfully fetched flight information for Adam from SFO to JFK on 09/01/2025. Two flights were available: flight DA123, departing at 1 AM for $200, and flight DA125, departing at 7 AM for $500. I selected flight DA123 due to its shorter duration and lower price. After retrieving Adam's user profile, I proceeded to book the flight, which was successfully completed with a confirmation number of a4uqlcmo.\n",
      "\n",
      "[[ ## process_result ## ]]\n",
      "Your flight from SFO to JFK on 09/01/2025 has been successfully booked. Your confirmation number is a4uqlcmo.\n",
      "\n",
      "[[ ## completed ## ]]\u001b[0m\n",
      "\n",
      "\n",
      "\n",
      "\n",
      "\n"
     ]
    }
   ],
   "source": [
    "dspy.inspect_history(n=10)"
   ]
  },
  {
   "cell_type": "markdown",
   "metadata": {},
   "source": [
    "# RAG DSPy"
   ]
  },
  {
   "cell_type": "code",
   "execution_count": 13,
   "metadata": {},
   "outputs": [],
   "source": [
    "import dspy\n",
    "\n",
    "class QueryGenerator(dspy.Signature):\n",
    "    \"\"\"Generate a query based on question to fetch relevant context\"\"\"\n",
    "    question: str = dspy.InputField()\n",
    "    query: str = dspy.OutputField()\n",
    "\n",
    "def search_wikipedia(query: str) -> list[str]:\n",
    "    \"\"\"Query ColBERT endpoint, which is a knowledge source based on wikipedia data\"\"\"\n",
    "    results = dspy.ColBERTv2(url='http://20.102.90.50:2017/wiki17_abstracts')(query, k=1)\n",
    "    return [x[\"text\"] for x in results]\n",
    "\n",
    "class RAG(dspy.Module):\n",
    "    def __init__(self):\n",
    "        self.query_generator = dspy.Predict(QueryGenerator)\n",
    "        self.answer_generator = dspy.ChainOfThought(\"question,context->answer\")\n",
    "\n",
    "    def forward(self, question, **kwargs):\n",
    "        query = self.query_generator(question=question).query\n",
    "        full_context = search_wikipedia(query)\n",
    "        print(f\"Full context is:\\n {full_context}\")\n",
    "        context = full_context[0]\n",
    "        return self.answer_generator(question=question, context=context).answer"
   ]
  },
  {
   "cell_type": "code",
   "execution_count": 14,
   "metadata": {},
   "outputs": [
    {
     "name": "stdout",
     "output_type": "stream",
     "text": [
      "Full context is:\n",
      " [\"LeBron James | LeBron Raymone James ( ; born December 30, 1984) is an American professional basketball player for the Cleveland Cavaliers of the National Basketball Association (NBA). James has won three NBA championships, four NBA Most Valuable Player Awards, three NBA Finals MVP Awards, two Olympic gold medals, an NBA scoring title, and the NBA Rookie of the Year Award. He has also been selected to 13 NBA All-Star teams, 13 All-NBA teams, and six All-Defensive teams, is the Cavaliers' all-time leading scorer, and is the NBA career playoff scoring leader.\"]\n",
      "LeBron James is often considered one of the greatest basketball players of all time, and many argue he is the GOAT, but this is subjective and varies by personal opinion.\n"
     ]
    }
   ],
   "source": [
    "dspy.configure(lm=dspy.LM(\"openai/gpt-4o-mini\"))\n",
    "rag = RAG()\n",
    "print(rag(question=\"Is Lebron James the basketball GOAT?\"))"
   ]
  },
  {
   "cell_type": "markdown",
   "metadata": {},
   "source": [
    "#### Next tutorial, RAG"
   ]
  },
  {
   "cell_type": "code",
   "execution_count": 15,
   "metadata": {},
   "outputs": [],
   "source": [
    "import dspy\n",
    "\n",
    "lm = dspy.LM('openai/gpt-4o-mini')\n",
    "dspy.configure(lm=lm)"
   ]
  },
  {
   "cell_type": "code",
   "execution_count": 16,
   "metadata": {},
   "outputs": [
    {
     "name": "stdout",
     "output_type": "stream",
     "text": [
      "In Linux, \"high memory\" and \"low memory\" refer to different regions of the system's memory address space, particularly in the context of how the kernel manages memory for processes.\n",
      "\n",
      "1. **Low Memory**: This typically refers to the memory that is directly accessible by the kernel and can be used by processes without any special handling. In a 32-bit system, this is usually the first 896 MB of RAM (though it can vary based on the architecture and configuration). Low memory is used for kernel data structures and for user-space processes that require direct access to memory.\n",
      "\n",
      "2. **High Memory**: This refers to memory that is above the low memory limit and is not directly accessible by the kernel in a 32-bit system. Processes can use this memory, but the kernel must use special mechanisms (like page tables) to access it. High memory is typically used in systems with large amounts of RAM, allowing more memory to be allocated to user-space processes while still keeping the kernel's memory usage efficient.\n",
      "\n",
      "In summary, low memory is directly accessible by the kernel, while high memory requires additional handling for the kernel to access it, especially in 32-bit systems.\n"
     ]
    }
   ],
   "source": [
    "qa = dspy.Predict('question: str -> responses: str')\n",
    "response = qa(question=\"what are high memory and low memory on linux?\")\n",
    "\n",
    "print(response.responses)"
   ]
  },
  {
   "cell_type": "code",
   "execution_count": 17,
   "metadata": {},
   "outputs": [
    {
     "name": "stdout",
     "output_type": "stream",
     "text": [
      "\n",
      "\n",
      "\n",
      "\n",
      "\u001b[34m[2025-06-19T18:24:19.636686]\u001b[0m\n",
      "\n",
      "\u001b[31mSystem message:\u001b[0m\n",
      "\n",
      "Your input fields are:\n",
      "1. `question` (str):\n",
      "Your output fields are:\n",
      "1. `responses` (str):\n",
      "All interactions will be structured in the following way, with the appropriate values filled in.\n",
      "\n",
      "[[ ## question ## ]]\n",
      "{question}\n",
      "\n",
      "[[ ## responses ## ]]\n",
      "{responses}\n",
      "\n",
      "[[ ## completed ## ]]\n",
      "In adhering to this structure, your objective is: \n",
      "        Given the fields `question`, produce the fields `responses`.\n",
      "\n",
      "\n",
      "\u001b[31mUser message:\u001b[0m\n",
      "\n",
      "[[ ## question ## ]]\n",
      "what are high memory and low memory on linux?\n",
      "\n",
      "Respond with the corresponding output fields, starting with the field `[[ ## responses ## ]]`, and then ending with the marker for `[[ ## completed ## ]]`.\n",
      "\n",
      "\n",
      "\u001b[31mResponse:\u001b[0m\n",
      "\n",
      "\u001b[32m[[ ## responses ## ]]\n",
      "In Linux, \"high memory\" and \"low memory\" refer to different regions of the system's memory address space, particularly in the context of how the kernel manages memory for processes.\n",
      "\n",
      "1. **Low Memory**: This typically refers to the memory that is directly accessible by the kernel and can be used by processes without any special handling. In a 32-bit system, this is usually the first 896 MB of RAM (though it can vary based on the architecture and configuration). Low memory is used for kernel data structures and for user-space processes that require direct access to memory.\n",
      "\n",
      "2. **High Memory**: This refers to memory that is above the low memory limit and is not directly accessible by the kernel in a 32-bit system. Processes can use this memory, but the kernel must use special mechanisms (like page tables) to access it. High memory is typically used in systems with large amounts of RAM, allowing more memory to be allocated to user-space processes while still keeping the kernel's memory usage efficient.\n",
      "\n",
      "In summary, low memory is directly accessible by the kernel, while high memory requires additional handling for the kernel to access it, especially in 32-bit systems.\n",
      "\n",
      "[[ ## completed ## ]]\u001b[0m\n",
      "\n",
      "\n",
      "\n",
      "\n",
      "\n"
     ]
    }
   ],
   "source": [
    "dspy.inspect_history(n=1)"
   ]
  },
  {
   "cell_type": "code",
   "execution_count": 18,
   "metadata": {},
   "outputs": [
    {
     "data": {
      "text/plain": [
       "Prediction(\n",
       "    reasoning='The placement of curly braces on their own line is largely a matter of coding style and conventions. In many programming languages, such as Java, C#, and JavaScript, it is common to place opening curly braces on the same line as the statement that precedes them, while closing curly braces are often placed on their own line. This style is known as \"K&R style.\" However, some coding standards, like those used in Python or certain configurations of Java, prefer placing both opening and closing braces on their own lines for better readability, especially in nested structures. Ultimately, the decision should align with the team\\'s coding standards or the style guide being followed.',\n",
       "    response=\"Curly braces can either appear on their own line or on the same line as the preceding statement, depending on the coding style you choose to follow. It's important to adhere to the conventions of the language and the team's coding standards for consistency and readability.\"\n",
       ")"
      ]
     },
     "execution_count": 18,
     "metadata": {},
     "output_type": "execute_result"
    }
   ],
   "source": [
    "cot = dspy.ChainOfThought('question -> response')\n",
    "cot(question=\"should curly braces appear on their own line?\")"
   ]
  },
  {
   "cell_type": "markdown",
   "metadata": {},
   "source": [
    "#### Optimization"
   ]
  },
  {
   "cell_type": "code",
   "execution_count": 19,
   "metadata": {},
   "outputs": [],
   "source": [
    "import ujson\n",
    "from dspy.utils import download\n",
    "\n",
    "# Download question--answer pairs from the RAG-QA Arena \"Tech\" dataset.\n",
    "download(\"https://huggingface.co/dspy/cache/resolve/main/ragqa_arena_tech_examples.jsonl\")\n",
    "\n",
    "with open(\"ragqa_arena_tech_examples.jsonl\") as f:\n",
    "    data = [ujson.loads(line) for line in f]"
   ]
  },
  {
   "cell_type": "code",
   "execution_count": 20,
   "metadata": {},
   "outputs": [
    {
     "name": "stdout",
     "output_type": "stream",
     "text": [
      "Length of data:2064\n"
     ]
    },
    {
     "data": {
      "text/plain": [
       "{'question': 'why igp is used in mpls?',\n",
       " 'response': \"An IGP exchanges routing prefixes between gateways/routers.  \\nWithout a routing protocol, you'd have to configure each route on every router and you'd have no dynamic updates when routes change because of link failures. \\nFuthermore, within an MPLS network, an IGP is vital for advertising the internal topology and ensuring connectivity for MP-BGP inside the network.\",\n",
       " 'gold_doc_ids': [2822, 2823]}"
      ]
     },
     "execution_count": 20,
     "metadata": {},
     "output_type": "execute_result"
    }
   ],
   "source": [
    "print(f\"Length of data:{len(data)}\")\n",
    "data[0]"
   ]
  },
  {
   "cell_type": "code",
   "execution_count": 21,
   "metadata": {},
   "outputs": [
    {
     "data": {
      "text/plain": [
       "Example({'question': 'why are my text messages coming up as maybe?', 'response': 'This is part of the Proactivity features new with iOS 9: It looks at info in emails to see if anyone with this number sent you an email and if it finds the phone number associated with a contact from your email, it will show you \"Maybe\". \\n\\nHowever, it has been suggested there is a bug in iOS 11.2 that can result in \"Maybe\" being displayed even when \"Find Contacts in Other Apps\" is disabled.', 'gold_doc_ids': [3956, 3957, 8034]}) (input_keys={'question'})"
      ]
     },
     "execution_count": 21,
     "metadata": {},
     "output_type": "execute_result"
    }
   ],
   "source": [
    "# if with_inputs is not used, the data will be considered as label or metadata\n",
    "# with_inputs(<label_name>) will make the data to be considered as input. Here it is ``question``\n",
    "data = [dspy.Example(**d).with_inputs('question') for d in data]\n",
    "\n",
    "# Let's pick an `example` here from the data.\n",
    "example = data[2]\n",
    "example"
   ]
  },
  {
   "cell_type": "code",
   "execution_count": 22,
   "metadata": {},
   "outputs": [
    {
     "data": {
      "text/plain": [
       "(200, 300, 500)"
      ]
     },
     "execution_count": 22,
     "metadata": {},
     "output_type": "execute_result"
    }
   ],
   "source": [
    "import random\n",
    "\n",
    "random.Random(0).shuffle(data)\n",
    "trainset, devset, testset = data[:200], data[200:500], data[500:1000]\n",
    "\n",
    "len(trainset), len(devset), len(testset)"
   ]
  },
  {
   "cell_type": "code",
   "execution_count": 23,
   "metadata": {},
   "outputs": [
    {
     "name": "stdout",
     "output_type": "stream",
     "text": [
      "Question: \t why are my text messages coming up as maybe?\n",
      "\n",
      "Gold Response: \t This is part of the Proactivity features new with iOS 9: It looks at info in emails to see if anyone with this number sent you an email and if it finds the phone number associated with a contact from your email, it will show you \"Maybe\". \n",
      "\n",
      "However, it has been suggested there is a bug in iOS 11.2 that can result in \"Maybe\" being displayed even when \"Find Contacts in Other Apps\" is disabled.\n",
      "\n",
      "Predicted Response: \t Your text messages are showing up as \"maybe\" because the recipient's messaging app is likely unsure about the sender's identity. This can occur if you're not saved in their contacts or if the app is trying to filter messages based on previous interactions. You might want to check if the recipient has your number saved or if there are any settings in their messaging app that could be adjusted.\n",
      "\n",
      "Semantic F1 Score: 0.00\n"
     ]
    }
   ],
   "source": [
    "from dspy.evaluate import SemanticF1\n",
    "\n",
    "# Instantiate the metric.\n",
    "metric = SemanticF1(decompositional=True)\n",
    "\n",
    "# Produce a prediction from our `cot` module, using the `example` above as input.\n",
    "# cot is a module that uses chain of thought to generate a response\n",
    "pred = cot(**example.inputs())\n",
    "\n",
    "# Compute the metric score for the prediction.\n",
    "score = metric(example, pred)\n",
    "\n",
    "print(f\"Question: \\t {example.question}\\n\")\n",
    "print(f\"Gold Response: \\t {example.response}\\n\")\n",
    "print(f\"Predicted Response: \\t {pred.response}\\n\")\n",
    "print(f\"Semantic F1 Score: {score:.2f}\")"
   ]
  },
  {
   "cell_type": "code",
   "execution_count": 24,
   "metadata": {},
   "outputs": [
    {
     "name": "stdout",
     "output_type": "stream",
     "text": [
      "\n",
      "\n",
      "\n",
      "\n",
      "\u001b[34m[2025-06-19T18:24:20.102665]\u001b[0m\n",
      "\n",
      "\u001b[31mSystem message:\u001b[0m\n",
      "\n",
      "Your input fields are:\n",
      "1. `question` (str): \n",
      "2. `ground_truth` (str): \n",
      "3. `system_response` (str):\n",
      "Your output fields are:\n",
      "1. `reasoning` (str): \n",
      "2. `ground_truth_key_ideas` (str): enumeration of key ideas in the ground truth\n",
      "3. `system_response_key_ideas` (str): enumeration of key ideas in the system response\n",
      "4. `discussion` (str): discussion of the overlap between ground truth and system response\n",
      "5. `recall` (float): fraction (out of 1.0) of ground truth covered by the system response\n",
      "6. `precision` (float): fraction (out of 1.0) of system response covered by the ground truth\n",
      "All interactions will be structured in the following way, with the appropriate values filled in.\n",
      "\n",
      "[[ ## question ## ]]\n",
      "{question}\n",
      "\n",
      "[[ ## ground_truth ## ]]\n",
      "{ground_truth}\n",
      "\n",
      "[[ ## system_response ## ]]\n",
      "{system_response}\n",
      "\n",
      "[[ ## reasoning ## ]]\n",
      "{reasoning}\n",
      "\n",
      "[[ ## ground_truth_key_ideas ## ]]\n",
      "{ground_truth_key_ideas}\n",
      "\n",
      "[[ ## system_response_key_ideas ## ]]\n",
      "{system_response_key_ideas}\n",
      "\n",
      "[[ ## discussion ## ]]\n",
      "{discussion}\n",
      "\n",
      "[[ ## recall ## ]]\n",
      "{recall}        # note: the value you produce must be a single float value\n",
      "\n",
      "[[ ## precision ## ]]\n",
      "{precision}        # note: the value you produce must be a single float value\n",
      "\n",
      "[[ ## completed ## ]]\n",
      "In adhering to this structure, your objective is: \n",
      "        Compare a system's response to the ground truth to compute recall and precision of key ideas.\n",
      "        You will first enumerate key ideas in each response, discuss their overlap, and then report recall and precision.\n",
      "\n",
      "\n",
      "\u001b[31mUser message:\u001b[0m\n",
      "\n",
      "[[ ## question ## ]]\n",
      "why are my text messages coming up as maybe?\n",
      "\n",
      "[[ ## ground_truth ## ]]\n",
      "This is part of the Proactivity features new with iOS 9: It looks at info in emails to see if anyone with this number sent you an email and if it finds the phone number associated with a contact from your email, it will show you \"Maybe\". \n",
      "\n",
      "However, it has been suggested there is a bug in iOS 11.2 that can result in \"Maybe\" being displayed even when \"Find Contacts in Other Apps\" is disabled.\n",
      "\n",
      "[[ ## system_response ## ]]\n",
      "Your text messages are showing up as \"maybe\" because the recipient's messaging app is likely unsure about the sender's identity. This can occur if you're not saved in their contacts or if the app is trying to filter messages based on previous interactions. You might want to check if the recipient has your number saved or if there are any settings in their messaging app that could be adjusted.\n",
      "\n",
      "Respond with the corresponding output fields, starting with the field `[[ ## reasoning ## ]]`, then `[[ ## ground_truth_key_ideas ## ]]`, then `[[ ## system_response_key_ideas ## ]]`, then `[[ ## discussion ## ]]`, then `[[ ## recall ## ]]` (must be formatted as a valid Python float), then `[[ ## precision ## ]]` (must be formatted as a valid Python float), and then ending with the marker for `[[ ## completed ## ]]`.\n",
      "\n",
      "\n",
      "\u001b[31mResponse:\u001b[0m\n",
      "\n",
      "\u001b[32m[[ ## reasoning ## ]]\n",
      "The system response provides a general explanation for why text messages may show up as \"maybe,\" focusing on the recipient's messaging app and the sender's identity. However, it does not mention the specific iOS feature that causes this behavior, nor does it address the potential bug in iOS 11.2 that could lead to this issue. The ground truth includes specific details about the Proactivity features in iOS 9 and the bug in iOS 11.2, which are not covered in the system response.\n",
      "\n",
      "[[ ## ground_truth_key_ideas ## ]]\n",
      "1. Proactivity features in iOS 9.\n",
      "2. Looks at info in emails to identify contacts.\n",
      "3. Displays \"Maybe\" if the phone number is associated with a contact from email.\n",
      "4. Bug in iOS 11.2 causing \"Maybe\" to show even when \"Find Contacts in Other Apps\" is disabled.\n",
      "\n",
      "[[ ## system_response_key_ideas ## ]]\n",
      "1. Text messages show up as \"maybe\" due to uncertainty about sender's identity.\n",
      "2. Occurs if sender is not saved in contacts.\n",
      "3. Suggests checking recipient's contact list and messaging app settings.\n",
      "\n",
      "[[ ## discussion ## ]]\n",
      "There is some overlap in the discussion of why messages may show up as \"maybe,\" but the system response lacks the specific context of the iOS features and the bug mentioned in the ground truth. The ground truth provides a more detailed explanation of the iOS functionality and potential issues, while the system response focuses on general messaging app behavior without addressing the iOS-specific features.\n",
      "\n",
      "[[ ## recall ## ]]\n",
      "0.0\n",
      "\n",
      "[[ ## precision ## ]]\n",
      "0.0\n",
      "\n",
      "[[ ## completed ## ]]\u001b[0m\n",
      "\n",
      "\n",
      "\n",
      "\n",
      "\n"
     ]
    }
   ],
   "source": [
    "dspy.inspect_history(n=1)"
   ]
  },
  {
   "cell_type": "code",
   "execution_count": 25,
   "metadata": {},
   "outputs": [
    {
     "name": "stdout",
     "output_type": "stream",
     "text": [
      "Average Metric: 124.20 / 300 (41.4%): 100%|██████████| 300/300 [00:00<00:00, 374.56it/s]"
     ]
    },
    {
     "name": "stderr",
     "output_type": "stream",
     "text": [
      "2025/06/19 18:24:21 INFO dspy.evaluate.evaluate: Average Metric: 124.19804803863978 / 300 (41.4%)\n"
     ]
    },
    {
     "name": "stdout",
     "output_type": "stream",
     "text": [
      "\n"
     ]
    },
    {
     "data": {
      "text/html": [
       "<div>\n",
       "<style scoped>\n",
       "    .dataframe tbody tr th:only-of-type {\n",
       "        vertical-align: middle;\n",
       "    }\n",
       "\n",
       "    .dataframe tbody tr th {\n",
       "        vertical-align: top;\n",
       "    }\n",
       "\n",
       "    .dataframe thead th {\n",
       "        text-align: right;\n",
       "    }\n",
       "</style>\n",
       "<table border=\"1\" class=\"dataframe\">\n",
       "  <thead>\n",
       "    <tr style=\"text-align: right;\">\n",
       "      <th></th>\n",
       "      <th>question</th>\n",
       "      <th>example_response</th>\n",
       "      <th>gold_doc_ids</th>\n",
       "      <th>reasoning</th>\n",
       "      <th>pred_response</th>\n",
       "      <th>SemanticF1</th>\n",
       "    </tr>\n",
       "  </thead>\n",
       "  <tbody>\n",
       "    <tr>\n",
       "      <th>0</th>\n",
       "      <td>when to use c over c++, and c++ over c?</td>\n",
       "      <td>If you are equally familiar with both C++ and C, it's advisable to...</td>\n",
       "      <td>[733]</td>\n",
       "      <td>C and C++ are both powerful programming languages, but they serve ...</td>\n",
       "      <td>Use C when you need low-level system programming, performance, and...</td>\n",
       "      <td>✔️ [0.500]</td>\n",
       "    </tr>\n",
       "    <tr>\n",
       "      <th>1</th>\n",
       "      <td>should images be stored in a git repository?</td>\n",
       "      <td>One viewpoint expresses that there is no significant downside, esp...</td>\n",
       "      <td>[6253, 6254, 6275, 6278, 8215]</td>\n",
       "      <td>Storing images in a Git repository can be problematic for several ...</td>\n",
       "      <td>It is generally not advisable to store images in a Git repository ...</td>\n",
       "      <td>✔️ [0.222]</td>\n",
       "    </tr>\n",
       "  </tbody>\n",
       "</table>\n",
       "</div>"
      ],
      "text/plain": [
       "                                       question  \\\n",
       "0       when to use c over c++, and c++ over c?   \n",
       "1  should images be stored in a git repository?   \n",
       "\n",
       "                                                        example_response  \\\n",
       "0  If you are equally familiar with both C++ and C, it's advisable to...   \n",
       "1  One viewpoint expresses that there is no significant downside, esp...   \n",
       "\n",
       "                     gold_doc_ids  \\\n",
       "0                           [733]   \n",
       "1  [6253, 6254, 6275, 6278, 8215]   \n",
       "\n",
       "                                                               reasoning  \\\n",
       "0  C and C++ are both powerful programming languages, but they serve ...   \n",
       "1  Storing images in a Git repository can be problematic for several ...   \n",
       "\n",
       "                                                           pred_response  \\\n",
       "0  Use C when you need low-level system programming, performance, and...   \n",
       "1  It is generally not advisable to store images in a Git repository ...   \n",
       "\n",
       "   SemanticF1  \n",
       "0  ✔️ [0.500]  \n",
       "1  ✔️ [0.222]  "
      ]
     },
     "metadata": {},
     "output_type": "display_data"
    },
    {
     "data": {
      "text/html": [
       "\n",
       "            <div style='\n",
       "                text-align: center;\n",
       "                font-size: 16px;\n",
       "                font-weight: bold;\n",
       "                color: #555;\n",
       "                margin: 10px 0;'>\n",
       "                ... 298 more rows not displayed ...\n",
       "            </div>\n",
       "            "
      ],
      "text/plain": [
       "<IPython.core.display.HTML object>"
      ]
     },
     "metadata": {},
     "output_type": "display_data"
    },
    {
     "data": {
      "text/plain": [
       "41.4"
      ]
     },
     "execution_count": 25,
     "metadata": {},
     "output_type": "execute_result"
    }
   ],
   "source": [
    "# Define an evaluator that we can re-use.\n",
    "evaluate = dspy.Evaluate(devset=devset, metric=metric, num_threads=24,\n",
    "                         display_progress=True, display_table=2)\n",
    "\n",
    "# Evaluate the Chain-of-Thought program.\n",
    "evaluate(cot)"
   ]
  },
  {
   "cell_type": "code",
   "execution_count": 26,
   "metadata": {},
   "outputs": [
    {
     "name": "stdout",
     "output_type": "stream",
     "text": [
      "Loaded 28436 documents. Will encode them below.\n",
      "Training a 32-byte FAISS index with 337 partitions, based on 28436 x 512-dim embeddings\n"
     ]
    }
   ],
   "source": [
    "max_characters = 6000  # for truncating >99th percentile of documents\n",
    "topk_docs_to_retrieve = 5  # number of documents to retrieve per search query\n",
    "\n",
    "# Download question--answer pairs from the RAG-QA Arena \"Tech\" dataset.\n",
    "download(\"https://huggingface.co/dspy/cache/resolve/main/ragqa_arena_tech_corpus.jsonl\")\n",
    "\n",
    "\n",
    "with open(\"ragqa_arena_tech_corpus.jsonl\") as f:\n",
    "    corpus = [ujson.loads(line)['text'][:max_characters] for line in f]\n",
    "    print(f\"Loaded {len(corpus)} documents. Will encode them below.\")\n",
    "\n",
    "embedder = dspy.Embedder('openai/text-embedding-3-small', dimensions=512)\n",
    "search = dspy.retrievers.Embeddings(embedder=embedder, corpus=corpus, k=topk_docs_to_retrieve)"
   ]
  },
  {
   "cell_type": "code",
   "execution_count": 27,
   "metadata": {},
   "outputs": [],
   "source": [
    "class RAG(dspy.Module):\n",
    "    def __init__(self):\n",
    "        self.respond = dspy.ChainOfThought('context, question -> response')\n",
    "\n",
    "    def forward(self, question):\n",
    "        context = search(question).passages\n",
    "        return self.respond(context=context, question=question)"
   ]
  },
  {
   "cell_type": "code",
   "execution_count": 28,
   "metadata": {},
   "outputs": [
    {
     "data": {
      "text/plain": [
       "Prediction(\n",
       "    reasoning=\"High memory and low memory in Linux refer to two distinct segments of the kernel's memory space. Low memory is the portion of memory that the kernel can access directly and is statically mapped at boot time, allowing for efficient access. High memory, on the other hand, is not permanently mapped in the kernel's address space, meaning that the kernel must map it temporarily when it needs to access it. This distinction is crucial for managing memory in a 32-bit architecture, where the kernel needs to handle more memory than it can directly address. High memory is typically used for temporary data buffers, while low memory is used for kernel operations.\",\n",
       "    response=\"In Linux, high memory refers to the segment of memory that is not permanently mapped in the kernel's address space, requiring the kernel to temporarily map it when needed. Low memory, conversely, is the portion that the kernel can access directly and is statically mapped at boot time. This separation allows user-space applications to operate in their own memory space without directly accessing kernel memory, enhancing system stability and security.\"\n",
       ")"
      ]
     },
     "execution_count": 28,
     "metadata": {},
     "output_type": "execute_result"
    }
   ],
   "source": [
    "rag = RAG()\n",
    "rag(question=\"what are high memory and low memory on linux?\")"
   ]
  },
  {
   "cell_type": "code",
   "execution_count": 29,
   "metadata": {},
   "outputs": [
    {
     "name": "stdout",
     "output_type": "stream",
     "text": [
      "Average Metric: 165.30 / 300 (55.1%): 100%|██████████| 300/300 [02:46<00:00,  1.80it/s]"
     ]
    },
    {
     "name": "stderr",
     "output_type": "stream",
     "text": [
      "2025/06/19 19:39:07 INFO dspy.evaluate.evaluate: Average Metric: 165.29804665171264 / 300 (55.1%)\n"
     ]
    },
    {
     "name": "stdout",
     "output_type": "stream",
     "text": [
      "\n"
     ]
    },
    {
     "data": {
      "text/html": [
       "<div>\n",
       "<style scoped>\n",
       "    .dataframe tbody tr th:only-of-type {\n",
       "        vertical-align: middle;\n",
       "    }\n",
       "\n",
       "    .dataframe tbody tr th {\n",
       "        vertical-align: top;\n",
       "    }\n",
       "\n",
       "    .dataframe thead th {\n",
       "        text-align: right;\n",
       "    }\n",
       "</style>\n",
       "<table border=\"1\" class=\"dataframe\">\n",
       "  <thead>\n",
       "    <tr style=\"text-align: right;\">\n",
       "      <th></th>\n",
       "      <th>question</th>\n",
       "      <th>example_response</th>\n",
       "      <th>gold_doc_ids</th>\n",
       "      <th>reasoning</th>\n",
       "      <th>pred_response</th>\n",
       "      <th>SemanticF1</th>\n",
       "    </tr>\n",
       "  </thead>\n",
       "  <tbody>\n",
       "    <tr>\n",
       "      <th>0</th>\n",
       "      <td>when to use c over c++, and c++ over c?</td>\n",
       "      <td>If you are equally familiar with both C++ and C, it's advisable to...</td>\n",
       "      <td>[733]</td>\n",
       "      <td>C should be used over C++ primarily in scenarios where simplicity,...</td>\n",
       "      <td>Use C over C++ when working on embedded systems, requiring low-lev...</td>\n",
       "      <td>✔️ [0.500]</td>\n",
       "    </tr>\n",
       "    <tr>\n",
       "      <th>1</th>\n",
       "      <td>should images be stored in a git repository?</td>\n",
       "      <td>One viewpoint expresses that there is no significant downside, esp...</td>\n",
       "      <td>[6253, 6254, 6275, 6278, 8215]</td>\n",
       "      <td>Storing images in a Git repository is generally not recommended du...</td>\n",
       "      <td>While it is technically possible to store images in a Git reposito...</td>\n",
       "      <td>✔️ [0.400]</td>\n",
       "    </tr>\n",
       "  </tbody>\n",
       "</table>\n",
       "</div>"
      ],
      "text/plain": [
       "                                       question  \\\n",
       "0       when to use c over c++, and c++ over c?   \n",
       "1  should images be stored in a git repository?   \n",
       "\n",
       "                                                        example_response  \\\n",
       "0  If you are equally familiar with both C++ and C, it's advisable to...   \n",
       "1  One viewpoint expresses that there is no significant downside, esp...   \n",
       "\n",
       "                     gold_doc_ids  \\\n",
       "0                           [733]   \n",
       "1  [6253, 6254, 6275, 6278, 8215]   \n",
       "\n",
       "                                                               reasoning  \\\n",
       "0  C should be used over C++ primarily in scenarios where simplicity,...   \n",
       "1  Storing images in a Git repository is generally not recommended du...   \n",
       "\n",
       "                                                           pred_response  \\\n",
       "0  Use C over C++ when working on embedded systems, requiring low-lev...   \n",
       "1  While it is technically possible to store images in a Git reposito...   \n",
       "\n",
       "   SemanticF1  \n",
       "0  ✔️ [0.500]  \n",
       "1  ✔️ [0.400]  "
      ]
     },
     "metadata": {},
     "output_type": "display_data"
    },
    {
     "data": {
      "text/html": [
       "\n",
       "            <div style='\n",
       "                text-align: center;\n",
       "                font-size: 16px;\n",
       "                font-weight: bold;\n",
       "                color: #555;\n",
       "                margin: 10px 0;'>\n",
       "                ... 298 more rows not displayed ...\n",
       "            </div>\n",
       "            "
      ],
      "text/plain": [
       "<IPython.core.display.HTML object>"
      ]
     },
     "metadata": {},
     "output_type": "display_data"
    },
    {
     "data": {
      "text/plain": [
       "55.1"
      ]
     },
     "execution_count": 29,
     "metadata": {},
     "output_type": "execute_result"
    }
   ],
   "source": [
    "evaluate(rag)"
   ]
  },
  {
   "cell_type": "code",
   "execution_count": 30,
   "metadata": {},
   "outputs": [
    {
     "name": "stderr",
     "output_type": "stream",
     "text": [
      "2025/06/19 19:39:53 INFO dspy.teleprompt.mipro_optimizer_v2: \n",
      "RUNNING WITH THE FOLLOWING MEDIUM AUTO RUN SETTINGS:\n",
      "num_trials: 18\n",
      "minibatch: True\n",
      "num_fewshot_candidates: 12\n",
      "num_instruct_candidates: 6\n",
      "valset size: 160\n",
      "\n",
      "2025/06/19 19:39:53 INFO dspy.teleprompt.mipro_optimizer_v2: \n",
      "==> STEP 1: BOOTSTRAP FEWSHOT EXAMPLES <==\n",
      "2025/06/19 19:39:53 INFO dspy.teleprompt.mipro_optimizer_v2: These will be used as few-shot example candidates for our program and for creating instructions.\n",
      "\n",
      "2025/06/19 19:39:53 INFO dspy.teleprompt.mipro_optimizer_v2: Bootstrapping N=12 sets of demonstrations...\n"
     ]
    },
    {
     "name": "stdout",
     "output_type": "stream",
     "text": [
      "Bootstrapping set 1/12\n",
      "Bootstrapping set 2/12\n",
      "Bootstrapping set 3/12\n"
     ]
    },
    {
     "name": "stderr",
     "output_type": "stream",
     "text": [
      "  0%|          | 0/40 [00:00<?, ?it/s]/opt/homebrew/Caskroom/miniforge/base/envs/llm_tutorial/lib/python3.13/site-packages/tqdm/auto.py:21: TqdmWarning: IProgress not found. Please update jupyter and ipywidgets. See https://ipywidgets.readthedocs.io/en/stable/user_install.html\n",
      "  from .autonotebook import tqdm as notebook_tqdm\n",
      "  5%|▌         | 2/40 [00:35<11:14, 17.74s/it]\n"
     ]
    },
    {
     "name": "stdout",
     "output_type": "stream",
     "text": [
      "Bootstrapped 2 full traces after 2 examples for up to 1 rounds, amounting to 2 attempts.\n",
      "Bootstrapping set 4/12\n"
     ]
    },
    {
     "name": "stderr",
     "output_type": "stream",
     "text": [
      " 12%|█▎        | 5/40 [01:09<08:08, 13.95s/it]\n"
     ]
    },
    {
     "name": "stdout",
     "output_type": "stream",
     "text": [
      "Bootstrapped 1 full traces after 5 examples for up to 1 rounds, amounting to 5 attempts.\n",
      "Bootstrapping set 5/12\n"
     ]
    },
    {
     "name": "stderr",
     "output_type": "stream",
     "text": [
      "  2%|▎         | 1/40 [00:14<09:32, 14.67s/it]\n"
     ]
    },
    {
     "name": "stdout",
     "output_type": "stream",
     "text": [
      "Bootstrapped 1 full traces after 1 examples for up to 1 rounds, amounting to 1 attempts.\n",
      "Bootstrapping set 6/12\n"
     ]
    },
    {
     "name": "stderr",
     "output_type": "stream",
     "text": [
      "  8%|▊         | 3/40 [00:45<09:24, 15.26s/it]\n"
     ]
    },
    {
     "name": "stdout",
     "output_type": "stream",
     "text": [
      "Bootstrapped 1 full traces after 3 examples for up to 1 rounds, amounting to 3 attempts.\n",
      "Bootstrapping set 7/12\n"
     ]
    },
    {
     "name": "stderr",
     "output_type": "stream",
     "text": [
      "  5%|▌         | 2/40 [00:23<07:25, 11.72s/it]\n"
     ]
    },
    {
     "name": "stdout",
     "output_type": "stream",
     "text": [
      "Bootstrapped 1 full traces after 2 examples for up to 1 rounds, amounting to 2 attempts.\n",
      "Bootstrapping set 8/12\n"
     ]
    },
    {
     "name": "stderr",
     "output_type": "stream",
     "text": [
      " 12%|█▎        | 5/40 [00:59<06:55, 11.86s/it]\n"
     ]
    },
    {
     "name": "stdout",
     "output_type": "stream",
     "text": [
      "Bootstrapped 1 full traces after 5 examples for up to 1 rounds, amounting to 5 attempts.\n",
      "Bootstrapping set 9/12\n"
     ]
    },
    {
     "name": "stderr",
     "output_type": "stream",
     "text": [
      "  5%|▌         | 2/40 [00:24<07:53, 12.46s/it]\n"
     ]
    },
    {
     "name": "stdout",
     "output_type": "stream",
     "text": [
      "Bootstrapped 2 full traces after 2 examples for up to 1 rounds, amounting to 2 attempts.\n",
      "Bootstrapping set 10/12\n"
     ]
    },
    {
     "name": "stderr",
     "output_type": "stream",
     "text": [
      "  5%|▌         | 2/40 [00:25<07:56, 12.55s/it]\n"
     ]
    },
    {
     "name": "stdout",
     "output_type": "stream",
     "text": [
      "Bootstrapped 1 full traces after 2 examples for up to 1 rounds, amounting to 2 attempts.\n",
      "Bootstrapping set 11/12\n"
     ]
    },
    {
     "name": "stderr",
     "output_type": "stream",
     "text": [
      " 12%|█▎        | 5/40 [00:53<06:16, 10.76s/it]\n"
     ]
    },
    {
     "name": "stdout",
     "output_type": "stream",
     "text": [
      "Bootstrapped 1 full traces after 5 examples for up to 1 rounds, amounting to 5 attempts.\n",
      "Bootstrapping set 12/12\n"
     ]
    },
    {
     "name": "stderr",
     "output_type": "stream",
     "text": [
      "  2%|▎         | 1/40 [00:10<07:02, 10.84s/it]\n",
      "2025/06/19 19:45:56 INFO dspy.teleprompt.mipro_optimizer_v2: \n",
      "==> STEP 2: PROPOSE INSTRUCTION CANDIDATES <==\n",
      "2025/06/19 19:45:56 INFO dspy.teleprompt.mipro_optimizer_v2: We will use the few-shot examples from the previous step, a generated dataset summary, a summary of the program code, and a randomly selected prompting tip to propose instructions.\n"
     ]
    },
    {
     "name": "stdout",
     "output_type": "stream",
     "text": [
      "Bootstrapped 1 full traces after 1 examples for up to 1 rounds, amounting to 1 attempts.\n"
     ]
    },
    {
     "name": "stderr",
     "output_type": "stream",
     "text": [
      "2025/06/19 19:46:09 INFO dspy.teleprompt.mipro_optimizer_v2: \n",
      "Proposing N=6 instructions...\n",
      "\n",
      "2025/06/19 19:46:54 INFO dspy.teleprompt.mipro_optimizer_v2: Proposed Instructions for Predictor 0:\n",
      "\n",
      "2025/06/19 19:46:54 INFO dspy.teleprompt.mipro_optimizer_v2: 0: Given the fields `context`, `question`, produce the fields `response`.\n",
      "\n",
      "2025/06/19 19:46:54 INFO dspy.teleprompt.mipro_optimizer_v2: 1: Imagine you're a technical support specialist assisting a user who is facing urgent issues with their macOS system. The user is desperate to resolve DNS resolution problems that are affecting their work, and they need clear, actionable steps to troubleshoot the issue as quickly as possible. Your task is to provide a structured response based on the context provided, addressing the user's question about \"dns not resolving on mac os x.\" Utilize the context to generate a detailed reasoning process and a coherent response that guides the user through the troubleshooting steps effectively.\n",
      "\n",
      "2025/06/19 19:46:54 INFO dspy.teleprompt.mipro_optimizer_v2: 2: You are a macOS technical support assistant. Given the fields `context` and `question`, analyze the provided information to generate a structured response that includes reasoning and actionable steps to help the user troubleshoot their technical issue. Ensure that your response is clear, concise, and tailored to the specific problem at hand, guiding the user effectively through the troubleshooting process.\n",
      "\n",
      "2025/06/19 19:46:54 INFO dspy.teleprompt.mipro_optimizer_v2: 3: Given the context provided, along with the specific question, please generate a detailed response that accurately answers the question by integrating relevant information from the context. Ensure that the response is clear and addresses the question effectively.\n",
      "\n",
      "2025/06/19 19:46:54 INFO dspy.teleprompt.mipro_optimizer_v2: 4: Generate a comprehensive response by analyzing the provided `context` and answering the `question` based on the reasoning derived from the context. Ensure that the response is clear, concise, and addresses the question directly, incorporating relevant details from the context to support your answer.\n",
      "\n",
      "2025/06/19 19:46:54 INFO dspy.teleprompt.mipro_optimizer_v2: 5: Given the context related to troubleshooting, technical questions, and system administration for Mac OS X and shell scripting, along with the user-provided question, analyze the context to produce a logical reasoning process and a clear response that addresses the user's inquiry effectively.\n",
      "\n",
      "2025/06/19 19:46:54 INFO dspy.teleprompt.mipro_optimizer_v2: \n",
      "\n",
      "2025/06/19 19:46:54 INFO dspy.teleprompt.mipro_optimizer_v2: ==> STEP 3: FINDING OPTIMAL PROMPT PARAMETERS <==\n",
      "2025/06/19 19:46:54 INFO dspy.teleprompt.mipro_optimizer_v2: We will evaluate the program over a series of trials with different combinations of instructions and few-shot examples to find the optimal combination using Bayesian Optimization.\n",
      "\n",
      "2025/06/19 19:46:54 INFO dspy.teleprompt.mipro_optimizer_v2: == Trial 1 / 23 - Full Evaluation of Default Program ==\n"
     ]
    },
    {
     "name": "stdout",
     "output_type": "stream",
     "text": [
      "Average Metric: 89.26 / 160 (55.8%): 100%|██████████| 160/160 [01:37<00:00,  1.65it/s]"
     ]
    },
    {
     "name": "stderr",
     "output_type": "stream",
     "text": [
      "2025/06/19 19:48:31 INFO dspy.evaluate.evaluate: Average Metric: 89.26388237281645 / 160 (55.8%)\n",
      "2025/06/19 19:48:31 INFO dspy.teleprompt.mipro_optimizer_v2: Default program score: 55.79\n",
      "\n",
      "/opt/homebrew/Caskroom/miniforge/base/envs/llm_tutorial/lib/python3.13/site-packages/optuna/_experimental.py:31: ExperimentalWarning: Argument ``multivariate`` is an experimental feature. The interface can change in the future.\n",
      "  warnings.warn(\n",
      "2025/06/19 19:48:31 INFO dspy.teleprompt.mipro_optimizer_v2: == Trial 2 / 23 - Minibatch ==\n"
     ]
    },
    {
     "name": "stdout",
     "output_type": "stream",
     "text": [
      "\n",
      "Average Metric: 21.30 / 35 (60.8%): 100%|██████████| 35/35 [00:28<00:00,  1.23it/s]"
     ]
    },
    {
     "name": "stderr",
     "output_type": "stream",
     "text": [
      "2025/06/19 19:49:00 INFO dspy.evaluate.evaluate: Average Metric: 21.29626294696506 / 35 (60.8%)\n",
      "2025/06/19 19:49:00 INFO dspy.teleprompt.mipro_optimizer_v2: Score: 60.85 on minibatch of size 35 with parameters ['Predictor 0: Instruction 1', 'Predictor 0: Few-Shot Set 6'].\n",
      "2025/06/19 19:49:00 INFO dspy.teleprompt.mipro_optimizer_v2: Minibatch scores so far: [60.85]\n",
      "2025/06/19 19:49:00 INFO dspy.teleprompt.mipro_optimizer_v2: Full eval scores so far: [55.79]\n",
      "2025/06/19 19:49:00 INFO dspy.teleprompt.mipro_optimizer_v2: Best full score so far: 55.79\n",
      "2025/06/19 19:49:00 INFO dspy.teleprompt.mipro_optimizer_v2: =========================================\n",
      "\n",
      "\n",
      "2025/06/19 19:49:00 INFO dspy.teleprompt.mipro_optimizer_v2: == Trial 3 / 23 - Minibatch ==\n"
     ]
    },
    {
     "name": "stdout",
     "output_type": "stream",
     "text": [
      "\n",
      "Average Metric: 19.75 / 35 (56.4%): 100%|██████████| 35/35 [00:27<00:00,  1.27it/s]"
     ]
    },
    {
     "name": "stderr",
     "output_type": "stream",
     "text": [
      "2025/06/19 19:49:27 INFO dspy.evaluate.evaluate: Average Metric: 19.75134564639418 / 35 (56.4%)\n",
      "2025/06/19 19:49:27 INFO dspy.teleprompt.mipro_optimizer_v2: Score: 56.43 on minibatch of size 35 with parameters ['Predictor 0: Instruction 4', 'Predictor 0: Few-Shot Set 2'].\n",
      "2025/06/19 19:49:27 INFO dspy.teleprompt.mipro_optimizer_v2: Minibatch scores so far: [60.85, 56.43]\n",
      "2025/06/19 19:49:27 INFO dspy.teleprompt.mipro_optimizer_v2: Full eval scores so far: [55.79]\n",
      "2025/06/19 19:49:27 INFO dspy.teleprompt.mipro_optimizer_v2: Best full score so far: 55.79\n",
      "2025/06/19 19:49:27 INFO dspy.teleprompt.mipro_optimizer_v2: =========================================\n",
      "\n",
      "\n",
      "2025/06/19 19:49:27 INFO dspy.teleprompt.mipro_optimizer_v2: == Trial 4 / 23 - Minibatch ==\n"
     ]
    },
    {
     "name": "stdout",
     "output_type": "stream",
     "text": [
      "\n",
      "Average Metric: 21.20 / 35 (60.6%): 100%|██████████| 35/35 [00:27<00:00,  1.29it/s]"
     ]
    },
    {
     "name": "stderr",
     "output_type": "stream",
     "text": [
      "2025/06/19 19:49:54 INFO dspy.evaluate.evaluate: Average Metric: 21.198747831773698 / 35 (60.6%)\n",
      "2025/06/19 19:49:54 INFO dspy.teleprompt.mipro_optimizer_v2: Score: 60.57 on minibatch of size 35 with parameters ['Predictor 0: Instruction 0', 'Predictor 0: Few-Shot Set 6'].\n",
      "2025/06/19 19:49:54 INFO dspy.teleprompt.mipro_optimizer_v2: Minibatch scores so far: [60.85, 56.43, 60.57]\n",
      "2025/06/19 19:49:54 INFO dspy.teleprompt.mipro_optimizer_v2: Full eval scores so far: [55.79]\n",
      "2025/06/19 19:49:54 INFO dspy.teleprompt.mipro_optimizer_v2: Best full score so far: 55.79\n",
      "2025/06/19 19:49:54 INFO dspy.teleprompt.mipro_optimizer_v2: =========================================\n",
      "\n",
      "\n",
      "2025/06/19 19:49:54 INFO dspy.teleprompt.mipro_optimizer_v2: == Trial 5 / 23 - Minibatch ==\n"
     ]
    },
    {
     "name": "stdout",
     "output_type": "stream",
     "text": [
      "\n",
      "Average Metric: 22.90 / 35 (65.4%): 100%|██████████| 35/35 [00:26<00:00,  1.31it/s]"
     ]
    },
    {
     "name": "stderr",
     "output_type": "stream",
     "text": [
      "2025/06/19 19:50:21 INFO dspy.evaluate.evaluate: Average Metric: 22.897540091352568 / 35 (65.4%)\n",
      "2025/06/19 19:50:21 INFO dspy.teleprompt.mipro_optimizer_v2: Score: 65.42 on minibatch of size 35 with parameters ['Predictor 0: Instruction 2', 'Predictor 0: Few-Shot Set 4'].\n",
      "2025/06/19 19:50:21 INFO dspy.teleprompt.mipro_optimizer_v2: Minibatch scores so far: [60.85, 56.43, 60.57, 65.42]\n",
      "2025/06/19 19:50:21 INFO dspy.teleprompt.mipro_optimizer_v2: Full eval scores so far: [55.79]\n",
      "2025/06/19 19:50:21 INFO dspy.teleprompt.mipro_optimizer_v2: Best full score so far: 55.79\n",
      "2025/06/19 19:50:21 INFO dspy.teleprompt.mipro_optimizer_v2: =========================================\n",
      "\n",
      "\n",
      "2025/06/19 19:50:21 INFO dspy.teleprompt.mipro_optimizer_v2: == Trial 6 / 23 - Minibatch ==\n"
     ]
    },
    {
     "name": "stdout",
     "output_type": "stream",
     "text": [
      "\n",
      "Average Metric: 20.17 / 35 (57.6%): 100%|██████████| 35/35 [00:35<00:00,  1.02s/it]"
     ]
    },
    {
     "name": "stderr",
     "output_type": "stream",
     "text": [
      "2025/06/19 19:50:57 INFO dspy.evaluate.evaluate: Average Metric: 20.17094777916823 / 35 (57.6%)\n",
      "2025/06/19 19:50:57 INFO dspy.teleprompt.mipro_optimizer_v2: Score: 57.63 on minibatch of size 35 with parameters ['Predictor 0: Instruction 3', 'Predictor 0: Few-Shot Set 5'].\n",
      "2025/06/19 19:50:57 INFO dspy.teleprompt.mipro_optimizer_v2: Minibatch scores so far: [60.85, 56.43, 60.57, 65.42, 57.63]\n",
      "2025/06/19 19:50:57 INFO dspy.teleprompt.mipro_optimizer_v2: Full eval scores so far: [55.79]\n",
      "2025/06/19 19:50:57 INFO dspy.teleprompt.mipro_optimizer_v2: Best full score so far: 55.79\n",
      "2025/06/19 19:50:57 INFO dspy.teleprompt.mipro_optimizer_v2: =========================================\n",
      "\n",
      "\n",
      "2025/06/19 19:50:57 INFO dspy.teleprompt.mipro_optimizer_v2: ===== Trial 7 / 23 - Full Evaluation =====\n",
      "2025/06/19 19:50:57 INFO dspy.teleprompt.mipro_optimizer_v2: Doing full eval on next top averaging program (Avg Score: 65.42) from minibatch trials...\n"
     ]
    },
    {
     "name": "stdout",
     "output_type": "stream",
     "text": [
      "\n",
      "Average Metric: 94.17 / 160 (58.9%): 100%|██████████| 160/160 [01:18<00:00,  2.04it/s]"
     ]
    },
    {
     "name": "stderr",
     "output_type": "stream",
     "text": [
      "2025/06/19 19:52:15 INFO dspy.evaluate.evaluate: Average Metric: 94.16883740608652 / 160 (58.9%)\n",
      "2025/06/19 19:52:15 INFO dspy.teleprompt.mipro_optimizer_v2: \u001b[92mNew best full eval score!\u001b[0m Score: 58.86\n",
      "2025/06/19 19:52:15 INFO dspy.teleprompt.mipro_optimizer_v2: Full eval scores so far: [55.79, 58.86]\n",
      "2025/06/19 19:52:15 INFO dspy.teleprompt.mipro_optimizer_v2: Best full score so far: 58.86\n",
      "2025/06/19 19:52:15 INFO dspy.teleprompt.mipro_optimizer_v2: =======================\n",
      "2025/06/19 19:52:15 INFO dspy.teleprompt.mipro_optimizer_v2: \n",
      "\n",
      "2025/06/19 19:52:15 INFO dspy.teleprompt.mipro_optimizer_v2: == Trial 8 / 23 - Minibatch ==\n"
     ]
    },
    {
     "name": "stdout",
     "output_type": "stream",
     "text": [
      "\n",
      "Average Metric: 22.12 / 35 (63.2%): 100%|██████████| 35/35 [00:32<00:00,  1.07it/s]"
     ]
    },
    {
     "name": "stderr",
     "output_type": "stream",
     "text": [
      "2025/06/19 19:52:48 INFO dspy.evaluate.evaluate: Average Metric: 22.124802089202777 / 35 (63.2%)\n",
      "2025/06/19 19:52:48 INFO dspy.teleprompt.mipro_optimizer_v2: Score: 63.21 on minibatch of size 35 with parameters ['Predictor 0: Instruction 4', 'Predictor 0: Few-Shot Set 6'].\n",
      "2025/06/19 19:52:48 INFO dspy.teleprompt.mipro_optimizer_v2: Minibatch scores so far: [60.85, 56.43, 60.57, 65.42, 57.63, 63.21]\n",
      "2025/06/19 19:52:48 INFO dspy.teleprompt.mipro_optimizer_v2: Full eval scores so far: [55.79, 58.86]\n",
      "2025/06/19 19:52:48 INFO dspy.teleprompt.mipro_optimizer_v2: Best full score so far: 58.86\n",
      "2025/06/19 19:52:48 INFO dspy.teleprompt.mipro_optimizer_v2: =========================================\n",
      "\n",
      "\n",
      "2025/06/19 19:52:48 INFO dspy.teleprompt.mipro_optimizer_v2: == Trial 9 / 23 - Minibatch ==\n"
     ]
    },
    {
     "name": "stdout",
     "output_type": "stream",
     "text": [
      "\n",
      "Average Metric: 21.07 / 35 (60.2%): 100%|██████████| 35/35 [00:29<00:00,  1.18it/s]"
     ]
    },
    {
     "name": "stderr",
     "output_type": "stream",
     "text": [
      "2025/06/19 19:53:18 INFO dspy.evaluate.evaluate: Average Metric: 21.066716678789707 / 35 (60.2%)\n",
      "2025/06/19 19:53:18 INFO dspy.teleprompt.mipro_optimizer_v2: Score: 60.19 on minibatch of size 35 with parameters ['Predictor 0: Instruction 5', 'Predictor 0: Few-Shot Set 1'].\n",
      "2025/06/19 19:53:18 INFO dspy.teleprompt.mipro_optimizer_v2: Minibatch scores so far: [60.85, 56.43, 60.57, 65.42, 57.63, 63.21, 60.19]\n",
      "2025/06/19 19:53:18 INFO dspy.teleprompt.mipro_optimizer_v2: Full eval scores so far: [55.79, 58.86]\n",
      "2025/06/19 19:53:18 INFO dspy.teleprompt.mipro_optimizer_v2: Best full score so far: 58.86\n",
      "2025/06/19 19:53:18 INFO dspy.teleprompt.mipro_optimizer_v2: =========================================\n",
      "\n",
      "\n",
      "2025/06/19 19:53:18 INFO dspy.teleprompt.mipro_optimizer_v2: == Trial 10 / 23 - Minibatch ==\n"
     ]
    },
    {
     "name": "stdout",
     "output_type": "stream",
     "text": [
      "\n",
      "Average Metric: 20.53 / 35 (58.7%): 100%|██████████| 35/35 [00:31<00:00,  1.11it/s]"
     ]
    },
    {
     "name": "stderr",
     "output_type": "stream",
     "text": [
      "2025/06/19 19:53:49 INFO dspy.evaluate.evaluate: Average Metric: 20.528647404307613 / 35 (58.7%)\n",
      "2025/06/19 19:53:50 INFO dspy.teleprompt.mipro_optimizer_v2: Score: 58.65 on minibatch of size 35 with parameters ['Predictor 0: Instruction 3', 'Predictor 0: Few-Shot Set 3'].\n",
      "2025/06/19 19:53:50 INFO dspy.teleprompt.mipro_optimizer_v2: Minibatch scores so far: [60.85, 56.43, 60.57, 65.42, 57.63, 63.21, 60.19, 58.65]\n",
      "2025/06/19 19:53:50 INFO dspy.teleprompt.mipro_optimizer_v2: Full eval scores so far: [55.79, 58.86]\n",
      "2025/06/19 19:53:50 INFO dspy.teleprompt.mipro_optimizer_v2: Best full score so far: 58.86\n",
      "2025/06/19 19:53:50 INFO dspy.teleprompt.mipro_optimizer_v2: ==========================================\n",
      "\n",
      "\n",
      "2025/06/19 19:53:50 INFO dspy.teleprompt.mipro_optimizer_v2: == Trial 11 / 23 - Minibatch ==\n"
     ]
    },
    {
     "name": "stdout",
     "output_type": "stream",
     "text": [
      "\n",
      "Average Metric: 20.88 / 35 (59.7%): 100%|██████████| 35/35 [00:32<00:00,  1.07it/s]"
     ]
    },
    {
     "name": "stderr",
     "output_type": "stream",
     "text": [
      "2025/06/19 19:54:22 INFO dspy.evaluate.evaluate: Average Metric: 20.883743839493903 / 35 (59.7%)\n",
      "2025/06/19 19:54:22 INFO dspy.teleprompt.mipro_optimizer_v2: Score: 59.67 on minibatch of size 35 with parameters ['Predictor 0: Instruction 2', 'Predictor 0: Few-Shot Set 10'].\n",
      "2025/06/19 19:54:22 INFO dspy.teleprompt.mipro_optimizer_v2: Minibatch scores so far: [60.85, 56.43, 60.57, 65.42, 57.63, 63.21, 60.19, 58.65, 59.67]\n",
      "2025/06/19 19:54:22 INFO dspy.teleprompt.mipro_optimizer_v2: Full eval scores so far: [55.79, 58.86]\n",
      "2025/06/19 19:54:22 INFO dspy.teleprompt.mipro_optimizer_v2: Best full score so far: 58.86\n",
      "2025/06/19 19:54:22 INFO dspy.teleprompt.mipro_optimizer_v2: ==========================================\n",
      "\n",
      "\n",
      "2025/06/19 19:54:22 INFO dspy.teleprompt.mipro_optimizer_v2: == Trial 12 / 23 - Minibatch ==\n"
     ]
    },
    {
     "name": "stdout",
     "output_type": "stream",
     "text": [
      "\n",
      "Average Metric: 20.20 / 35 (57.7%): 100%|██████████| 35/35 [00:26<00:00,  1.32it/s]"
     ]
    },
    {
     "name": "stderr",
     "output_type": "stream",
     "text": [
      "2025/06/19 19:54:49 INFO dspy.evaluate.evaluate: Average Metric: 20.19744593108016 / 35 (57.7%)\n",
      "2025/06/19 19:54:49 INFO dspy.teleprompt.mipro_optimizer_v2: Score: 57.71 on minibatch of size 35 with parameters ['Predictor 0: Instruction 4', 'Predictor 0: Few-Shot Set 6'].\n",
      "2025/06/19 19:54:49 INFO dspy.teleprompt.mipro_optimizer_v2: Minibatch scores so far: [60.85, 56.43, 60.57, 65.42, 57.63, 63.21, 60.19, 58.65, 59.67, 57.71]\n",
      "2025/06/19 19:54:49 INFO dspy.teleprompt.mipro_optimizer_v2: Full eval scores so far: [55.79, 58.86]\n",
      "2025/06/19 19:54:49 INFO dspy.teleprompt.mipro_optimizer_v2: Best full score so far: 58.86\n",
      "2025/06/19 19:54:49 INFO dspy.teleprompt.mipro_optimizer_v2: ==========================================\n",
      "\n",
      "\n",
      "2025/06/19 19:54:49 INFO dspy.teleprompt.mipro_optimizer_v2: ===== Trial 13 / 23 - Full Evaluation =====\n",
      "2025/06/19 19:54:49 INFO dspy.teleprompt.mipro_optimizer_v2: Doing full eval on next top averaging program (Avg Score: 60.85) from minibatch trials...\n"
     ]
    },
    {
     "name": "stdout",
     "output_type": "stream",
     "text": [
      "\n",
      "Average Metric: 95.64 / 160 (59.8%): 100%|██████████| 160/160 [01:19<00:00,  2.02it/s]"
     ]
    },
    {
     "name": "stderr",
     "output_type": "stream",
     "text": [
      "2025/06/19 19:56:08 INFO dspy.evaluate.evaluate: Average Metric: 95.63916235776854 / 160 (59.8%)\n",
      "2025/06/19 19:56:08 INFO dspy.teleprompt.mipro_optimizer_v2: \u001b[92mNew best full eval score!\u001b[0m Score: 59.77\n",
      "2025/06/19 19:56:08 INFO dspy.teleprompt.mipro_optimizer_v2: Full eval scores so far: [55.79, 58.86, 59.77]\n",
      "2025/06/19 19:56:08 INFO dspy.teleprompt.mipro_optimizer_v2: Best full score so far: 59.77\n",
      "2025/06/19 19:56:08 INFO dspy.teleprompt.mipro_optimizer_v2: =======================\n",
      "2025/06/19 19:56:08 INFO dspy.teleprompt.mipro_optimizer_v2: \n",
      "\n",
      "2025/06/19 19:56:08 INFO dspy.teleprompt.mipro_optimizer_v2: == Trial 14 / 23 - Minibatch ==\n"
     ]
    },
    {
     "name": "stdout",
     "output_type": "stream",
     "text": [
      "\n",
      "Average Metric: 21.10 / 35 (60.3%): 100%|██████████| 35/35 [00:02<00:00, 17.12it/s]"
     ]
    },
    {
     "name": "stderr",
     "output_type": "stream",
     "text": [
      "2025/06/19 19:56:10 INFO dspy.evaluate.evaluate: Average Metric: 21.095833521702296 / 35 (60.3%)\n"
     ]
    },
    {
     "name": "stdout",
     "output_type": "stream",
     "text": [
      "\n"
     ]
    },
    {
     "name": "stderr",
     "output_type": "stream",
     "text": [
      "2025/06/19 19:56:11 INFO dspy.teleprompt.mipro_optimizer_v2: Score: 60.27 on minibatch of size 35 with parameters ['Predictor 0: Instruction 2', 'Predictor 0: Few-Shot Set 4'].\n",
      "2025/06/19 19:56:11 INFO dspy.teleprompt.mipro_optimizer_v2: Minibatch scores so far: [60.85, 56.43, 60.57, 65.42, 57.63, 63.21, 60.19, 58.65, 59.67, 57.71, 60.27]\n",
      "2025/06/19 19:56:11 INFO dspy.teleprompt.mipro_optimizer_v2: Full eval scores so far: [55.79, 58.86, 59.77]\n",
      "2025/06/19 19:56:11 INFO dspy.teleprompt.mipro_optimizer_v2: Best full score so far: 59.77\n",
      "2025/06/19 19:56:11 INFO dspy.teleprompt.mipro_optimizer_v2: ==========================================\n",
      "\n",
      "\n",
      "2025/06/19 19:56:11 INFO dspy.teleprompt.mipro_optimizer_v2: == Trial 15 / 23 - Minibatch ==\n"
     ]
    },
    {
     "name": "stdout",
     "output_type": "stream",
     "text": [
      "Average Metric: 22.03 / 35 (62.9%): 100%|██████████| 35/35 [00:28<00:00,  1.24it/s]"
     ]
    },
    {
     "name": "stderr",
     "output_type": "stream",
     "text": [
      "2025/06/19 19:56:39 INFO dspy.evaluate.evaluate: Average Metric: 22.025330771541885 / 35 (62.9%)\n",
      "2025/06/19 19:56:39 INFO dspy.teleprompt.mipro_optimizer_v2: Score: 62.93 on minibatch of size 35 with parameters ['Predictor 0: Instruction 4', 'Predictor 0: Few-Shot Set 4'].\n",
      "2025/06/19 19:56:39 INFO dspy.teleprompt.mipro_optimizer_v2: Minibatch scores so far: [60.85, 56.43, 60.57, 65.42, 57.63, 63.21, 60.19, 58.65, 59.67, 57.71, 60.27, 62.93]\n",
      "2025/06/19 19:56:39 INFO dspy.teleprompt.mipro_optimizer_v2: Full eval scores so far: [55.79, 58.86, 59.77]\n",
      "2025/06/19 19:56:39 INFO dspy.teleprompt.mipro_optimizer_v2: Best full score so far: 59.77\n",
      "2025/06/19 19:56:39 INFO dspy.teleprompt.mipro_optimizer_v2: ==========================================\n",
      "\n",
      "\n",
      "2025/06/19 19:56:39 INFO dspy.teleprompt.mipro_optimizer_v2: == Trial 16 / 23 - Minibatch ==\n"
     ]
    },
    {
     "name": "stdout",
     "output_type": "stream",
     "text": [
      "\n",
      "Average Metric: 19.65 / 35 (56.2%): 100%|██████████| 35/35 [00:26<00:00,  1.31it/s]"
     ]
    },
    {
     "name": "stderr",
     "output_type": "stream",
     "text": [
      "2025/06/19 19:57:06 INFO dspy.evaluate.evaluate: Average Metric: 19.654531384790417 / 35 (56.2%)\n",
      "2025/06/19 19:57:06 INFO dspy.teleprompt.mipro_optimizer_v2: Score: 56.16 on minibatch of size 35 with parameters ['Predictor 0: Instruction 5', 'Predictor 0: Few-Shot Set 9'].\n",
      "2025/06/19 19:57:06 INFO dspy.teleprompt.mipro_optimizer_v2: Minibatch scores so far: [60.85, 56.43, 60.57, 65.42, 57.63, 63.21, 60.19, 58.65, 59.67, 57.71, 60.27, 62.93, 56.16]\n",
      "2025/06/19 19:57:06 INFO dspy.teleprompt.mipro_optimizer_v2: Full eval scores so far: [55.79, 58.86, 59.77]\n",
      "2025/06/19 19:57:06 INFO dspy.teleprompt.mipro_optimizer_v2: Best full score so far: 59.77\n",
      "2025/06/19 19:57:06 INFO dspy.teleprompt.mipro_optimizer_v2: ==========================================\n",
      "\n",
      "\n",
      "2025/06/19 19:57:06 INFO dspy.teleprompt.mipro_optimizer_v2: == Trial 17 / 23 - Minibatch ==\n"
     ]
    },
    {
     "name": "stdout",
     "output_type": "stream",
     "text": [
      "\n",
      "Average Metric: 20.09 / 35 (57.4%): 100%|██████████| 35/35 [00:28<00:00,  1.21it/s]"
     ]
    },
    {
     "name": "stderr",
     "output_type": "stream",
     "text": [
      "2025/06/19 19:57:35 INFO dspy.evaluate.evaluate: Average Metric: 20.090181301390707 / 35 (57.4%)\n",
      "2025/06/19 19:57:35 INFO dspy.teleprompt.mipro_optimizer_v2: Score: 57.4 on minibatch of size 35 with parameters ['Predictor 0: Instruction 4', 'Predictor 0: Few-Shot Set 11'].\n",
      "2025/06/19 19:57:35 INFO dspy.teleprompt.mipro_optimizer_v2: Minibatch scores so far: [60.85, 56.43, 60.57, 65.42, 57.63, 63.21, 60.19, 58.65, 59.67, 57.71, 60.27, 62.93, 56.16, 57.4]\n",
      "2025/06/19 19:57:35 INFO dspy.teleprompt.mipro_optimizer_v2: Full eval scores so far: [55.79, 58.86, 59.77]\n",
      "2025/06/19 19:57:35 INFO dspy.teleprompt.mipro_optimizer_v2: Best full score so far: 59.77\n",
      "2025/06/19 19:57:35 INFO dspy.teleprompt.mipro_optimizer_v2: ==========================================\n",
      "\n",
      "\n",
      "2025/06/19 19:57:35 INFO dspy.teleprompt.mipro_optimizer_v2: == Trial 18 / 23 - Minibatch ==\n"
     ]
    },
    {
     "name": "stdout",
     "output_type": "stream",
     "text": [
      "\n",
      "Average Metric: 21.86 / 35 (62.5%): 100%|██████████| 35/35 [00:30<00:00,  1.16it/s]"
     ]
    },
    {
     "name": "stderr",
     "output_type": "stream",
     "text": [
      "2025/06/19 19:58:05 INFO dspy.evaluate.evaluate: Average Metric: 21.862996815866257 / 35 (62.5%)\n",
      "2025/06/19 19:58:05 INFO dspy.teleprompt.mipro_optimizer_v2: Score: 62.47 on minibatch of size 35 with parameters ['Predictor 0: Instruction 2', 'Predictor 0: Few-Shot Set 8'].\n",
      "2025/06/19 19:58:05 INFO dspy.teleprompt.mipro_optimizer_v2: Minibatch scores so far: [60.85, 56.43, 60.57, 65.42, 57.63, 63.21, 60.19, 58.65, 59.67, 57.71, 60.27, 62.93, 56.16, 57.4, 62.47]\n",
      "2025/06/19 19:58:05 INFO dspy.teleprompt.mipro_optimizer_v2: Full eval scores so far: [55.79, 58.86, 59.77]\n",
      "2025/06/19 19:58:05 INFO dspy.teleprompt.mipro_optimizer_v2: Best full score so far: 59.77\n",
      "2025/06/19 19:58:05 INFO dspy.teleprompt.mipro_optimizer_v2: ==========================================\n",
      "\n",
      "\n",
      "2025/06/19 19:58:05 INFO dspy.teleprompt.mipro_optimizer_v2: ===== Trial 19 / 23 - Full Evaluation =====\n",
      "2025/06/19 19:58:05 INFO dspy.teleprompt.mipro_optimizer_v2: Doing full eval on next top averaging program (Avg Score: 62.93) from minibatch trials...\n"
     ]
    },
    {
     "name": "stdout",
     "output_type": "stream",
     "text": [
      "\n",
      "Average Metric: 93.32 / 160 (58.3%): 100%|██████████| 160/160 [01:18<00:00,  2.04it/s]"
     ]
    },
    {
     "name": "stderr",
     "output_type": "stream",
     "text": [
      "2025/06/19 19:59:24 INFO dspy.evaluate.evaluate: Average Metric: 93.31674960840108 / 160 (58.3%)\n",
      "2025/06/19 19:59:24 INFO dspy.teleprompt.mipro_optimizer_v2: Full eval scores so far: [55.79, 58.86, 59.77, 58.32]\n",
      "2025/06/19 19:59:24 INFO dspy.teleprompt.mipro_optimizer_v2: Best full score so far: 59.77\n",
      "2025/06/19 19:59:24 INFO dspy.teleprompt.mipro_optimizer_v2: =======================\n",
      "2025/06/19 19:59:24 INFO dspy.teleprompt.mipro_optimizer_v2: \n",
      "\n",
      "2025/06/19 19:59:24 INFO dspy.teleprompt.mipro_optimizer_v2: == Trial 20 / 23 - Minibatch ==\n"
     ]
    },
    {
     "name": "stdout",
     "output_type": "stream",
     "text": [
      "\n",
      "Average Metric: 19.75 / 35 (56.4%): 100%|██████████| 35/35 [00:30<00:00,  1.13it/s]"
     ]
    },
    {
     "name": "stderr",
     "output_type": "stream",
     "text": [
      "2025/06/19 19:59:55 INFO dspy.evaluate.evaluate: Average Metric: 19.750599004909674 / 35 (56.4%)\n",
      "2025/06/19 19:59:55 INFO dspy.teleprompt.mipro_optimizer_v2: Score: 56.43 on minibatch of size 35 with parameters ['Predictor 0: Instruction 2', 'Predictor 0: Few-Shot Set 7'].\n",
      "2025/06/19 19:59:55 INFO dspy.teleprompt.mipro_optimizer_v2: Minibatch scores so far: [60.85, 56.43, 60.57, 65.42, 57.63, 63.21, 60.19, 58.65, 59.67, 57.71, 60.27, 62.93, 56.16, 57.4, 62.47, 56.43]\n",
      "2025/06/19 19:59:55 INFO dspy.teleprompt.mipro_optimizer_v2: Full eval scores so far: [55.79, 58.86, 59.77, 58.32]\n",
      "2025/06/19 19:59:55 INFO dspy.teleprompt.mipro_optimizer_v2: Best full score so far: 59.77\n",
      "2025/06/19 19:59:55 INFO dspy.teleprompt.mipro_optimizer_v2: ==========================================\n",
      "\n",
      "\n",
      "2025/06/19 19:59:55 INFO dspy.teleprompt.mipro_optimizer_v2: == Trial 21 / 23 - Minibatch ==\n"
     ]
    },
    {
     "name": "stdout",
     "output_type": "stream",
     "text": [
      "\n",
      "Average Metric: 20.03 / 35 (57.2%): 100%|██████████| 35/35 [00:36<00:00,  1.04s/it]"
     ]
    },
    {
     "name": "stderr",
     "output_type": "stream",
     "text": [
      "2025/06/19 20:00:31 INFO dspy.evaluate.evaluate: Average Metric: 20.02740421111082 / 35 (57.2%)\n",
      "2025/06/19 20:00:31 INFO dspy.teleprompt.mipro_optimizer_v2: Score: 57.22 on minibatch of size 35 with parameters ['Predictor 0: Instruction 2', 'Predictor 0: Few-Shot Set 11'].\n",
      "2025/06/19 20:00:31 INFO dspy.teleprompt.mipro_optimizer_v2: Minibatch scores so far: [60.85, 56.43, 60.57, 65.42, 57.63, 63.21, 60.19, 58.65, 59.67, 57.71, 60.27, 62.93, 56.16, 57.4, 62.47, 56.43, 57.22]\n",
      "2025/06/19 20:00:31 INFO dspy.teleprompt.mipro_optimizer_v2: Full eval scores so far: [55.79, 58.86, 59.77, 58.32]\n",
      "2025/06/19 20:00:31 INFO dspy.teleprompt.mipro_optimizer_v2: Best full score so far: 59.77\n",
      "2025/06/19 20:00:31 INFO dspy.teleprompt.mipro_optimizer_v2: ==========================================\n",
      "\n",
      "\n",
      "2025/06/19 20:00:31 INFO dspy.teleprompt.mipro_optimizer_v2: == Trial 22 / 23 - Minibatch ==\n"
     ]
    },
    {
     "name": "stdout",
     "output_type": "stream",
     "text": [
      "\n",
      "Average Metric: 21.41 / 35 (61.2%): 100%|██████████| 35/35 [00:29<00:00,  1.20it/s]"
     ]
    },
    {
     "name": "stderr",
     "output_type": "stream",
     "text": [
      "2025/06/19 20:01:00 INFO dspy.evaluate.evaluate: Average Metric: 21.410599149993924 / 35 (61.2%)\n",
      "2025/06/19 20:01:00 INFO dspy.teleprompt.mipro_optimizer_v2: Score: 61.17 on minibatch of size 35 with parameters ['Predictor 0: Instruction 1', 'Predictor 0: Few-Shot Set 4'].\n",
      "2025/06/19 20:01:00 INFO dspy.teleprompt.mipro_optimizer_v2: Minibatch scores so far: [60.85, 56.43, 60.57, 65.42, 57.63, 63.21, 60.19, 58.65, 59.67, 57.71, 60.27, 62.93, 56.16, 57.4, 62.47, 56.43, 57.22, 61.17]\n",
      "2025/06/19 20:01:00 INFO dspy.teleprompt.mipro_optimizer_v2: Full eval scores so far: [55.79, 58.86, 59.77, 58.32]\n",
      "2025/06/19 20:01:00 INFO dspy.teleprompt.mipro_optimizer_v2: Best full score so far: 59.77\n",
      "2025/06/19 20:01:00 INFO dspy.teleprompt.mipro_optimizer_v2: ==========================================\n",
      "\n",
      "\n",
      "2025/06/19 20:01:00 INFO dspy.teleprompt.mipro_optimizer_v2: ===== Trial 23 / 23 - Full Evaluation =====\n",
      "2025/06/19 20:01:00 INFO dspy.teleprompt.mipro_optimizer_v2: Doing full eval on next top averaging program (Avg Score: 62.47) from minibatch trials...\n"
     ]
    },
    {
     "name": "stdout",
     "output_type": "stream",
     "text": [
      "\n",
      "Average Metric: 93.21 / 160 (58.3%): 100%|██████████| 160/160 [01:14<00:00,  2.14it/s]"
     ]
    },
    {
     "name": "stderr",
     "output_type": "stream",
     "text": [
      "2025/06/19 20:02:15 INFO dspy.evaluate.evaluate: Average Metric: 93.20871221007275 / 160 (58.3%)\n",
      "2025/06/19 20:02:15 INFO dspy.teleprompt.mipro_optimizer_v2: Full eval scores so far: [55.79, 58.86, 59.77, 58.32, 58.26]\n",
      "2025/06/19 20:02:15 INFO dspy.teleprompt.mipro_optimizer_v2: Best full score so far: 59.77\n",
      "2025/06/19 20:02:15 INFO dspy.teleprompt.mipro_optimizer_v2: =======================\n",
      "2025/06/19 20:02:15 INFO dspy.teleprompt.mipro_optimizer_v2: \n",
      "\n",
      "2025/06/19 20:02:15 INFO dspy.teleprompt.mipro_optimizer_v2: Returning best identified program with score 59.77!\n"
     ]
    },
    {
     "name": "stdout",
     "output_type": "stream",
     "text": [
      "\n"
     ]
    }
   ],
   "source": [
    "tp = dspy.MIPROv2(metric=metric, auto=\"medium\", num_threads=24)  # use fewer threads if your rate limit is small\n",
    "\n",
    "optimized_rag = tp.compile(RAG(), trainset=trainset,\n",
    "                           max_bootstrapped_demos=2, max_labeled_demos=2,\n",
    "                           requires_permission_to_run=False)"
   ]
  },
  {
   "cell_type": "code",
   "execution_count": 31,
   "metadata": {},
   "outputs": [
    {
     "name": "stdout",
     "output_type": "stream",
     "text": [
      "You are correct; cmd+tab does not work on hidden or minimized windows. To switch back to a minimized app, you need to first switch to another app and let it take focus. The Command + Tab shortcut is designed to cycle through currently active applications, and minimized windows do not count as active.\n"
     ]
    }
   ],
   "source": [
    "baseline = rag(question=\"cmd+tab does not work on hidden or minimized windows\")\n",
    "print(baseline.response)"
   ]
  },
  {
   "cell_type": "code",
   "execution_count": 32,
   "metadata": {},
   "outputs": [
    {
     "name": "stdout",
     "output_type": "stream",
     "text": [
      "The Command + Tab functionality on macOS does not allow you to switch directly to hidden or minimized windows. When you use Command + Tab, it cycles through your recently used applications, but minimized windows require a different approach. To switch back to a minimized app, you need to first switch to another application and let it take focus. If you want to manage minimized windows more effectively, consider using Command + Option + H to hide other applications or Command + Option + M to minimize the currently active window. This way, you can better control your workspace without relying solely on Command + Tab.\n"
     ]
    }
   ],
   "source": [
    "pred = optimized_rag(question=\"cmd+tab does not work on hidden or minimized windows\")\n",
    "print(pred.response)"
   ]
  },
  {
   "cell_type": "code",
   "execution_count": 33,
   "metadata": {},
   "outputs": [
    {
     "name": "stdout",
     "output_type": "stream",
     "text": [
      "Average Metric: 182.05 / 300 (60.7%): 100%|██████████| 300/300 [03:09<00:00,  1.59it/s]"
     ]
    },
    {
     "name": "stderr",
     "output_type": "stream",
     "text": [
      "2025/06/19 21:39:02 INFO dspy.evaluate.evaluate: Average Metric: 182.04766646955244 / 300 (60.7%)\n"
     ]
    },
    {
     "name": "stdout",
     "output_type": "stream",
     "text": [
      "\n"
     ]
    },
    {
     "data": {
      "text/html": [
       "<div>\n",
       "<style scoped>\n",
       "    .dataframe tbody tr th:only-of-type {\n",
       "        vertical-align: middle;\n",
       "    }\n",
       "\n",
       "    .dataframe tbody tr th {\n",
       "        vertical-align: top;\n",
       "    }\n",
       "\n",
       "    .dataframe thead th {\n",
       "        text-align: right;\n",
       "    }\n",
       "</style>\n",
       "<table border=\"1\" class=\"dataframe\">\n",
       "  <thead>\n",
       "    <tr style=\"text-align: right;\">\n",
       "      <th></th>\n",
       "      <th>question</th>\n",
       "      <th>example_response</th>\n",
       "      <th>gold_doc_ids</th>\n",
       "      <th>reasoning</th>\n",
       "      <th>pred_response</th>\n",
       "      <th>SemanticF1</th>\n",
       "    </tr>\n",
       "  </thead>\n",
       "  <tbody>\n",
       "    <tr>\n",
       "      <th>0</th>\n",
       "      <td>when to use c over c++, and c++ over c?</td>\n",
       "      <td>If you are equally familiar with both C++ and C, it's advisable to...</td>\n",
       "      <td>[733]</td>\n",
       "      <td>The context provides insights into the strengths and weaknesses of...</td>\n",
       "      <td>Use C over C++ when working on embedded systems or projects where ...</td>\n",
       "      <td>✔️ [0.179]</td>\n",
       "    </tr>\n",
       "    <tr>\n",
       "      <th>1</th>\n",
       "      <td>should images be stored in a git repository?</td>\n",
       "      <td>One viewpoint expresses that there is no significant downside, esp...</td>\n",
       "      <td>[6253, 6254, 6275, 6278, 8215]</td>\n",
       "      <td>Storing images in a Git repository can be problematic due to Git's...</td>\n",
       "      <td>Storing images in a Git repository is generally not recommended du...</td>\n",
       "      <td>✔️ [0.500]</td>\n",
       "    </tr>\n",
       "  </tbody>\n",
       "</table>\n",
       "</div>"
      ],
      "text/plain": [
       "                                       question  \\\n",
       "0       when to use c over c++, and c++ over c?   \n",
       "1  should images be stored in a git repository?   \n",
       "\n",
       "                                                        example_response  \\\n",
       "0  If you are equally familiar with both C++ and C, it's advisable to...   \n",
       "1  One viewpoint expresses that there is no significant downside, esp...   \n",
       "\n",
       "                     gold_doc_ids  \\\n",
       "0                           [733]   \n",
       "1  [6253, 6254, 6275, 6278, 8215]   \n",
       "\n",
       "                                                               reasoning  \\\n",
       "0  The context provides insights into the strengths and weaknesses of...   \n",
       "1  Storing images in a Git repository can be problematic due to Git's...   \n",
       "\n",
       "                                                           pred_response  \\\n",
       "0  Use C over C++ when working on embedded systems or projects where ...   \n",
       "1  Storing images in a Git repository is generally not recommended du...   \n",
       "\n",
       "   SemanticF1  \n",
       "0  ✔️ [0.179]  \n",
       "1  ✔️ [0.500]  "
      ]
     },
     "metadata": {},
     "output_type": "display_data"
    },
    {
     "data": {
      "text/html": [
       "\n",
       "            <div style='\n",
       "                text-align: center;\n",
       "                font-size: 16px;\n",
       "                font-weight: bold;\n",
       "                color: #555;\n",
       "                margin: 10px 0;'>\n",
       "                ... 298 more rows not displayed ...\n",
       "            </div>\n",
       "            "
      ],
      "text/plain": [
       "<IPython.core.display.HTML object>"
      ]
     },
     "metadata": {},
     "output_type": "display_data"
    },
    {
     "data": {
      "text/plain": [
       "60.68"
      ]
     },
     "execution_count": 33,
     "metadata": {},
     "output_type": "execute_result"
    }
   ],
   "source": [
    "evaluate(optimized_rag)"
   ]
  },
  {
   "cell_type": "code",
   "execution_count": 35,
   "metadata": {},
   "outputs": [
    {
     "data": {
      "text/plain": [
       "1.8376081499999999"
      ]
     },
     "execution_count": 35,
     "metadata": {},
     "output_type": "execute_result"
    }
   ],
   "source": [
    "cost = sum([x['cost'] for x in lm.history if x['cost'] is not None])  # in USD, as calculated by LiteLLM for certain providers\n",
    "cost"
   ]
  }
 ],
 "metadata": {
  "kernelspec": {
   "display_name": "llm_tutorial",
   "language": "python",
   "name": "python3"
  },
  "language_info": {
   "codemirror_mode": {
    "name": "ipython",
    "version": 3
   },
   "file_extension": ".py",
   "mimetype": "text/x-python",
   "name": "python",
   "nbconvert_exporter": "python",
   "pygments_lexer": "ipython3",
   "version": "3.13.0"
  }
 },
 "nbformat": 4,
 "nbformat_minor": 2
}
