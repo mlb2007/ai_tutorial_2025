{
 "cells": [
  {
   "cell_type": "code",
   "execution_count": 1,
   "metadata": {},
   "outputs": [],
   "source": [
    "from pydantic import BaseModel\n",
    "import random\n",
    "import string"
   ]
  },
  {
   "cell_type": "code",
   "execution_count": 2,
   "metadata": {},
   "outputs": [],
   "source": [
    "# Suppress Pydantic warnings\n",
    "import warnings\n",
    "warnings.filterwarnings('ignore', category=UserWarning, module='pydantic')"
   ]
  },
  {
   "cell_type": "code",
   "execution_count": 3,
   "metadata": {},
   "outputs": [],
   "source": [
    "from dotenv import load_dotenv\n",
    "from pathlib import Path\n",
    "dotenv_path = Path(\"../.env\")\n",
    "load_dotenv(dotenv_path=dotenv_path)\n",
    "\n",
    "import os\n",
    "# Get API key from environment variables\n",
    "OPENAI_API_KEY = os.getenv('OPENAI_API_KEY_PERSONAL')"
   ]
  },
  {
   "cell_type": "code",
   "execution_count": 4,
   "metadata": {},
   "outputs": [],
   "source": [
    "\n",
    "class Date(BaseModel):\n",
    "    # Somehow LLM is bad at specifying `datetime.datetime`, so\n",
    "    # we define a custom class to represent the date.\n",
    "    year: int\n",
    "    month: int\n",
    "    day: int\n",
    "    hour: int\n",
    "\n",
    "class UserProfile(BaseModel):\n",
    "    user_id: str\n",
    "    name: str\n",
    "    email: str\n",
    "\n",
    "class Flight(BaseModel):\n",
    "    flight_id: str\n",
    "    date_time: Date\n",
    "    origin: str\n",
    "    destination: str\n",
    "    duration: float\n",
    "    price: float\n",
    "\n",
    "class Itinerary(BaseModel):\n",
    "    confirmation_number: str\n",
    "    user_profile: UserProfile\n",
    "    flight: Flight\n",
    "\n",
    "class Ticket(BaseModel):\n",
    "    user_request: str\n",
    "    user_profile: UserProfile"
   ]
  },
  {
   "cell_type": "code",
   "execution_count": 5,
   "metadata": {},
   "outputs": [],
   "source": [
    "user_database = {\n",
    "    \"Adam\": UserProfile(user_id=\"1\", name=\"Adam\", email=\"adam@gmail.com\"),\n",
    "    \"Bob\": UserProfile(user_id=\"2\", name=\"Bob\", email=\"bob@gmail.com\"),\n",
    "    \"Chelsie\": UserProfile(user_id=\"3\", name=\"Chelsie\", email=\"chelsie@gmail.com\"),\n",
    "    \"David\": UserProfile(user_id=\"4\", name=\"David\", email=\"david@gmail.com\"),\n",
    "}\n",
    "\n",
    "flight_database = {\n",
    "    \"DA123\": Flight(\n",
    "        flight_id=\"DA123\",  # DSPy Airline 123\n",
    "        origin=\"SFO\",\n",
    "        destination=\"JFK\",\n",
    "        date_time=Date(year=2025, month=9, day=1, hour=1),\n",
    "        duration=3,\n",
    "        price=200,\n",
    "    ),\n",
    "    \"DA125\": Flight(\n",
    "        flight_id=\"DA125\",\n",
    "        origin=\"SFO\",\n",
    "        destination=\"JFK\",\n",
    "        date_time=Date(year=2025, month=9, day=1, hour=7),\n",
    "        duration=9,\n",
    "        price=500,\n",
    "    ),\n",
    "    \"DA456\": Flight(\n",
    "        flight_id=\"DA456\",\n",
    "        origin=\"SFO\",\n",
    "        destination=\"SNA\",\n",
    "        date_time=Date(year=2025, month=10, day=1, hour=1),\n",
    "        duration=2,\n",
    "        price=100,\n",
    "    ),\n",
    "    \"DA460\": Flight(\n",
    "        flight_id=\"DA460\",\n",
    "        origin=\"SFO\",\n",
    "        destination=\"SNA\",\n",
    "        date_time=Date(year=2025, month=10, day=1, hour=9),\n",
    "        duration=2,\n",
    "        price=120,\n",
    "    ),\n",
    "}"
   ]
  },
  {
   "cell_type": "code",
   "execution_count": 6,
   "metadata": {},
   "outputs": [],
   "source": [
    "itinery_database = {}\n",
    "ticket_database = {}"
   ]
  },
  {
   "cell_type": "code",
   "execution_count": 7,
   "metadata": {},
   "outputs": [],
   "source": [
    "def fetch_flight_info(date: Date, origin: str, destination: str):\n",
    "    \"\"\"Fetch flight information from origin to destination on the given date\"\"\"\n",
    "    flights = []\n",
    "\n",
    "    for flight_id, flight in flight_database.items():\n",
    "        if (\n",
    "            flight.date_time.year == date.year\n",
    "            and flight.date_time.month == date.month\n",
    "            and flight.date_time.day == date.day\n",
    "            and flight.origin == origin\n",
    "            and flight.destination == destination\n",
    "        ):\n",
    "            flights.append(flight)\n",
    "    if len(flights) == 0:\n",
    "        raise ValueError(\"No matching flight found!\")\n",
    "    return flights\n",
    "\n",
    "\n",
    "def fetch_itinerary(confirmation_number: str):\n",
    "    \"\"\"Fetch a booked itinerary information from database\"\"\"\n",
    "    return itinery_database.get(confirmation_number)\n",
    "\n",
    "\n",
    "def pick_flight(flights: list[Flight]):\n",
    "    \"\"\"Pick up the best flight that matches users' request. we pick the shortest, and cheaper one on ties.\"\"\"\n",
    "    sorted_flights = sorted(\n",
    "        flights,\n",
    "        key=lambda x: (\n",
    "            x.get(\"duration\") if isinstance(x, dict) else x.duration,\n",
    "            x.get(\"price\") if isinstance(x, dict) else x.price,\n",
    "        ),\n",
    "    )\n",
    "    return sorted_flights[0]\n",
    "\n",
    "\n",
    "def _generate_id(length=8):\n",
    "    chars = string.ascii_lowercase + string.digits\n",
    "    return \"\".join(random.choices(chars, k=length))\n",
    "\n",
    "\n",
    "def book_flight(flight: Flight, user_profile: UserProfile):\n",
    "    \"\"\"Book a flight on behalf of the user.\"\"\"\n",
    "    confirmation_number = _generate_id()\n",
    "    while confirmation_number in itinery_database:\n",
    "        confirmation_number = _generate_id()\n",
    "    itinery_database[confirmation_number] = Itinerary(\n",
    "        confirmation_number=confirmation_number,\n",
    "        user_profile=user_profile,\n",
    "        flight=flight,\n",
    "    )\n",
    "    return confirmation_number, itinery_database[confirmation_number]\n",
    "\n",
    "\n",
    "def cancel_itinerary(confirmation_number: str, user_profile: UserProfile):\n",
    "    \"\"\"Cancel an itinerary on behalf of the user.\"\"\"\n",
    "    if confirmation_number in itinery_database:\n",
    "        del itinery_database[confirmation_number]\n",
    "        return\n",
    "    raise ValueError(\"Cannot find the itinerary, please check your confirmation number.\")\n",
    "\n",
    "\n",
    "def get_user_info(name: str):\n",
    "    \"\"\"Fetch the user profile from database with given name.\"\"\"\n",
    "    return user_database.get(name)\n",
    "\n",
    "\n",
    "def file_ticket(user_request: str, user_profile: UserProfile):\n",
    "    \"\"\"File a customer support ticket if this is something the agent cannot handle.\"\"\"\n",
    "    ticket_id = _generate_id(length=6)\n",
    "    ticket_database[ticket_id] = Ticket(\n",
    "        user_request=user_request,\n",
    "        user_profile=user_profile,\n",
    "    )\n",
    "    return ticket_id\n"
   ]
  },
  {
   "cell_type": "code",
   "execution_count": 8,
   "metadata": {},
   "outputs": [],
   "source": [
    "import dspy\n",
    "\n",
    "class DSPyAirlineCustomerSerice(dspy.Signature):\n",
    "    \"\"\"You are an airline customer service agent that helps user book and manage flights.\n",
    "\n",
    "    You are given a list of tools to handle user request, and you should decide the right tool to use in order to\n",
    "    fullfil users' request.\"\"\"\n",
    "\n",
    "    user_request: str = dspy.InputField()\n",
    "    process_result: str = dspy.OutputField(\n",
    "        desc=(\n",
    "                \"Message that summarizes the process result, and the information users need, e.g., the \"\n",
    "                \"confirmation_number if a new flight is booked.\"\n",
    "            )\n",
    "        )"
   ]
  },
  {
   "cell_type": "code",
   "execution_count": 9,
   "metadata": {},
   "outputs": [],
   "source": [
    "agent = dspy.ReAct(\n",
    "    DSPyAirlineCustomerSerice,\n",
    "    tools = [\n",
    "        fetch_flight_info,\n",
    "        fetch_itinerary,\n",
    "        pick_flight,\n",
    "        book_flight,\n",
    "        cancel_itinerary,\n",
    "        get_user_info,\n",
    "        file_ticket,\n",
    "    ]\n",
    ")"
   ]
  },
  {
   "cell_type": "code",
   "execution_count": 10,
   "metadata": {},
   "outputs": [],
   "source": [
    "dspy.configure(lm=dspy.LM(\"openai/gpt-4o-mini\"))"
   ]
  },
  {
   "cell_type": "code",
   "execution_count": 14,
   "metadata": {},
   "outputs": [
    {
     "name": "stdout",
     "output_type": "stream",
     "text": [
      "Prediction(\n",
      "    trajectory={'thought_0': 'I need to fetch flight information for Adam from SFO to JFK on 09/01/2025 to find available flights for booking.', 'tool_name_0': 'fetch_flight_info', 'tool_args_0': {'date': {'year': 2025, 'month': 9, 'day': 1, 'hour': 0}, 'origin': 'SFO', 'destination': 'JFK'}, 'observation_0': [Flight(flight_id='DA123', date_time=Date(year=2025, month=9, day=1, hour=1), origin='SFO', destination='JFK', duration=3.0, price=200.0), Flight(flight_id='DA125', date_time=Date(year=2025, month=9, day=1, hour=7), origin='SFO', destination='JFK', duration=9.0, price=500.0)], 'thought_1': 'I have retrieved the available flights from SFO to JFK on 09/01/2025. The options are flight DA123, which departs at 1 AM and costs $200, and flight DA125, which departs at 7 AM and costs $500. I will now pick the best flight based on the shortest duration and price.', 'tool_name_1': 'pick_flight', 'tool_args_1': {'flights': [{'flight_id': 'DA123', 'date_time': {'year': 2025, 'month': 9, 'day': 1, 'hour': 1}, 'origin': 'SFO', 'destination': 'JFK', 'duration': 3.0, 'price': 200.0}, {'flight_id': 'DA125', 'date_time': {'year': 2025, 'month': 9, 'day': 1, 'hour': 7}, 'origin': 'SFO', 'destination': 'JFK', 'duration': 9.0, 'price': 500.0}]}, 'observation_1': Flight(flight_id='DA123', date_time=Date(year=2025, month=9, day=1, hour=1), origin='SFO', destination='JFK', duration=3.0, price=200.0), 'thought_2': \"I have selected flight DA123, which departs at 1 AM and costs $200. Now, I need to gather Adam's user profile information to proceed with the booking.\", 'tool_name_2': 'get_user_info', 'tool_args_2': {'name': 'Adam'}, 'observation_2': UserProfile(user_id='1', name='Adam', email='adam@gmail.com'), 'thought_3': \"I have gathered Adam's user profile information. Now, I can proceed to book the selected flight DA123 for Adam.\", 'tool_name_3': 'book_flight', 'tool_args_3': {'flight': {'flight_id': 'DA123', 'date_time': {'year': 2025, 'month': 9, 'day': 1, 'hour': 1}, 'origin': 'SFO', 'destination': 'JFK', 'duration': 3.0, 'price': 200.0}, 'user_profile': {'user_id': '1', 'name': 'Adam', 'email': 'adam@gmail.com'}}, 'observation_3': ('7xqivs7n', Itinerary(confirmation_number='7xqivs7n', user_profile=UserProfile(user_id='1', name='Adam', email='adam@gmail.com'), flight=Flight(flight_id='DA123', date_time=Date(year=2025, month=9, day=1, hour=1), origin='SFO', destination='JFK', duration=3.0, price=200.0))), 'thought_4': \"Adam's flight has been successfully booked, and I have received the confirmation number. I will now mark the task as complete.\", 'tool_name_4': 'finish', 'tool_args_4': {}, 'observation_4': 'Completed.'},\n",
      "    reasoning=\"I successfully fetched flight information for Adam from SFO to JFK on 09/01/2025. Two flights were available: flight DA123 departing at 1 AM for $200 and flight DA125 departing at 7 AM for $500. I selected flight DA123 due to its shorter duration and lower price. After retrieving Adam's user profile information, I proceeded to book the flight, which was confirmed successfully with a confirmation number.\",\n",
      "    process_result='Your flight from SFO to JFK on 09/01/2025 has been successfully booked. Your confirmation number is 7xqivs7n.'\n",
      ")\n"
     ]
    }
   ],
   "source": [
    "result = agent(user_request=\"please help me book a flight from SFO to JFK on 09/01/2025, my name is Adam\")\n",
    "\n",
    "\n",
    "# Print result with proper formatting\n",
    "print(result)"
   ]
  }
 ],
 "metadata": {
  "kernelspec": {
   "display_name": "llm_tutorial",
   "language": "python",
   "name": "python3"
  },
  "language_info": {
   "codemirror_mode": {
    "name": "ipython",
    "version": 3
   },
   "file_extension": ".py",
   "mimetype": "text/x-python",
   "name": "python",
   "nbconvert_exporter": "python",
   "pygments_lexer": "ipython3",
   "version": "3.13.0"
  }
 },
 "nbformat": 4,
 "nbformat_minor": 2
}
