{
 "cells": [
  {
   "cell_type": "code",
   "execution_count": 1,
   "metadata": {},
   "outputs": [],
   "source": [
    "import requests\n",
    "import pandas as pd\n",
    "import os\n",
    "import numpy as np\n",
    "import re\n",
    "\n",
    "from dotenv import load_dotenv\n",
    "import os\n",
    "\n",
    "from json import JSONDecodeError\n",
    "\n",
    "# Now create an interactive Plotly bar chart\n",
    "import plotly.graph_objects as go"
   ]
  },
  {
   "cell_type": "code",
   "execution_count": 2,
   "metadata": {},
   "outputs": [],
   "source": [
    "# Load environment variables from .env file\n",
    "load_dotenv()\n",
    "\n",
    "# Get API key from environment variables\n",
    "API_KEY = os.getenv('API_KEY')"
   ]
  },
  {
   "cell_type": "markdown",
   "metadata": {},
   "source": [
    "Reference: https://support.qs.com/hc/en-gb/articles/4410488025106-QS-World-University-Rankings-by-Subject\n",
    "### The rankings columns are:\n",
    "* Academic Reputation (30% weight)\n",
    "-- The Academic Reputation (AR) indicator measures the reputation of institutions and their programmes by asking academic experts to nominate universities based on their subject area of expertise. Pioneered by QS in 2004, it asks the question: which universities are demonstrating academic excellence? To answer this we collect and distil the collective intelligence of academics from around the world via our Academic Survey, evaluating nominations for approximately 7000 institutions each year.The indicator not only illuminates the quality of an institution's research, but also their approach to academic partnerships, their strategic impact, their educational innovativeness and the impact they have made on education and society at large.\n",
    "The indicator is the centrepiece of almost all of the rankings across the QS portfolio. \n",
    "\n",
    "* Employer Reputation (15% weight)\n",
    "-- The Employer Reputation (ER) indicator measures the reputation of institutions and their programmes among employers. We remain the only major ranking to focus on this vital aspect of a student's educational journey.\n",
    "\n",
    "* Citations per Paper\n",
    "-- The Citations per Paper (CPP) indicator measures the impact and quality of the scientific work done by institutions, on average per publication.\n",
    "\n",
    "* H-Index\n",
    "-- The h-index is an index that attempts to measure both the productivity and impact of the published work of a scientist or scholar. The index is based on the set of the scientist’s most cited papers and the number of citations that they have received in other publications. It can also be applied to the productivity and impact of a group of scientists, such as a department, or an institution (as in the case of our indicator), or a country, as well as a scholarly journal. The index is defined as the maximum value of h such that the given entity (author, journal, department, institution, etc.) has published at least h papers that have each been cited at least h times (https://doi.org/10.1073/pnas.0507655102). We use institution-level H Index.\n",
    "\n",
    "* International Research Network\n",
    "-- International Research Network (IRN) is a measure of an institution's success in creating and sustaining research partnerships with institutions in other locations. The indicator measures how diverse and rich an institution's research network is by looking at the number of different countries represented, and whether these relationships are renewed and repeated. We only consider sustained partnerships, defined as those which result in three or more joint papers published in a five-year period.\n"
   ]
  },
  {
   "cell_type": "code",
   "execution_count": 3,
   "metadata": {},
   "outputs": [],
   "source": [
    "def get_top_100_us_institutions_for_life_sciences():\n",
    "    file_path = '2025_QS_rankings.xlsx'\n",
    "    # Reload with correct settings: skip to row 10 (0-based), treat row 10 as header\n",
    "    df_qs = pd.read_excel(file_path, sheet_name=\"Life Sciences & Medicine\", skiprows=10, header=0)\n",
    "\n",
    "    # Drop rows with missing Institution (bottom padding, if any)\n",
    "    df_qs = df_qs.dropna(subset=[\"Institution\"])\n",
    "\n",
    "    # Select top 100 programs\n",
    "    df_top100 = df_qs.head(100)\n",
    "\n",
    "    # Select relevant columns\n",
    "    df_top100 = df_top100[[\n",
    "        \"2025\", \"Institution\", \"Country / Territory\", \"Score\", \"Academic\", \"Employer\", \"Citations\", \"H\", \"IRN\"\n",
    "    ]]\n",
    "\n",
    "    # Rename 2025 column to \"Rank\" for clarity\n",
    "    df_top100 = df_top100.rename(columns={\"2025\": \"Rank\"})\n",
    "    # Clean up the rank column that has = sign prefixed and make it an integer\n",
    "    df_top100['Rank'] = df_top100['Rank'].str.replace('=', '')\n",
    "    df_top100['Rank'] = df_top100['Rank'].astype(int)\n",
    "\n",
    "    # consider only US instituions and rank by H-index (higher the H-index, better the institution) and drop the country column\n",
    "    df_top100_us = df_top100[df_top100['Country / Territory'] == 'United States of America']\n",
    "    df_top100_us = df_top100_us.drop(columns=['Country / Territory'])\n",
    "\n",
    "    # clean up the institution names\n",
    "    list_of_institutions = df_top100_us['Institution'].values.tolist()\n",
    "    cleaned_institutions = []\n",
    "    for institution in list_of_institutions:\n",
    "        cleaned = re.sub(r'\\([^)]*\\)', '', institution)\n",
    "        cleaned = cleaned.replace(',', '-')\n",
    "        cleaned = cleaned.strip()\n",
    "        cleaned_institutions.append(cleaned)\n",
    "\n",
    "    # no space before and after '-' within the string if there are space\n",
    "    cleaned_institutions = [re.sub(r'\\s*-\\s*', '-', institution) for institution in cleaned_institutions]\n",
    "\n",
    "    # remove any duplicates\n",
    "    cleaned_institutions = list(set(cleaned_institutions))\n",
    "\n",
    "    # remove any empty strings\n",
    "    cleaned_institutions = [institution for institution in cleaned_institutions if institution]\n",
    "\n",
    "\n",
    "    return cleaned_institutions, df_top100_us"
   ]
  },
  {
   "cell_type": "code",
   "execution_count": 4,
   "metadata": {},
   "outputs": [
    {
     "name": "stdout",
     "output_type": "stream",
     "text": [
      "['Stanford University', 'Washington University in St. Louis', 'University of Wisconsin-Madison', 'University of Michigan-Ann Arbor', 'University of California-San Francisco', 'University of North Carolina-Chapel Hill', 'Massachusetts Institute of Technology', 'Johns Hopkins University', 'University of Pittsburgh', 'University of California-Los Angeles', 'Boston University', 'University of California-San Diego', 'Yale University', 'Cornell University', 'Columbia University', 'University of Minnesota Twin Cities', 'University of California-Davis', 'New York University', 'University of Washington', 'Duke University', 'Emory University', 'University of California-Berkeley', 'The University of Texas M. D. Anderson Cancer Center', 'The Ohio State University', 'University of Chicago', 'Northwestern University', 'Vanderbilt University', 'Baylor College of Medicine', 'Harvard University', 'University of Pennsylvania', 'University of Florida']\n"
     ]
    }
   ],
   "source": [
    "def test_top_100_us_institutions_for_life_sciences():\n",
    "    top_institutions, df_top100_us = get_top_100_us_institutions_for_life_sciences()\n",
    "    print(top_institutions)\n",
    "\n",
    "test_top_100_us_institutions_for_life_sciences()"
   ]
  },
  {
   "cell_type": "code",
   "execution_count": 5,
   "metadata": {},
   "outputs": [],
   "source": [
    "def get_school_admission_data(school_name):\n",
    "    print(f\"Getting admission data for {school_name}\")\n",
    "    base_url = \"https://api.data.gov/ed/collegescorecard/v1/schools\"\n",
    "    params = {\n",
    "        \"api_key\": API_KEY,\n",
    "        \"school.name\": school_name,\n",
    "        \"fields\": \"school.name,latest.admissions.admission_rate.overall,latest.student.demographics.race_ethnicity.asian,latest.student.demographics.race_ethnicity.white,latest.student.demographics.race_ethnicity.hispanic,latest.student.demographics.race_ethnicity.black\",\n",
    "        \"per_page\": 1\n",
    "    }\n",
    "\n",
    "    response = requests.get(base_url, params=params)\n",
    "    try:\n",
    "        data = response.json()\n",
    "        # Convert to pandas dataframe\n",
    "        df = pd.json_normalize(data['results'])\n",
    "    except JSONDecodeError as e:\n",
    "        print(f\"Error getting admission data for {school_name}: {e}\")\n",
    "        return pd.DataFrame()\n",
    "\n",
    "    # if df is all NAN, return empty dataframe\n",
    "    if df.isna().all().all():\n",
    "        print(f\"No admission data found for {school_name}\")\n",
    "        return pd.DataFrame()\n",
    "    \n",
    "    # check if everything is NaN except the school name column and if so, return empty dataframe \n",
    "    # get all columns except the school name column\n",
    "    columns_to_check = df.columns.tolist()\n",
    "    columns_to_check.remove('school.name')\n",
    "    if df[columns_to_check].isna().all().all():\n",
    "        print(f\"No admission data found for {school_name}\")\n",
    "        return pd.DataFrame()\n",
    "    \n",
    "    return df"
   ]
  },
  {
   "cell_type": "code",
   "execution_count": 6,
   "metadata": {},
   "outputs": [
    {
     "name": "stdout",
     "output_type": "stream",
     "text": [
      "Getting admission data for Stanford University\n",
      "Getting admission data for Washington University in St. Louis\n",
      "Getting admission data for University of Wisconsin-Madison\n",
      "Getting admission data for University of Michigan-Ann Arbor\n",
      "Getting admission data for University of California-San Francisco\n",
      "No admission data found for University of California-San Francisco\n",
      "Getting admission data for University of North Carolina-Chapel Hill\n",
      "Getting admission data for Massachusetts Institute of Technology\n",
      "Getting admission data for Johns Hopkins University\n",
      "Getting admission data for University of Pittsburgh\n",
      "Getting admission data for University of California-Los Angeles\n",
      "Getting admission data for Boston University\n",
      "Getting admission data for University of California-San Diego\n",
      "Getting admission data for Yale University\n",
      "Getting admission data for Cornell University\n",
      "No admission data found for Cornell University\n",
      "Getting admission data for Columbia University\n",
      "Getting admission data for University of Minnesota Twin Cities\n",
      "Getting admission data for University of California-Davis\n",
      "Getting admission data for New York University\n",
      "Getting admission data for University of Washington\n",
      "Getting admission data for Duke University\n",
      "Getting admission data for Emory University\n",
      "Getting admission data for University of California-Berkeley\n",
      "Getting admission data for The University of Texas M. D. Anderson Cancer Center\n",
      "No admission data found for The University of Texas M. D. Anderson Cancer Center\n",
      "Getting admission data for The Ohio State University\n",
      "No admission data found for The Ohio State University\n",
      "Getting admission data for University of Chicago\n",
      "Getting admission data for Northwestern University\n",
      "Getting admission data for Vanderbilt University\n",
      "Getting admission data for Baylor College of Medicine\n",
      "No admission data found for Baylor College of Medicine\n",
      "Getting admission data for Harvard University\n",
      "Getting admission data for University of Pennsylvania\n",
      "Getting admission data for University of Florida\n"
     ]
    },
    {
     "data": {
      "text/html": [
       "<div>\n",
       "<style scoped>\n",
       "    .dataframe tbody tr th:only-of-type {\n",
       "        vertical-align: middle;\n",
       "    }\n",
       "\n",
       "    .dataframe tbody tr th {\n",
       "        vertical-align: top;\n",
       "    }\n",
       "\n",
       "    .dataframe thead th {\n",
       "        text-align: right;\n",
       "    }\n",
       "</style>\n",
       "<table border=\"1\" class=\"dataframe\">\n",
       "  <thead>\n",
       "    <tr style=\"text-align: right;\">\n",
       "      <th></th>\n",
       "      <th>latest.admissions.admission_rate.overall</th>\n",
       "      <th>latest.student.demographics.race_ethnicity.asian</th>\n",
       "      <th>latest.student.demographics.race_ethnicity.white</th>\n",
       "      <th>latest.student.demographics.race_ethnicity.hispanic</th>\n",
       "      <th>latest.student.demographics.race_ethnicity.black</th>\n",
       "      <th>school.name</th>\n",
       "    </tr>\n",
       "  </thead>\n",
       "  <tbody>\n",
       "    <tr>\n",
       "      <th>0</th>\n",
       "      <td>0.0391</td>\n",
       "      <td>0.2747</td>\n",
       "      <td>0.2416</td>\n",
       "      <td>0.1766</td>\n",
       "      <td>0.0791</td>\n",
       "      <td>Stanford University</td>\n",
       "    </tr>\n",
       "    <tr>\n",
       "      <th>1</th>\n",
       "      <td>0.1196</td>\n",
       "      <td>0.2115</td>\n",
       "      <td>0.4147</td>\n",
       "      <td>0.1256</td>\n",
       "      <td>0.0891</td>\n",
       "      <td>Washington University in St Louis</td>\n",
       "    </tr>\n",
       "    <tr>\n",
       "      <th>2</th>\n",
       "      <td>0.4335</td>\n",
       "      <td>0.1051</td>\n",
       "      <td>0.6035</td>\n",
       "      <td>0.0831</td>\n",
       "      <td>0.0250</td>\n",
       "      <td>University of Wisconsin-Madison</td>\n",
       "    </tr>\n",
       "    <tr>\n",
       "      <th>3</th>\n",
       "      <td>0.1794</td>\n",
       "      <td>0.1863</td>\n",
       "      <td>0.4884</td>\n",
       "      <td>0.1003</td>\n",
       "      <td>0.0454</td>\n",
       "      <td>University of Michigan-Ann Arbor</td>\n",
       "    </tr>\n",
       "    <tr>\n",
       "      <th>4</th>\n",
       "      <td>0.1874</td>\n",
       "      <td>0.1483</td>\n",
       "      <td>0.5407</td>\n",
       "      <td>0.0979</td>\n",
       "      <td>0.0818</td>\n",
       "      <td>University of North Carolina at Chapel Hill</td>\n",
       "    </tr>\n",
       "    <tr>\n",
       "      <th>5</th>\n",
       "      <td>0.0474</td>\n",
       "      <td>0.3461</td>\n",
       "      <td>0.2102</td>\n",
       "      <td>0.1453</td>\n",
       "      <td>0.0866</td>\n",
       "      <td>Massachusetts Institute of Technology</td>\n",
       "    </tr>\n",
       "    <tr>\n",
       "      <th>6</th>\n",
       "      <td>0.0756</td>\n",
       "      <td>0.2663</td>\n",
       "      <td>0.2001</td>\n",
       "      <td>0.2071</td>\n",
       "      <td>0.0949</td>\n",
       "      <td>Johns Hopkins University</td>\n",
       "    </tr>\n",
       "    <tr>\n",
       "      <th>7</th>\n",
       "      <td>0.4970</td>\n",
       "      <td>0.1489</td>\n",
       "      <td>0.6104</td>\n",
       "      <td>0.0675</td>\n",
       "      <td>0.0546</td>\n",
       "      <td>University of Pittsburgh-Pittsburgh Campus</td>\n",
       "    </tr>\n",
       "    <tr>\n",
       "      <th>8</th>\n",
       "      <td>0.9193</td>\n",
       "      <td>0.1014</td>\n",
       "      <td>0.0406</td>\n",
       "      <td>0.7716</td>\n",
       "      <td>0.0397</td>\n",
       "      <td>California State University-Los Angeles</td>\n",
       "    </tr>\n",
       "    <tr>\n",
       "      <th>9</th>\n",
       "      <td>0.1085</td>\n",
       "      <td>0.1988</td>\n",
       "      <td>0.3285</td>\n",
       "      <td>0.1131</td>\n",
       "      <td>0.0596</td>\n",
       "      <td>Boston University</td>\n",
       "    </tr>\n",
       "    <tr>\n",
       "      <th>10</th>\n",
       "      <td>0.2452</td>\n",
       "      <td>0.3432</td>\n",
       "      <td>0.1818</td>\n",
       "      <td>0.2526</td>\n",
       "      <td>0.0179</td>\n",
       "      <td>University of California-San Diego</td>\n",
       "    </tr>\n",
       "    <tr>\n",
       "      <th>11</th>\n",
       "      <td>0.0450</td>\n",
       "      <td>0.2283</td>\n",
       "      <td>0.3239</td>\n",
       "      <td>0.1571</td>\n",
       "      <td>0.0881</td>\n",
       "      <td>Yale University</td>\n",
       "    </tr>\n",
       "    <tr>\n",
       "      <th>12</th>\n",
       "      <td>0.0423</td>\n",
       "      <td>0.1842</td>\n",
       "      <td>0.2987</td>\n",
       "      <td>0.1625</td>\n",
       "      <td>0.0776</td>\n",
       "      <td>Columbia University in the City of New York</td>\n",
       "    </tr>\n",
       "    <tr>\n",
       "      <th>13</th>\n",
       "      <td>0.7703</td>\n",
       "      <td>0.1312</td>\n",
       "      <td>0.5921</td>\n",
       "      <td>0.0599</td>\n",
       "      <td>0.0891</td>\n",
       "      <td>University of Minnesota-Twin Cities</td>\n",
       "    </tr>\n",
       "    <tr>\n",
       "      <th>14</th>\n",
       "      <td>0.4163</td>\n",
       "      <td>0.3134</td>\n",
       "      <td>0.2054</td>\n",
       "      <td>0.2457</td>\n",
       "      <td>0.0174</td>\n",
       "      <td>University of California-Davis</td>\n",
       "    </tr>\n",
       "    <tr>\n",
       "      <th>15</th>\n",
       "      <td>0.5870</td>\n",
       "      <td>0.0443</td>\n",
       "      <td>0.5860</td>\n",
       "      <td>0.2300</td>\n",
       "      <td>0.0734</td>\n",
       "      <td>State University of New York at New Paltz</td>\n",
       "    </tr>\n",
       "    <tr>\n",
       "      <th>16</th>\n",
       "      <td>0.9131</td>\n",
       "      <td>0.0580</td>\n",
       "      <td>0.6939</td>\n",
       "      <td>0.1098</td>\n",
       "      <td>0.0198</td>\n",
       "      <td>Western Washington University</td>\n",
       "    </tr>\n",
       "    <tr>\n",
       "      <th>17</th>\n",
       "      <td>0.0678</td>\n",
       "      <td>0.2317</td>\n",
       "      <td>0.3611</td>\n",
       "      <td>0.1077</td>\n",
       "      <td>0.0849</td>\n",
       "      <td>Duke University</td>\n",
       "    </tr>\n",
       "    <tr>\n",
       "      <th>18</th>\n",
       "      <td>0.1110</td>\n",
       "      <td>0.2518</td>\n",
       "      <td>0.3115</td>\n",
       "      <td>0.1182</td>\n",
       "      <td>0.0932</td>\n",
       "      <td>Emory University</td>\n",
       "    </tr>\n",
       "    <tr>\n",
       "      <th>19</th>\n",
       "      <td>0.1166</td>\n",
       "      <td>0.3524</td>\n",
       "      <td>0.1952</td>\n",
       "      <td>0.2180</td>\n",
       "      <td>0.0213</td>\n",
       "      <td>University of California-Berkeley</td>\n",
       "    </tr>\n",
       "    <tr>\n",
       "      <th>20</th>\n",
       "      <td>0.7850</td>\n",
       "      <td>0.2073</td>\n",
       "      <td>0.2284</td>\n",
       "      <td>0.3659</td>\n",
       "      <td>0.0795</td>\n",
       "      <td>University of Illinois Chicago</td>\n",
       "    </tr>\n",
       "    <tr>\n",
       "      <th>21</th>\n",
       "      <td>0.9374</td>\n",
       "      <td>0.0096</td>\n",
       "      <td>0.5361</td>\n",
       "      <td>0.0610</td>\n",
       "      <td>0.2967</td>\n",
       "      <td>Northwestern State University of Louisiana</td>\n",
       "    </tr>\n",
       "    <tr>\n",
       "      <th>22</th>\n",
       "      <td>0.0628</td>\n",
       "      <td>0.1856</td>\n",
       "      <td>0.3888</td>\n",
       "      <td>0.1196</td>\n",
       "      <td>0.1043</td>\n",
       "      <td>Vanderbilt University</td>\n",
       "    </tr>\n",
       "    <tr>\n",
       "      <th>23</th>\n",
       "      <td>0.0345</td>\n",
       "      <td>0.2245</td>\n",
       "      <td>0.3278</td>\n",
       "      <td>0.1175</td>\n",
       "      <td>0.0928</td>\n",
       "      <td>Harvard University</td>\n",
       "    </tr>\n",
       "    <tr>\n",
       "      <th>24</th>\n",
       "      <td>0.9010</td>\n",
       "      <td>0.0181</td>\n",
       "      <td>0.8006</td>\n",
       "      <td>0.0816</td>\n",
       "      <td>0.0514</td>\n",
       "      <td>Clarks Summit University</td>\n",
       "    </tr>\n",
       "    <tr>\n",
       "      <th>25</th>\n",
       "      <td>0.2538</td>\n",
       "      <td>0.0373</td>\n",
       "      <td>0.5821</td>\n",
       "      <td>0.2318</td>\n",
       "      <td>0.0739</td>\n",
       "      <td>Florida State University</td>\n",
       "    </tr>\n",
       "  </tbody>\n",
       "</table>\n",
       "</div>"
      ],
      "text/plain": [
       "    latest.admissions.admission_rate.overall  \\\n",
       "0                                     0.0391   \n",
       "1                                     0.1196   \n",
       "2                                     0.4335   \n",
       "3                                     0.1794   \n",
       "4                                     0.1874   \n",
       "5                                     0.0474   \n",
       "6                                     0.0756   \n",
       "7                                     0.4970   \n",
       "8                                     0.9193   \n",
       "9                                     0.1085   \n",
       "10                                    0.2452   \n",
       "11                                    0.0450   \n",
       "12                                    0.0423   \n",
       "13                                    0.7703   \n",
       "14                                    0.4163   \n",
       "15                                    0.5870   \n",
       "16                                    0.9131   \n",
       "17                                    0.0678   \n",
       "18                                    0.1110   \n",
       "19                                    0.1166   \n",
       "20                                    0.7850   \n",
       "21                                    0.9374   \n",
       "22                                    0.0628   \n",
       "23                                    0.0345   \n",
       "24                                    0.9010   \n",
       "25                                    0.2538   \n",
       "\n",
       "    latest.student.demographics.race_ethnicity.asian  \\\n",
       "0                                             0.2747   \n",
       "1                                             0.2115   \n",
       "2                                             0.1051   \n",
       "3                                             0.1863   \n",
       "4                                             0.1483   \n",
       "5                                             0.3461   \n",
       "6                                             0.2663   \n",
       "7                                             0.1489   \n",
       "8                                             0.1014   \n",
       "9                                             0.1988   \n",
       "10                                            0.3432   \n",
       "11                                            0.2283   \n",
       "12                                            0.1842   \n",
       "13                                            0.1312   \n",
       "14                                            0.3134   \n",
       "15                                            0.0443   \n",
       "16                                            0.0580   \n",
       "17                                            0.2317   \n",
       "18                                            0.2518   \n",
       "19                                            0.3524   \n",
       "20                                            0.2073   \n",
       "21                                            0.0096   \n",
       "22                                            0.1856   \n",
       "23                                            0.2245   \n",
       "24                                            0.0181   \n",
       "25                                            0.0373   \n",
       "\n",
       "    latest.student.demographics.race_ethnicity.white  \\\n",
       "0                                             0.2416   \n",
       "1                                             0.4147   \n",
       "2                                             0.6035   \n",
       "3                                             0.4884   \n",
       "4                                             0.5407   \n",
       "5                                             0.2102   \n",
       "6                                             0.2001   \n",
       "7                                             0.6104   \n",
       "8                                             0.0406   \n",
       "9                                             0.3285   \n",
       "10                                            0.1818   \n",
       "11                                            0.3239   \n",
       "12                                            0.2987   \n",
       "13                                            0.5921   \n",
       "14                                            0.2054   \n",
       "15                                            0.5860   \n",
       "16                                            0.6939   \n",
       "17                                            0.3611   \n",
       "18                                            0.3115   \n",
       "19                                            0.1952   \n",
       "20                                            0.2284   \n",
       "21                                            0.5361   \n",
       "22                                            0.3888   \n",
       "23                                            0.3278   \n",
       "24                                            0.8006   \n",
       "25                                            0.5821   \n",
       "\n",
       "    latest.student.demographics.race_ethnicity.hispanic  \\\n",
       "0                                              0.1766     \n",
       "1                                              0.1256     \n",
       "2                                              0.0831     \n",
       "3                                              0.1003     \n",
       "4                                              0.0979     \n",
       "5                                              0.1453     \n",
       "6                                              0.2071     \n",
       "7                                              0.0675     \n",
       "8                                              0.7716     \n",
       "9                                              0.1131     \n",
       "10                                             0.2526     \n",
       "11                                             0.1571     \n",
       "12                                             0.1625     \n",
       "13                                             0.0599     \n",
       "14                                             0.2457     \n",
       "15                                             0.2300     \n",
       "16                                             0.1098     \n",
       "17                                             0.1077     \n",
       "18                                             0.1182     \n",
       "19                                             0.2180     \n",
       "20                                             0.3659     \n",
       "21                                             0.0610     \n",
       "22                                             0.1196     \n",
       "23                                             0.1175     \n",
       "24                                             0.0816     \n",
       "25                                             0.2318     \n",
       "\n",
       "    latest.student.demographics.race_ethnicity.black  \\\n",
       "0                                             0.0791   \n",
       "1                                             0.0891   \n",
       "2                                             0.0250   \n",
       "3                                             0.0454   \n",
       "4                                             0.0818   \n",
       "5                                             0.0866   \n",
       "6                                             0.0949   \n",
       "7                                             0.0546   \n",
       "8                                             0.0397   \n",
       "9                                             0.0596   \n",
       "10                                            0.0179   \n",
       "11                                            0.0881   \n",
       "12                                            0.0776   \n",
       "13                                            0.0891   \n",
       "14                                            0.0174   \n",
       "15                                            0.0734   \n",
       "16                                            0.0198   \n",
       "17                                            0.0849   \n",
       "18                                            0.0932   \n",
       "19                                            0.0213   \n",
       "20                                            0.0795   \n",
       "21                                            0.2967   \n",
       "22                                            0.1043   \n",
       "23                                            0.0928   \n",
       "24                                            0.0514   \n",
       "25                                            0.0739   \n",
       "\n",
       "                                    school.name  \n",
       "0                           Stanford University  \n",
       "1             Washington University in St Louis  \n",
       "2               University of Wisconsin-Madison  \n",
       "3              University of Michigan-Ann Arbor  \n",
       "4   University of North Carolina at Chapel Hill  \n",
       "5         Massachusetts Institute of Technology  \n",
       "6                      Johns Hopkins University  \n",
       "7    University of Pittsburgh-Pittsburgh Campus  \n",
       "8       California State University-Los Angeles  \n",
       "9                             Boston University  \n",
       "10           University of California-San Diego  \n",
       "11                              Yale University  \n",
       "12  Columbia University in the City of New York  \n",
       "13          University of Minnesota-Twin Cities  \n",
       "14               University of California-Davis  \n",
       "15    State University of New York at New Paltz  \n",
       "16                Western Washington University  \n",
       "17                              Duke University  \n",
       "18                             Emory University  \n",
       "19            University of California-Berkeley  \n",
       "20               University of Illinois Chicago  \n",
       "21   Northwestern State University of Louisiana  \n",
       "22                        Vanderbilt University  \n",
       "23                           Harvard University  \n",
       "24                     Clarks Summit University  \n",
       "25                     Florida State University  "
      ]
     },
     "execution_count": 6,
     "metadata": {},
     "output_type": "execute_result"
    }
   ],
   "source": [
    "top_institutions, df_top100_us = get_top_100_us_institutions_for_life_sciences()\n",
    "\n",
    "aggregated_df = pd.DataFrame()\n",
    "for institution in top_institutions:\n",
    "    df_admission_data = get_school_admission_data(institution)\n",
    "    if not df_admission_data.empty:\n",
    "        # Initialize aggregated_df with the first non-empty dataframe\n",
    "        if aggregated_df.empty:\n",
    "            aggregated_df = df_admission_data\n",
    "        else:\n",
    "            if not df_admission_data.isna().all().all():\n",
    "                aggregated_df = pd.concat([aggregated_df, df_admission_data], ignore_index=True)\n",
    "\n",
    "aggregated_df"
   ]
  },
  {
   "cell_type": "code",
   "execution_count": 7,
   "metadata": {},
   "outputs": [
    {
     "name": "stdout",
     "output_type": "stream",
     "text": [
      "   unitid                                institution  year  tuition_fees  \\\n",
      "0  100663        University of Alabama at Birmingham  2023        8832.0   \n",
      "1  104151  Arizona State University Campus Immersion  2023       12051.0   \n",
      "2  104179                      University of Arizona  2023       13626.0   \n",
      "3  110662       University of California-Los Angeles  2023       13747.0   \n",
      "4  110680         University of California-San Diego  2023       15265.0   \n",
      "\n",
      "   full_time_ug_enrollment  pct_asian  pct_black  pct_hispanic  pct_native  \\\n",
      "0                     9841          8         22             6           0   \n",
      "1                    59707          8          4            23           0   \n",
      "2                    34237          5          4            25           0   \n",
      "3                    32472         27          4            21           0   \n",
      "4                    32852         31          2            22           0   \n",
      "\n",
      "   pct_white  ...  foreign_ug_num  foreign_ug_pct  pct_admitted  yield  \\\n",
      "0         49  ...            37.0             2.0          88.0   22.0   \n",
      "1         40  ...          1034.0             7.0          90.0   23.0   \n",
      "2         45  ...           556.0             6.0          86.0   19.0   \n",
      "3         26  ...           516.0             8.0           9.0   52.0   \n",
      "4         19  ...           777.0            11.0          25.0   22.0   \n",
      "\n",
      "   pct_pell  xpgrnt_p                                    name  state  \\\n",
      "0      41.0         R     University Of Alabama At Birmingham     AL   \n",
      "1      29.0         R  California State University, Fullerton     CA   \n",
      "2      21.0         R                    University Of Akron      OH   \n",
      "3      26.0         R   University Of California, Los Angeles     CA   \n",
      "4      40.0         R     University Of California, San Diego     CA   \n",
      "\n",
      "        par_mean par_median  \n",
      "0   92744.637908      74600  \n",
      "1  103739.636215      83300  \n",
      "2   86014.022917      74300  \n",
      "3  171784.801104     105500  \n",
      "4  176468.657437     111300  \n",
      "\n",
      "[5 rows x 24 columns]\n",
      "(71, 24)\n"
     ]
    }
   ],
   "source": [
    "df_proxy_data = pd.read_csv(\"proxy_data.csv\")\n",
    "\n",
    "# print the first 5 rows\n",
    "print(df_proxy_data.head())\n",
    "\n",
    "# print the shape of the dataframe\n",
    "print(df_proxy_data.shape)\n",
    "\n",
    "# print the columns of the dataframe"
   ]
  },
  {
   "cell_type": "code",
   "execution_count": 8,
   "metadata": {},
   "outputs": [],
   "source": [
    "#merge df_proxy_data on 'institution' and aggregate_df on 'school.name'\n",
    "df_merged = pd.merge(df_proxy_data, aggregated_df, left_on='institution', right_on='school.name', how='left')"
   ]
  },
  {
   "cell_type": "code",
   "execution_count": 9,
   "metadata": {},
   "outputs": [
    {
     "data": {
      "text/html": [
       "<div>\n",
       "<style scoped>\n",
       "    .dataframe tbody tr th:only-of-type {\n",
       "        vertical-align: middle;\n",
       "    }\n",
       "\n",
       "    .dataframe tbody tr th {\n",
       "        vertical-align: top;\n",
       "    }\n",
       "\n",
       "    .dataframe thead th {\n",
       "        text-align: right;\n",
       "    }\n",
       "</style>\n",
       "<table border=\"1\" class=\"dataframe\">\n",
       "  <thead>\n",
       "    <tr style=\"text-align: right;\">\n",
       "      <th></th>\n",
       "      <th>unitid</th>\n",
       "      <th>institution</th>\n",
       "      <th>year</th>\n",
       "      <th>tuition_fees</th>\n",
       "      <th>full_time_ug_enrollment</th>\n",
       "      <th>pct_asian</th>\n",
       "      <th>pct_black</th>\n",
       "      <th>pct_hispanic</th>\n",
       "      <th>pct_native</th>\n",
       "      <th>pct_white</th>\n",
       "      <th>...</th>\n",
       "      <th>name</th>\n",
       "      <th>state</th>\n",
       "      <th>par_mean</th>\n",
       "      <th>par_median</th>\n",
       "      <th>latest.admissions.admission_rate.overall</th>\n",
       "      <th>latest.student.demographics.race_ethnicity.asian</th>\n",
       "      <th>latest.student.demographics.race_ethnicity.white</th>\n",
       "      <th>latest.student.demographics.race_ethnicity.hispanic</th>\n",
       "      <th>latest.student.demographics.race_ethnicity.black</th>\n",
       "      <th>school.name</th>\n",
       "    </tr>\n",
       "  </thead>\n",
       "  <tbody>\n",
       "    <tr>\n",
       "      <th>0</th>\n",
       "      <td>100663</td>\n",
       "      <td>University of Alabama at Birmingham</td>\n",
       "      <td>2023</td>\n",
       "      <td>8832.0</td>\n",
       "      <td>9841</td>\n",
       "      <td>8</td>\n",
       "      <td>22</td>\n",
       "      <td>6</td>\n",
       "      <td>0</td>\n",
       "      <td>49</td>\n",
       "      <td>...</td>\n",
       "      <td>University Of Alabama At Birmingham</td>\n",
       "      <td>AL</td>\n",
       "      <td>92744.637908</td>\n",
       "      <td>74600</td>\n",
       "      <td>NaN</td>\n",
       "      <td>NaN</td>\n",
       "      <td>NaN</td>\n",
       "      <td>NaN</td>\n",
       "      <td>NaN</td>\n",
       "      <td>NaN</td>\n",
       "    </tr>\n",
       "    <tr>\n",
       "      <th>1</th>\n",
       "      <td>104151</td>\n",
       "      <td>Arizona State University Campus Immersion</td>\n",
       "      <td>2023</td>\n",
       "      <td>12051.0</td>\n",
       "      <td>59707</td>\n",
       "      <td>8</td>\n",
       "      <td>4</td>\n",
       "      <td>23</td>\n",
       "      <td>0</td>\n",
       "      <td>40</td>\n",
       "      <td>...</td>\n",
       "      <td>California State University, Fullerton</td>\n",
       "      <td>CA</td>\n",
       "      <td>103739.636215</td>\n",
       "      <td>83300</td>\n",
       "      <td>NaN</td>\n",
       "      <td>NaN</td>\n",
       "      <td>NaN</td>\n",
       "      <td>NaN</td>\n",
       "      <td>NaN</td>\n",
       "      <td>NaN</td>\n",
       "    </tr>\n",
       "    <tr>\n",
       "      <th>2</th>\n",
       "      <td>104179</td>\n",
       "      <td>University of Arizona</td>\n",
       "      <td>2023</td>\n",
       "      <td>13626.0</td>\n",
       "      <td>34237</td>\n",
       "      <td>5</td>\n",
       "      <td>4</td>\n",
       "      <td>25</td>\n",
       "      <td>0</td>\n",
       "      <td>45</td>\n",
       "      <td>...</td>\n",
       "      <td>University Of Akron</td>\n",
       "      <td>OH</td>\n",
       "      <td>86014.022917</td>\n",
       "      <td>74300</td>\n",
       "      <td>NaN</td>\n",
       "      <td>NaN</td>\n",
       "      <td>NaN</td>\n",
       "      <td>NaN</td>\n",
       "      <td>NaN</td>\n",
       "      <td>NaN</td>\n",
       "    </tr>\n",
       "    <tr>\n",
       "      <th>3</th>\n",
       "      <td>110662</td>\n",
       "      <td>University of California-Los Angeles</td>\n",
       "      <td>2023</td>\n",
       "      <td>13747.0</td>\n",
       "      <td>32472</td>\n",
       "      <td>27</td>\n",
       "      <td>4</td>\n",
       "      <td>21</td>\n",
       "      <td>0</td>\n",
       "      <td>26</td>\n",
       "      <td>...</td>\n",
       "      <td>University Of California, Los Angeles</td>\n",
       "      <td>CA</td>\n",
       "      <td>171784.801104</td>\n",
       "      <td>105500</td>\n",
       "      <td>NaN</td>\n",
       "      <td>NaN</td>\n",
       "      <td>NaN</td>\n",
       "      <td>NaN</td>\n",
       "      <td>NaN</td>\n",
       "      <td>NaN</td>\n",
       "    </tr>\n",
       "    <tr>\n",
       "      <th>4</th>\n",
       "      <td>110680</td>\n",
       "      <td>University of California-San Diego</td>\n",
       "      <td>2023</td>\n",
       "      <td>15265.0</td>\n",
       "      <td>32852</td>\n",
       "      <td>31</td>\n",
       "      <td>2</td>\n",
       "      <td>22</td>\n",
       "      <td>0</td>\n",
       "      <td>19</td>\n",
       "      <td>...</td>\n",
       "      <td>University Of California, San Diego</td>\n",
       "      <td>CA</td>\n",
       "      <td>176468.657437</td>\n",
       "      <td>111300</td>\n",
       "      <td>0.2452</td>\n",
       "      <td>0.3432</td>\n",
       "      <td>0.1818</td>\n",
       "      <td>0.2526</td>\n",
       "      <td>0.0179</td>\n",
       "      <td>University of California-San Diego</td>\n",
       "    </tr>\n",
       "    <tr>\n",
       "      <th>...</th>\n",
       "      <td>...</td>\n",
       "      <td>...</td>\n",
       "      <td>...</td>\n",
       "      <td>...</td>\n",
       "      <td>...</td>\n",
       "      <td>...</td>\n",
       "      <td>...</td>\n",
       "      <td>...</td>\n",
       "      <td>...</td>\n",
       "      <td>...</td>\n",
       "      <td>...</td>\n",
       "      <td>...</td>\n",
       "      <td>...</td>\n",
       "      <td>...</td>\n",
       "      <td>...</td>\n",
       "      <td>...</td>\n",
       "      <td>...</td>\n",
       "      <td>...</td>\n",
       "      <td>...</td>\n",
       "      <td>...</td>\n",
       "      <td>...</td>\n",
       "    </tr>\n",
       "    <tr>\n",
       "      <th>66</th>\n",
       "      <td>236948</td>\n",
       "      <td>University of Washington-Seattle Campus</td>\n",
       "      <td>2023</td>\n",
       "      <td>12643.0</td>\n",
       "      <td>29863</td>\n",
       "      <td>20</td>\n",
       "      <td>3</td>\n",
       "      <td>8</td>\n",
       "      <td>0</td>\n",
       "      <td>31</td>\n",
       "      <td>...</td>\n",
       "      <td>University Of Washington System</td>\n",
       "      <td>WA</td>\n",
       "      <td>155928.359373</td>\n",
       "      <td>108100</td>\n",
       "      <td>NaN</td>\n",
       "      <td>NaN</td>\n",
       "      <td>NaN</td>\n",
       "      <td>NaN</td>\n",
       "      <td>NaN</td>\n",
       "      <td>NaN</td>\n",
       "    </tr>\n",
       "    <tr>\n",
       "      <th>67</th>\n",
       "      <td>239169</td>\n",
       "      <td>Medical College of Wisconsin</td>\n",
       "      <td>2023</td>\n",
       "      <td>NaN</td>\n",
       "      <td>0</td>\n",
       "      <td>14</td>\n",
       "      <td>6</td>\n",
       "      <td>10</td>\n",
       "      <td>0</td>\n",
       "      <td>56</td>\n",
       "      <td>...</td>\n",
       "      <td>Medaille College</td>\n",
       "      <td>NY</td>\n",
       "      <td>82225.447939</td>\n",
       "      <td>72100</td>\n",
       "      <td>NaN</td>\n",
       "      <td>NaN</td>\n",
       "      <td>NaN</td>\n",
       "      <td>NaN</td>\n",
       "      <td>NaN</td>\n",
       "      <td>NaN</td>\n",
       "    </tr>\n",
       "    <tr>\n",
       "      <th>68</th>\n",
       "      <td>240444</td>\n",
       "      <td>University of Wisconsin-Madison</td>\n",
       "      <td>2023</td>\n",
       "      <td>11205.0</td>\n",
       "      <td>34278</td>\n",
       "      <td>9</td>\n",
       "      <td>3</td>\n",
       "      <td>8</td>\n",
       "      <td>0</td>\n",
       "      <td>57</td>\n",
       "      <td>...</td>\n",
       "      <td>University Of Wisconsin System</td>\n",
       "      <td>WI</td>\n",
       "      <td>125883.243735</td>\n",
       "      <td>96100</td>\n",
       "      <td>0.4335</td>\n",
       "      <td>0.1051</td>\n",
       "      <td>0.6035</td>\n",
       "      <td>0.0831</td>\n",
       "      <td>0.0250</td>\n",
       "      <td>University of Wisconsin-Madison</td>\n",
       "    </tr>\n",
       "    <tr>\n",
       "      <th>69</th>\n",
       "      <td>243744</td>\n",
       "      <td>Stanford University</td>\n",
       "      <td>2023</td>\n",
       "      <td>62484.0</td>\n",
       "      <td>7841</td>\n",
       "      <td>22</td>\n",
       "      <td>6</td>\n",
       "      <td>13</td>\n",
       "      <td>0</td>\n",
       "      <td>25</td>\n",
       "      <td>...</td>\n",
       "      <td>Stanford University</td>\n",
       "      <td>CA</td>\n",
       "      <td>472210.529162</td>\n",
       "      <td>172600</td>\n",
       "      <td>0.0391</td>\n",
       "      <td>0.2747</td>\n",
       "      <td>0.2416</td>\n",
       "      <td>0.1766</td>\n",
       "      <td>0.0791</td>\n",
       "      <td>Stanford University</td>\n",
       "    </tr>\n",
       "    <tr>\n",
       "      <th>70</th>\n",
       "      <td>262086</td>\n",
       "      <td>University of Massachusetts Global</td>\n",
       "      <td>2023</td>\n",
       "      <td>12520.0</td>\n",
       "      <td>1998</td>\n",
       "      <td>5</td>\n",
       "      <td>12</td>\n",
       "      <td>6</td>\n",
       "      <td>1</td>\n",
       "      <td>55</td>\n",
       "      <td>...</td>\n",
       "      <td>University Of Massachusetts System</td>\n",
       "      <td>MA</td>\n",
       "      <td>123207.017056</td>\n",
       "      <td>100000</td>\n",
       "      <td>NaN</td>\n",
       "      <td>NaN</td>\n",
       "      <td>NaN</td>\n",
       "      <td>NaN</td>\n",
       "      <td>NaN</td>\n",
       "      <td>NaN</td>\n",
       "    </tr>\n",
       "  </tbody>\n",
       "</table>\n",
       "<p>71 rows × 30 columns</p>\n",
       "</div>"
      ],
      "text/plain": [
       "    unitid                                institution  year  tuition_fees  \\\n",
       "0   100663        University of Alabama at Birmingham  2023        8832.0   \n",
       "1   104151  Arizona State University Campus Immersion  2023       12051.0   \n",
       "2   104179                      University of Arizona  2023       13626.0   \n",
       "3   110662       University of California-Los Angeles  2023       13747.0   \n",
       "4   110680         University of California-San Diego  2023       15265.0   \n",
       "..     ...                                        ...   ...           ...   \n",
       "66  236948    University of Washington-Seattle Campus  2023       12643.0   \n",
       "67  239169               Medical College of Wisconsin  2023           NaN   \n",
       "68  240444            University of Wisconsin-Madison  2023       11205.0   \n",
       "69  243744                        Stanford University  2023       62484.0   \n",
       "70  262086         University of Massachusetts Global  2023       12520.0   \n",
       "\n",
       "    full_time_ug_enrollment  pct_asian  pct_black  pct_hispanic  pct_native  \\\n",
       "0                      9841          8         22             6           0   \n",
       "1                     59707          8          4            23           0   \n",
       "2                     34237          5          4            25           0   \n",
       "3                     32472         27          4            21           0   \n",
       "4                     32852         31          2            22           0   \n",
       "..                      ...        ...        ...           ...         ...   \n",
       "66                    29863         20          3             8           0   \n",
       "67                        0         14          6            10           0   \n",
       "68                    34278          9          3             8           0   \n",
       "69                     7841         22          6            13           0   \n",
       "70                     1998          5         12             6           1   \n",
       "\n",
       "    pct_white  ...                                    name  state  \\\n",
       "0          49  ...     University Of Alabama At Birmingham     AL   \n",
       "1          40  ...  California State University, Fullerton     CA   \n",
       "2          45  ...                    University Of Akron      OH   \n",
       "3          26  ...   University Of California, Los Angeles     CA   \n",
       "4          19  ...     University Of California, San Diego     CA   \n",
       "..        ...  ...                                     ...    ...   \n",
       "66         31  ...         University Of Washington System     WA   \n",
       "67         56  ...                        Medaille College     NY   \n",
       "68         57  ...          University Of Wisconsin System     WI   \n",
       "69         25  ...                     Stanford University     CA   \n",
       "70         55  ...      University Of Massachusetts System     MA   \n",
       "\n",
       "         par_mean  par_median  latest.admissions.admission_rate.overall  \\\n",
       "0    92744.637908       74600                                       NaN   \n",
       "1   103739.636215       83300                                       NaN   \n",
       "2    86014.022917       74300                                       NaN   \n",
       "3   171784.801104      105500                                       NaN   \n",
       "4   176468.657437      111300                                    0.2452   \n",
       "..            ...         ...                                       ...   \n",
       "66  155928.359373      108100                                       NaN   \n",
       "67   82225.447939       72100                                       NaN   \n",
       "68  125883.243735       96100                                    0.4335   \n",
       "69  472210.529162      172600                                    0.0391   \n",
       "70  123207.017056      100000                                       NaN   \n",
       "\n",
       "    latest.student.demographics.race_ethnicity.asian  \\\n",
       "0                                                NaN   \n",
       "1                                                NaN   \n",
       "2                                                NaN   \n",
       "3                                                NaN   \n",
       "4                                             0.3432   \n",
       "..                                               ...   \n",
       "66                                               NaN   \n",
       "67                                               NaN   \n",
       "68                                            0.1051   \n",
       "69                                            0.2747   \n",
       "70                                               NaN   \n",
       "\n",
       "    latest.student.demographics.race_ethnicity.white  \\\n",
       "0                                                NaN   \n",
       "1                                                NaN   \n",
       "2                                                NaN   \n",
       "3                                                NaN   \n",
       "4                                             0.1818   \n",
       "..                                               ...   \n",
       "66                                               NaN   \n",
       "67                                               NaN   \n",
       "68                                            0.6035   \n",
       "69                                            0.2416   \n",
       "70                                               NaN   \n",
       "\n",
       "    latest.student.demographics.race_ethnicity.hispanic  \\\n",
       "0                                                 NaN     \n",
       "1                                                 NaN     \n",
       "2                                                 NaN     \n",
       "3                                                 NaN     \n",
       "4                                              0.2526     \n",
       "..                                                ...     \n",
       "66                                                NaN     \n",
       "67                                                NaN     \n",
       "68                                             0.0831     \n",
       "69                                             0.1766     \n",
       "70                                                NaN     \n",
       "\n",
       "    latest.student.demographics.race_ethnicity.black  \\\n",
       "0                                                NaN   \n",
       "1                                                NaN   \n",
       "2                                                NaN   \n",
       "3                                                NaN   \n",
       "4                                             0.0179   \n",
       "..                                               ...   \n",
       "66                                               NaN   \n",
       "67                                               NaN   \n",
       "68                                            0.0250   \n",
       "69                                            0.0791   \n",
       "70                                               NaN   \n",
       "\n",
       "                           school.name  \n",
       "0                                  NaN  \n",
       "1                                  NaN  \n",
       "2                                  NaN  \n",
       "3                                  NaN  \n",
       "4   University of California-San Diego  \n",
       "..                                 ...  \n",
       "66                                 NaN  \n",
       "67                                 NaN  \n",
       "68     University of Wisconsin-Madison  \n",
       "69                 Stanford University  \n",
       "70                                 NaN  \n",
       "\n",
       "[71 rows x 30 columns]"
      ]
     },
     "execution_count": 9,
     "metadata": {},
     "output_type": "execute_result"
    }
   ],
   "source": [
    "df_merged"
   ]
  },
  {
   "cell_type": "code",
   "execution_count": 10,
   "metadata": {},
   "outputs": [],
   "source": [
    "df_merged.to_csv(\"college_analysis.csv\", index=False)"
   ]
  },
  {
   "cell_type": "code",
   "execution_count": 11,
   "metadata": {},
   "outputs": [
    {
     "data": {
      "text/plain": [
       "Index(['unitid', 'institution', 'year', 'tuition_fees',\n",
       "       'full_time_ug_enrollment', 'pct_asian', 'pct_black', 'pct_hispanic',\n",
       "       'pct_native', 'pct_white', 'in_state_ug_num', 'in_state_ug_pct',\n",
       "       'out_of_state_ug_num', 'out_of_state_ug_pct', 'foreign_ug_num',\n",
       "       'foreign_ug_pct', 'pct_admitted', 'yield', 'pct_pell', 'xpgrnt_p',\n",
       "       'name', 'state', 'par_mean', 'par_median',\n",
       "       'latest.admissions.admission_rate.overall',\n",
       "       'latest.student.demographics.race_ethnicity.asian',\n",
       "       'latest.student.demographics.race_ethnicity.white',\n",
       "       'latest.student.demographics.race_ethnicity.hispanic',\n",
       "       'latest.student.demographics.race_ethnicity.black', 'school.name'],\n",
       "      dtype='object')"
      ]
     },
     "execution_count": 11,
     "metadata": {},
     "output_type": "execute_result"
    }
   ],
   "source": [
    "df_merged.columns"
   ]
  },
  {
   "cell_type": "code",
   "execution_count": 12,
   "metadata": {},
   "outputs": [],
   "source": [
    "df = df_merged"
   ]
  },
  {
   "cell_type": "code",
   "execution_count": null,
   "metadata": {},
   "outputs": [],
   "source": []
  },
  {
   "cell_type": "code",
   "execution_count": 13,
   "metadata": {},
   "outputs": [
    {
     "data": {
      "application/vnd.plotly.v1+json": {
       "config": {
        "plotlyServerURL": "https://plot.ly"
       },
       "data": [
        {
         "name": "Public School %",
         "type": "bar",
         "x": [
          "University of New Mexico-Gallup Campus",
          "University of South Carolina Aiken",
          "Ohio State University Agricultural Technical Institute",
          "University of Nebraska at Omaha",
          "University of Illinois Chicago",
          "University of Virginia's College at Wise",
          "Virginia Commonwealth University",
          "University of Alabama at Birmingham",
          "Rutgers University-New Brunswick",
          "University of California-San Diego",
          "University of Colorado Denver/Anschutz Medical Campus",
          "The University of Texas at Austin",
          "University of Pittsburgh-Bradford",
          "University of California-Santa Barbara",
          "University of California-Los Angeles",
          "University of Florida",
          "University of Cincinnati-Main Campus",
          "University of Illinois Urbana-Champaign",
          "University of Missouri-Columbia",
          "Arizona State University Campus Immersion",
          "University of Maryland-College Park",
          "Michigan State University",
          "University of Georgia",
          "University of Minnesota-Twin Cities",
          "University of North Carolina at Chapel Hill",
          "University of Connecticut",
          "University of Kentucky",
          "University of Arizona",
          "The University of Tennessee-Knoxville",
          "University of Kansas",
          "University of Wisconsin-Madison",
          "University of Iowa",
          "University of Colorado Boulder",
          "University of Southern California",
          "Cornell University",
          "University of Miami",
          "New York University",
          "Case Western Reserve University",
          "Stanford University",
          "Boston University",
          "Massachusetts Institute of Technology",
          "Washington University in St Louis",
          "Emory University",
          "University of Pennsylvania",
          "Harvard University",
          "Vanderbilt University",
          "Yale University",
          "Brown University",
          "Georgetown University"
         ],
         "y": {
          "bdata": "yCw/aVkHVUB9owxdZfJRQFoy+5VrtVFAqZN2RIpJUUCT41b/yRZRQEAX/TnY9FBAS0qxv0faUECXm+6zdc9QQAEAAAAAAFBA3e7qNJokT0DUEqr5m5NOQFApUPBv9E1Abxtb05DCTUAiAPfvTJ9MQJt8pc7Ub0xAc5fFRzNPTEB6zh+Rf+9LQIl7nZZDBEtAeRcum+3YSkDPMsjb6cxKQItMsJi9kkpAJnSYrbmHSkB+asXCDz5KQBtdEQwj60lAsvn6hIijSUDteWqybqtIQHZIZiPal0hAVB9edAxbR0A0erdVlCpHQP4pq6H8g0ZAi21SOVBbRUCIqgGaFh9FQDx5EGAC+kJANhIlAvO/QUDa1VwLivc+QANLrdg65jxA1AUQ79zzO0BctWTRD4A7QGRezWUAojlAmmAziNhvOECYu4fXFXI2QG8Hh36CuTNA3pBeZgm/MUBtfJ+2yJcwQAu6Z06E1i9ACGTfIBSZLECV01daJwAnQDQzMzMzMxtA1fN5VcDoGEA=",
          "dtype": "f8"
         }
        },
        {
         "name": "Private School %",
         "type": "bar",
         "x": [
          "University of New Mexico-Gallup Campus",
          "University of South Carolina Aiken",
          "Ohio State University Agricultural Technical Institute",
          "University of Nebraska at Omaha",
          "University of Illinois Chicago",
          "University of Virginia's College at Wise",
          "Virginia Commonwealth University",
          "University of Alabama at Birmingham",
          "Rutgers University-New Brunswick",
          "University of California-San Diego",
          "University of Colorado Denver/Anschutz Medical Campus",
          "The University of Texas at Austin",
          "University of Pittsburgh-Bradford",
          "University of California-Santa Barbara",
          "University of California-Los Angeles",
          "University of Florida",
          "University of Cincinnati-Main Campus",
          "University of Illinois Urbana-Champaign",
          "University of Missouri-Columbia",
          "Arizona State University Campus Immersion",
          "University of Maryland-College Park",
          "Michigan State University",
          "University of Georgia",
          "University of Minnesota-Twin Cities",
          "University of North Carolina at Chapel Hill",
          "University of Connecticut",
          "University of Kentucky",
          "University of Arizona",
          "The University of Tennessee-Knoxville",
          "University of Kansas",
          "University of Wisconsin-Madison",
          "University of Iowa",
          "University of Colorado Boulder",
          "University of Southern California",
          "Cornell University",
          "University of Miami",
          "New York University",
          "Case Western Reserve University",
          "Stanford University",
          "Boston University",
          "Massachusetts Institute of Technology",
          "Washington University in St Louis",
          "Emory University",
          "University of Pennsylvania",
          "Harvard University",
          "Vanderbilt University",
          "Yale University",
          "Brown University",
          "Georgetown University"
         ],
         "y": {
          "bdata": "wJkGtjTFL0ALcs2LajY8QJk2E6hRKj1AW7El7tbZPkCycaQC2KQ/QH/RBYxPFkBAa2udgHBLQEDRyCKYFGFAQP7//////0FAIxEVy2XbQkAs7VUGZGxDQLDWrw+QC0RAkeSkLG89REDe/wgQs2BFQGWDWjErkEVAjWg6uMywRUCGMeBugBBGQHeEYmm8+0ZAh+jRZBInR0AxzTckFjNHQHWzT2dCbUdA2otnUkZ4R0CClTo98MFHQOWi7vPcFEhATgYFe3dcSEAShpVNkVRJQIq3mdwlaElArOChi/OkSkDMhUiqa9VKQALWVF4DfEtAdpKtxq+kTEB4Vf5l6eBMQMWG75/9BU9A5XbtfgYgUECJyih9HUJRQD+t1ElxxlFAi/47xAgDUkCq0qYL/B9SQGeojOZ/l1JA2ifz3QnkUkAaER6KemNTQCU+XmCfEVRAyFtopj2QVEDkIFjSDdpUQL4IM3YvBVVAfxPke91sVUCNBbUU+x9WQMzMzMzMTFdAwmCo+nNxV0A=",
          "dtype": "f8"
         }
        }
       ],
       "layout": {
        "barmode": "stack",
        "height": 600,
        "template": {
         "data": {
          "bar": [
           {
            "error_x": {
             "color": "#2a3f5f"
            },
            "error_y": {
             "color": "#2a3f5f"
            },
            "marker": {
             "line": {
              "color": "#E5ECF6",
              "width": 0.5
             },
             "pattern": {
              "fillmode": "overlay",
              "size": 10,
              "solidity": 0.2
             }
            },
            "type": "bar"
           }
          ],
          "barpolar": [
           {
            "marker": {
             "line": {
              "color": "#E5ECF6",
              "width": 0.5
             },
             "pattern": {
              "fillmode": "overlay",
              "size": 10,
              "solidity": 0.2
             }
            },
            "type": "barpolar"
           }
          ],
          "carpet": [
           {
            "aaxis": {
             "endlinecolor": "#2a3f5f",
             "gridcolor": "white",
             "linecolor": "white",
             "minorgridcolor": "white",
             "startlinecolor": "#2a3f5f"
            },
            "baxis": {
             "endlinecolor": "#2a3f5f",
             "gridcolor": "white",
             "linecolor": "white",
             "minorgridcolor": "white",
             "startlinecolor": "#2a3f5f"
            },
            "type": "carpet"
           }
          ],
          "choropleth": [
           {
            "colorbar": {
             "outlinewidth": 0,
             "ticks": ""
            },
            "type": "choropleth"
           }
          ],
          "contour": [
           {
            "colorbar": {
             "outlinewidth": 0,
             "ticks": ""
            },
            "colorscale": [
             [
              0,
              "#0d0887"
             ],
             [
              0.1111111111111111,
              "#46039f"
             ],
             [
              0.2222222222222222,
              "#7201a8"
             ],
             [
              0.3333333333333333,
              "#9c179e"
             ],
             [
              0.4444444444444444,
              "#bd3786"
             ],
             [
              0.5555555555555556,
              "#d8576b"
             ],
             [
              0.6666666666666666,
              "#ed7953"
             ],
             [
              0.7777777777777778,
              "#fb9f3a"
             ],
             [
              0.8888888888888888,
              "#fdca26"
             ],
             [
              1,
              "#f0f921"
             ]
            ],
            "type": "contour"
           }
          ],
          "contourcarpet": [
           {
            "colorbar": {
             "outlinewidth": 0,
             "ticks": ""
            },
            "type": "contourcarpet"
           }
          ],
          "heatmap": [
           {
            "colorbar": {
             "outlinewidth": 0,
             "ticks": ""
            },
            "colorscale": [
             [
              0,
              "#0d0887"
             ],
             [
              0.1111111111111111,
              "#46039f"
             ],
             [
              0.2222222222222222,
              "#7201a8"
             ],
             [
              0.3333333333333333,
              "#9c179e"
             ],
             [
              0.4444444444444444,
              "#bd3786"
             ],
             [
              0.5555555555555556,
              "#d8576b"
             ],
             [
              0.6666666666666666,
              "#ed7953"
             ],
             [
              0.7777777777777778,
              "#fb9f3a"
             ],
             [
              0.8888888888888888,
              "#fdca26"
             ],
             [
              1,
              "#f0f921"
             ]
            ],
            "type": "heatmap"
           }
          ],
          "histogram": [
           {
            "marker": {
             "pattern": {
              "fillmode": "overlay",
              "size": 10,
              "solidity": 0.2
             }
            },
            "type": "histogram"
           }
          ],
          "histogram2d": [
           {
            "colorbar": {
             "outlinewidth": 0,
             "ticks": ""
            },
            "colorscale": [
             [
              0,
              "#0d0887"
             ],
             [
              0.1111111111111111,
              "#46039f"
             ],
             [
              0.2222222222222222,
              "#7201a8"
             ],
             [
              0.3333333333333333,
              "#9c179e"
             ],
             [
              0.4444444444444444,
              "#bd3786"
             ],
             [
              0.5555555555555556,
              "#d8576b"
             ],
             [
              0.6666666666666666,
              "#ed7953"
             ],
             [
              0.7777777777777778,
              "#fb9f3a"
             ],
             [
              0.8888888888888888,
              "#fdca26"
             ],
             [
              1,
              "#f0f921"
             ]
            ],
            "type": "histogram2d"
           }
          ],
          "histogram2dcontour": [
           {
            "colorbar": {
             "outlinewidth": 0,
             "ticks": ""
            },
            "colorscale": [
             [
              0,
              "#0d0887"
             ],
             [
              0.1111111111111111,
              "#46039f"
             ],
             [
              0.2222222222222222,
              "#7201a8"
             ],
             [
              0.3333333333333333,
              "#9c179e"
             ],
             [
              0.4444444444444444,
              "#bd3786"
             ],
             [
              0.5555555555555556,
              "#d8576b"
             ],
             [
              0.6666666666666666,
              "#ed7953"
             ],
             [
              0.7777777777777778,
              "#fb9f3a"
             ],
             [
              0.8888888888888888,
              "#fdca26"
             ],
             [
              1,
              "#f0f921"
             ]
            ],
            "type": "histogram2dcontour"
           }
          ],
          "mesh3d": [
           {
            "colorbar": {
             "outlinewidth": 0,
             "ticks": ""
            },
            "type": "mesh3d"
           }
          ],
          "parcoords": [
           {
            "line": {
             "colorbar": {
              "outlinewidth": 0,
              "ticks": ""
             }
            },
            "type": "parcoords"
           }
          ],
          "pie": [
           {
            "automargin": true,
            "type": "pie"
           }
          ],
          "scatter": [
           {
            "fillpattern": {
             "fillmode": "overlay",
             "size": 10,
             "solidity": 0.2
            },
            "type": "scatter"
           }
          ],
          "scatter3d": [
           {
            "line": {
             "colorbar": {
              "outlinewidth": 0,
              "ticks": ""
             }
            },
            "marker": {
             "colorbar": {
              "outlinewidth": 0,
              "ticks": ""
             }
            },
            "type": "scatter3d"
           }
          ],
          "scattercarpet": [
           {
            "marker": {
             "colorbar": {
              "outlinewidth": 0,
              "ticks": ""
             }
            },
            "type": "scattercarpet"
           }
          ],
          "scattergeo": [
           {
            "marker": {
             "colorbar": {
              "outlinewidth": 0,
              "ticks": ""
             }
            },
            "type": "scattergeo"
           }
          ],
          "scattergl": [
           {
            "marker": {
             "colorbar": {
              "outlinewidth": 0,
              "ticks": ""
             }
            },
            "type": "scattergl"
           }
          ],
          "scattermap": [
           {
            "marker": {
             "colorbar": {
              "outlinewidth": 0,
              "ticks": ""
             }
            },
            "type": "scattermap"
           }
          ],
          "scattermapbox": [
           {
            "marker": {
             "colorbar": {
              "outlinewidth": 0,
              "ticks": ""
             }
            },
            "type": "scattermapbox"
           }
          ],
          "scatterpolar": [
           {
            "marker": {
             "colorbar": {
              "outlinewidth": 0,
              "ticks": ""
             }
            },
            "type": "scatterpolar"
           }
          ],
          "scatterpolargl": [
           {
            "marker": {
             "colorbar": {
              "outlinewidth": 0,
              "ticks": ""
             }
            },
            "type": "scatterpolargl"
           }
          ],
          "scatterternary": [
           {
            "marker": {
             "colorbar": {
              "outlinewidth": 0,
              "ticks": ""
             }
            },
            "type": "scatterternary"
           }
          ],
          "surface": [
           {
            "colorbar": {
             "outlinewidth": 0,
             "ticks": ""
            },
            "colorscale": [
             [
              0,
              "#0d0887"
             ],
             [
              0.1111111111111111,
              "#46039f"
             ],
             [
              0.2222222222222222,
              "#7201a8"
             ],
             [
              0.3333333333333333,
              "#9c179e"
             ],
             [
              0.4444444444444444,
              "#bd3786"
             ],
             [
              0.5555555555555556,
              "#d8576b"
             ],
             [
              0.6666666666666666,
              "#ed7953"
             ],
             [
              0.7777777777777778,
              "#fb9f3a"
             ],
             [
              0.8888888888888888,
              "#fdca26"
             ],
             [
              1,
              "#f0f921"
             ]
            ],
            "type": "surface"
           }
          ],
          "table": [
           {
            "cells": {
             "fill": {
              "color": "#EBF0F8"
             },
             "line": {
              "color": "white"
             }
            },
            "header": {
             "fill": {
              "color": "#C8D4E3"
             },
             "line": {
              "color": "white"
             }
            },
            "type": "table"
           }
          ]
         },
         "layout": {
          "annotationdefaults": {
           "arrowcolor": "#2a3f5f",
           "arrowhead": 0,
           "arrowwidth": 1
          },
          "autotypenumbers": "strict",
          "coloraxis": {
           "colorbar": {
            "outlinewidth": 0,
            "ticks": ""
           }
          },
          "colorscale": {
           "diverging": [
            [
             0,
             "#8e0152"
            ],
            [
             0.1,
             "#c51b7d"
            ],
            [
             0.2,
             "#de77ae"
            ],
            [
             0.3,
             "#f1b6da"
            ],
            [
             0.4,
             "#fde0ef"
            ],
            [
             0.5,
             "#f7f7f7"
            ],
            [
             0.6,
             "#e6f5d0"
            ],
            [
             0.7,
             "#b8e186"
            ],
            [
             0.8,
             "#7fbc41"
            ],
            [
             0.9,
             "#4d9221"
            ],
            [
             1,
             "#276419"
            ]
           ],
           "sequential": [
            [
             0,
             "#0d0887"
            ],
            [
             0.1111111111111111,
             "#46039f"
            ],
            [
             0.2222222222222222,
             "#7201a8"
            ],
            [
             0.3333333333333333,
             "#9c179e"
            ],
            [
             0.4444444444444444,
             "#bd3786"
            ],
            [
             0.5555555555555556,
             "#d8576b"
            ],
            [
             0.6666666666666666,
             "#ed7953"
            ],
            [
             0.7777777777777778,
             "#fb9f3a"
            ],
            [
             0.8888888888888888,
             "#fdca26"
            ],
            [
             1,
             "#f0f921"
            ]
           ],
           "sequentialminus": [
            [
             0,
             "#0d0887"
            ],
            [
             0.1111111111111111,
             "#46039f"
            ],
            [
             0.2222222222222222,
             "#7201a8"
            ],
            [
             0.3333333333333333,
             "#9c179e"
            ],
            [
             0.4444444444444444,
             "#bd3786"
            ],
            [
             0.5555555555555556,
             "#d8576b"
            ],
            [
             0.6666666666666666,
             "#ed7953"
            ],
            [
             0.7777777777777778,
             "#fb9f3a"
            ],
            [
             0.8888888888888888,
             "#fdca26"
            ],
            [
             1,
             "#f0f921"
            ]
           ]
          },
          "colorway": [
           "#636efa",
           "#EF553B",
           "#00cc96",
           "#ab63fa",
           "#FFA15A",
           "#19d3f3",
           "#FF6692",
           "#B6E880",
           "#FF97FF",
           "#FECB52"
          ],
          "font": {
           "color": "#2a3f5f"
          },
          "geo": {
           "bgcolor": "white",
           "lakecolor": "white",
           "landcolor": "#E5ECF6",
           "showlakes": true,
           "showland": true,
           "subunitcolor": "white"
          },
          "hoverlabel": {
           "align": "left"
          },
          "hovermode": "closest",
          "mapbox": {
           "style": "light"
          },
          "paper_bgcolor": "white",
          "plot_bgcolor": "#E5ECF6",
          "polar": {
           "angularaxis": {
            "gridcolor": "white",
            "linecolor": "white",
            "ticks": ""
           },
           "bgcolor": "#E5ECF6",
           "radialaxis": {
            "gridcolor": "white",
            "linecolor": "white",
            "ticks": ""
           }
          },
          "scene": {
           "xaxis": {
            "backgroundcolor": "#E5ECF6",
            "gridcolor": "white",
            "gridwidth": 2,
            "linecolor": "white",
            "showbackground": true,
            "ticks": "",
            "zerolinecolor": "white"
           },
           "yaxis": {
            "backgroundcolor": "#E5ECF6",
            "gridcolor": "white",
            "gridwidth": 2,
            "linecolor": "white",
            "showbackground": true,
            "ticks": "",
            "zerolinecolor": "white"
           },
           "zaxis": {
            "backgroundcolor": "#E5ECF6",
            "gridcolor": "white",
            "gridwidth": 2,
            "linecolor": "white",
            "showbackground": true,
            "ticks": "",
            "zerolinecolor": "white"
           }
          },
          "shapedefaults": {
           "line": {
            "color": "#2a3f5f"
           }
          },
          "ternary": {
           "aaxis": {
            "gridcolor": "white",
            "linecolor": "white",
            "ticks": ""
           },
           "baxis": {
            "gridcolor": "white",
            "linecolor": "white",
            "ticks": ""
           },
           "bgcolor": "#E5ECF6",
           "caxis": {
            "gridcolor": "white",
            "linecolor": "white",
            "ticks": ""
           }
          },
          "title": {
           "x": 0.05
          },
          "xaxis": {
           "automargin": true,
           "gridcolor": "white",
           "linecolor": "white",
           "ticks": "",
           "title": {
            "standoff": 15
           },
           "zerolinecolor": "white",
           "zerolinewidth": 2
          },
          "yaxis": {
           "automargin": true,
           "gridcolor": "white",
           "linecolor": "white",
           "ticks": "",
           "title": {
            "standoff": 15
           },
           "zerolinecolor": "white",
           "zerolinewidth": 2
          }
         }
        },
        "title": {
         "text": "Estimated % of Students from Public vs Private Schools"
        },
        "width": 1200,
        "xaxis": {
         "tickangle": -45,
         "title": {
          "text": "Institution"
         }
        },
        "yaxis": {
         "title": {
          "text": "Percentage of Students"
         }
        }
       }
      }
     },
     "metadata": {},
     "output_type": "display_data"
    }
   ],
   "source": [
    "# Define the logic for estimating public vs. private school %\n",
    "# Heuristic logic based on socioeconomic proxies:\n",
    "# - Higher Pell Grant % → likely more public school\n",
    "# - Higher in-state % → likely more public school\n",
    "# - Higher parent income → likely more private school\n",
    "# We'll combine these heuristics linearly.\n",
    "\n",
    "# Normalize relevant columns\n",
    "df['pct_pell_norm'] = df['pct_pell'] / 100\n",
    "df['in_state_ug_pct_norm'] = df['in_state_ug_pct'] / 100\n",
    "df['par_mean_norm'] = (df['par_mean'] - df['par_mean'].min()) / (df['par_mean'].max() - df['par_mean'].min())\n",
    "\n",
    "# Define weights for the heuristic (you can tweak this based on literature / assumptions)\n",
    "w_pell = 0.4\n",
    "w_in_state = 0.4\n",
    "w_income = 0.2\n",
    "\n",
    "# Estimate \"Public school % score\"\n",
    "df['public_school_score'] = (\n",
    "    w_pell * df['pct_pell_norm'] +\n",
    "    w_in_state * df['in_state_ug_pct_norm'] +\n",
    "    w_income * (1 - df['par_mean_norm'])  # higher income → less public\n",
    ")\n",
    "\n",
    "# Clip scores between 0 and 1\n",
    "df['public_school_pct'] = (df['public_school_score']).clip(0, 1)\n",
    "\n",
    "# Private school % is complementary\n",
    "df['private_school_pct'] = 1 - df['public_school_pct']\n",
    "\n",
    "# Prepare data for plot\n",
    "plot_df = df[['institution', 'public_school_pct', 'private_school_pct']].dropna().sort_values(by='public_school_pct', ascending=False)\n",
    "\n",
    "\n",
    "\n",
    "fig = go.Figure(data=[\n",
    "    go.Bar(name='Public School %', x=plot_df['institution'], y=plot_df['public_school_pct'] * 100),\n",
    "    go.Bar(name='Private School %', x=plot_df['institution'], y=plot_df['private_school_pct'] * 100)\n",
    "])\n",
    "\n",
    "fig.update_layout(\n",
    "    barmode='stack',\n",
    "    title='Estimated % of Students from Public vs Private Schools',\n",
    "    xaxis_title='Institution',\n",
    "    yaxis_title='Percentage of Students',\n",
    "    xaxis_tickangle=-45,\n",
    "    height=600,\n",
    "    width=1200\n",
    ")\n",
    "\n",
    "fig.show()\n"
   ]
  }
 ],
 "metadata": {
  "kernelspec": {
   "display_name": "ai_tut",
   "language": "python",
   "name": "python3"
  },
  "language_info": {
   "codemirror_mode": {
    "name": "ipython",
    "version": 3
   },
   "file_extension": ".py",
   "mimetype": "text/x-python",
   "name": "python",
   "nbconvert_exporter": "python",
   "pygments_lexer": "ipython3",
   "version": "3.13.3"
  }
 },
 "nbformat": 4,
 "nbformat_minor": 2
}
