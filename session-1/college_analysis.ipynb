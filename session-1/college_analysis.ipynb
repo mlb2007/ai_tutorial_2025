{
 "cells": [
  {
   "cell_type": "code",
   "execution_count": 1,
   "metadata": {},
   "outputs": [],
   "source": [
    "import requests\n",
    "import pandas as pd\n",
    "import os\n",
    "import numpy as np\n",
    "import re\n",
    "\n",
    "from dotenv import load_dotenv\n",
    "import os\n",
    "\n",
    "from json import JSONDecodeError\n",
    "\n",
    "# Now create an interactive Plotly bar chart\n",
    "import plotly.graph_objects as go"
   ]
  },
  {
   "cell_type": "code",
   "execution_count": 2,
   "metadata": {},
   "outputs": [],
   "source": [
    "# Load environment variables from .env file\n",
    "load_dotenv()\n",
    "\n",
    "# Get API key from environment variables\n",
    "API_KEY = os.getenv('API_KEY')"
   ]
  },
  {
   "cell_type": "markdown",
   "metadata": {},
   "source": [
    "Reference: https://support.qs.com/hc/en-gb/articles/4410488025106-QS-World-University-Rankings-by-Subject\n",
    "### The rankings columns are:\n",
    "* Academic Reputation (30% weight)\n",
    "-- The Academic Reputation (AR) indicator measures the reputation of institutions and their programmes by asking academic experts to nominate universities based on their subject area of expertise. Pioneered by QS in 2004, it asks the question: which universities are demonstrating academic excellence? To answer this we collect and distil the collective intelligence of academics from around the world via our Academic Survey, evaluating nominations for approximately 7000 institutions each year.The indicator not only illuminates the quality of an institution's research, but also their approach to academic partnerships, their strategic impact, their educational innovativeness and the impact they have made on education and society at large.\n",
    "The indicator is the centrepiece of almost all of the rankings across the QS portfolio. \n",
    "\n",
    "* Employer Reputation (15% weight)\n",
    "-- The Employer Reputation (ER) indicator measures the reputation of institutions and their programmes among employers. We remain the only major ranking to focus on this vital aspect of a student's educational journey.\n",
    "\n",
    "* Citations per Paper\n",
    "-- The Citations per Paper (CPP) indicator measures the impact and quality of the scientific work done by institutions, on average per publication.\n",
    "\n",
    "* H-Index\n",
    "-- The h-index is an index that attempts to measure both the productivity and impact of the published work of a scientist or scholar. The index is based on the set of the scientist’s most cited papers and the number of citations that they have received in other publications. It can also be applied to the productivity and impact of a group of scientists, such as a department, or an institution (as in the case of our indicator), or a country, as well as a scholarly journal. The index is defined as the maximum value of h such that the given entity (author, journal, department, institution, etc.) has published at least h papers that have each been cited at least h times (https://doi.org/10.1073/pnas.0507655102). We use institution-level H Index.\n",
    "\n",
    "* International Research Network\n",
    "-- International Research Network (IRN) is a measure of an institution's success in creating and sustaining research partnerships with institutions in other locations. The indicator measures how diverse and rich an institution's research network is by looking at the number of different countries represented, and whether these relationships are renewed and repeated. We only consider sustained partnerships, defined as those which result in three or more joint papers published in a five-year period.\n"
   ]
  },
  {
   "cell_type": "code",
   "execution_count": 3,
   "metadata": {},
   "outputs": [],
   "source": [
    "def get_top_us_institutions_for_life_sciences(num_institutions=200):\n",
    "    file_path = '2025_QS_rankings.xlsx'\n",
    "    # Reload with correct settings: skip to row 10 (0-based), treat row 10 as header\n",
    "    df_qs = pd.read_excel(file_path, sheet_name=\"Life Sciences & Medicine\", skiprows=10, header=0)\n",
    "\n",
    "    # Drop rows with missing Institution (bottom padding, if any)\n",
    "    df_qs = df_qs.dropna(subset=[\"Institution\"])\n",
    "\n",
    "    # Select top 100 programs\n",
    "    df_top = df_qs.head(num_institutions)\n",
    "\n",
    "    # Select relevant columns\n",
    "    df_top = df_top[[\n",
    "        \"2025\", \"Institution\", \"Country / Territory\", \"Score\", \"Academic\", \"Employer\", \"Citations\", \"H\", \"IRN\"\n",
    "    ]]\n",
    "\n",
    "    # Rename 2025 column to \"Rank\" for clarity\n",
    "    df_top = df_top.rename(columns={\"2025\": \"Rank\"})\n",
    "    # Clean up the rank column that has = sign prefixed and make it an integer\n",
    "    df_top['Rank'] = df_top['Rank'].str.replace('=', '')\n",
    "    df_top['Rank'] = df_top['Rank'].astype(int)\n",
    "\n",
    "    # rank the institutions by overall Rank and H-index (higher the H-index, better the institution)\n",
    "    df_top = df_top.sort_values(by=['Rank', 'H'], ascending=True)\n",
    "\n",
    "    # consider only US instituions and rank by H-index (higher the H-index, better the institution) and drop the country column\n",
    "    df_top_us = df_top[df_top['Country / Territory'] == 'United States of America']\n",
    "    df_top_us = df_top_us.drop(columns=['Country / Territory'])\n",
    "    print(df_top_us.head(10))\n",
    "\n",
    "    # clean up the institution names\n",
    "    list_of_institutions = df_top_us['Institution'].values.tolist()\n",
    "    cleaned_institutions = []\n",
    "    for institution in list_of_institutions:\n",
    "        cleaned = re.sub(r'\\([^)]*\\)', '', institution)\n",
    "        cleaned = cleaned.replace(',', '-')\n",
    "        cleaned = cleaned.strip()\n",
    "        cleaned_institutions.append(cleaned)\n",
    "\n",
    "    # no space before and after '-' within the string if there are space\n",
    "    cleaned_institutions = [re.sub(r'\\s*-\\s*', '-', institution) for institution in cleaned_institutions]\n",
    "\n",
    "    # remove any duplicates\n",
    "    cleaned_institutions = list(dict.fromkeys(cleaned_institutions))\n",
    "\n",
    "    # remove any empty strings\n",
    "    cleaned_institutions = [institution for institution in cleaned_institutions if institution]\n",
    "\n",
    "    return cleaned_institutions, df_top_us"
   ]
  },
  {
   "cell_type": "code",
   "execution_count": 4,
   "metadata": {},
   "outputs": [
    {
     "name": "stdout",
     "output_type": "stream",
     "text": [
      "    Rank                                     Institution  Score  Academic  \\\n",
      "0      1                              Harvard University   98.7     100.0   \n",
      "2      3                        Johns Hopkins University   93.8      99.6   \n",
      "3      4                             Stanford University   92.6      93.9   \n",
      "4      5     Massachusetts Institute of Technology (MIT)   91.2      91.8   \n",
      "6      7  University of California, San Francisco (UCSF)   90.2      92.7   \n",
      "11    12                                 Yale University   87.7      89.4   \n",
      "13    14    University of California, Los Angeles (UCLA)   86.5      89.4   \n",
      "15    16                              Cornell University   85.4      87.3   \n",
      "16    17      University of California, San Diego (UCSD)   85.1      86.8   \n",
      "17    18                      University of Pennsylvania   84.9      84.7   \n",
      "\n",
      "    Employer  Citations      H    IRN  \n",
      "0      100.0       93.7  100.0  100.0  \n",
      "2       83.2       91.2   90.7   92.5  \n",
      "3       97.1       93.7   91.5   82.7  \n",
      "4       99.8      100.0   86.9   71.4  \n",
      "6       73.1       93.5   89.7   91.4  \n",
      "11      89.2       90.6   86.5   76.3  \n",
      "13      79.5       90.2   85.8   75.8  \n",
      "15      83.7       90.4   85.9   68.8  \n",
      "16      76.2       91.7   86.5   70.8  \n",
      "17      79.5       90.2   88.7   72.5  \n",
      "['Harvard University', 'Johns Hopkins University', 'Stanford University', 'Massachusetts Institute of Technology', 'University of California-San Francisco', 'Yale University', 'University of California-Los Angeles', 'Cornell University', 'University of California-San Diego', 'University of Pennsylvania', 'University of California-Berkeley', 'University of Washington', 'Duke University', 'Columbia University', 'University of Michigan-Ann Arbor', 'University of California-Davis', 'University of North Carolina-Chapel Hill', 'Washington University in St. Louis', 'New York University', 'University of Chicago', 'Boston University', 'Emory University', 'Northwestern University', 'University of Florida', 'Baylor College of Medicine', 'The University of Texas M. D. Anderson Cancer Center', 'The Ohio State University', 'Vanderbilt University', 'University of Wisconsin-Madison', 'University of Minnesota Twin Cities', 'University of Pittsburgh']\n"
     ]
    }
   ],
   "source": [
    "def test_top_100_us_institutions_for_life_sciences():\n",
    "    top_institutions, df_top100_us = get_top_us_institutions_for_life_sciences(100)\n",
    "    print(top_institutions)\n",
    "\n",
    "test_top_100_us_institutions_for_life_sciences()"
   ]
  },
  {
   "cell_type": "code",
   "execution_count": 5,
   "metadata": {},
   "outputs": [],
   "source": [
    "def get_school_admission_data(school_name):\n",
    "    print(f\"Getting admission data for {school_name}\")\n",
    "    base_url = \"https://api.data.gov/ed/collegescorecard/v1/schools\"\n",
    "    params = {\n",
    "        \"api_key\": API_KEY,\n",
    "        \"school.name\": school_name,\n",
    "        \"fields\": \"school.name,latest.admissions.admission_rate.overall,latest.student.demographics.race_ethnicity.asian,latest.student.demographics.race_ethnicity.white,latest.student.demographics.race_ethnicity.hispanic,latest.student.demographics.race_ethnicity.black\",\n",
    "        \"per_page\": 1\n",
    "    }\n",
    "\n",
    "    response = requests.get(base_url, params=params)\n",
    "    try:\n",
    "        data = response.json()\n",
    "        # Convert to pandas dataframe\n",
    "        df = pd.json_normalize(data['results'])\n",
    "    except JSONDecodeError as e:\n",
    "        print(f\"Error getting admission data for {school_name}: {e}\")\n",
    "        return pd.DataFrame()\n",
    "\n",
    "    # if df is all NAN, return empty dataframe\n",
    "    if df.isna().all().all():\n",
    "        print(f\"No admission data found for {school_name}\")\n",
    "        return pd.DataFrame()\n",
    "    \n",
    "    # check if everything is NaN except the school name column and if so, return empty dataframe \n",
    "    # get all columns except the school name column\n",
    "    columns_to_check = df.columns.tolist()\n",
    "    columns_to_check.remove('school.name')\n",
    "    if df[columns_to_check].isna().all().all():\n",
    "        print(f\"No admission data found for {school_name}\")\n",
    "        return pd.DataFrame()\n",
    "    \n",
    "    return df"
   ]
  },
  {
   "cell_type": "code",
   "execution_count": 6,
   "metadata": {},
   "outputs": [
    {
     "name": "stdout",
     "output_type": "stream",
     "text": [
      "    Rank                                     Institution  Score  Academic  \\\n",
      "0      1                              Harvard University   98.7     100.0   \n",
      "2      3                        Johns Hopkins University   93.8      99.6   \n",
      "3      4                             Stanford University   92.6      93.9   \n",
      "4      5     Massachusetts Institute of Technology (MIT)   91.2      91.8   \n",
      "6      7  University of California, San Francisco (UCSF)   90.2      92.7   \n",
      "11    12                                 Yale University   87.7      89.4   \n",
      "13    14    University of California, Los Angeles (UCLA)   86.5      89.4   \n",
      "15    16                              Cornell University   85.4      87.3   \n",
      "16    17      University of California, San Diego (UCSD)   85.1      86.8   \n",
      "17    18                      University of Pennsylvania   84.9      84.7   \n",
      "\n",
      "    Employer  Citations      H    IRN  \n",
      "0      100.0       93.7  100.0  100.0  \n",
      "2       83.2       91.2   90.7   92.5  \n",
      "3       97.1       93.7   91.5   82.7  \n",
      "4       99.8      100.0   86.9   71.4  \n",
      "6       73.1       93.5   89.7   91.4  \n",
      "11      89.2       90.6   86.5   76.3  \n",
      "13      79.5       90.2   85.8   75.8  \n",
      "15      83.7       90.4   85.9   68.8  \n",
      "16      76.2       91.7   86.5   70.8  \n",
      "17      79.5       90.2   88.7   72.5  \n",
      "Getting admission data for Harvard University\n",
      "Getting admission data for Johns Hopkins University\n",
      "Getting admission data for Stanford University\n",
      "Getting admission data for Massachusetts Institute of Technology\n",
      "Getting admission data for University of California-San Francisco\n",
      "No admission data found for University of California-San Francisco\n",
      "Getting admission data for Yale University\n",
      "Getting admission data for University of California-Los Angeles\n",
      "Getting admission data for Cornell University\n",
      "No admission data found for Cornell University\n",
      "Getting admission data for University of California-San Diego\n",
      "Getting admission data for University of Pennsylvania\n",
      "Getting admission data for University of California-Berkeley\n",
      "Getting admission data for University of Washington\n",
      "Getting admission data for Duke University\n",
      "Getting admission data for Columbia University\n",
      "Getting admission data for University of Michigan-Ann Arbor\n",
      "Getting admission data for University of California-Davis\n",
      "Getting admission data for University of North Carolina-Chapel Hill\n",
      "Getting admission data for Washington University in St. Louis\n",
      "Getting admission data for New York University\n",
      "Getting admission data for University of Chicago\n",
      "Getting admission data for Boston University\n",
      "Getting admission data for Emory University\n",
      "Getting admission data for Northwestern University\n",
      "Getting admission data for University of Florida\n",
      "Getting admission data for Baylor College of Medicine\n",
      "No admission data found for Baylor College of Medicine\n",
      "Getting admission data for The University of Texas M. D. Anderson Cancer Center\n",
      "No admission data found for The University of Texas M. D. Anderson Cancer Center\n",
      "Getting admission data for The Ohio State University\n",
      "No admission data found for The Ohio State University\n",
      "Getting admission data for Vanderbilt University\n",
      "Getting admission data for University of Wisconsin-Madison\n",
      "Getting admission data for University of Minnesota Twin Cities\n",
      "Getting admission data for University of Pittsburgh\n",
      "Getting admission data for Pennsylvania State University\n",
      "Getting admission data for Icahn School of Medicine at Mount Sinai\n",
      "No admission data found for Icahn School of Medicine at Mount Sinai\n",
      "Getting admission data for The University of Texas Southwestern Medical Center at Dallas\n",
      "No admission data found for The University of Texas Southwestern Medical Center at Dallas\n",
      "Getting admission data for Michigan State University\n",
      "Getting admission data for Case Western Reserve University\n",
      "Getting admission data for Princeton University\n",
      "Getting admission data for Texas A&M University\n",
      "No admission data found for Texas A&M University\n",
      "Getting admission data for Brown University\n",
      "Getting admission data for Tufts University\n",
      "Getting admission data for University of Illinois at Chicago\n",
      "Getting admission data for Purdue University\n",
      "Getting admission data for University of Southern California\n",
      "Getting admission data for University of Texas at Austin\n",
      "Getting admission data for University of Illinois at Urbana-Champaign\n",
      "Getting admission data for University of Miami\n",
      "Getting admission data for Oregon Health & Science University\n"
     ]
    },
    {
     "name": "stderr",
     "output_type": "stream",
     "text": [
      "/var/folders/jq/k7532ttd0zz6t7yn53jttrjh0000gn/T/ipykernel_96464/2234131992.py:12: FutureWarning: The behavior of DataFrame concatenation with empty or all-NA entries is deprecated. In a future version, this will no longer exclude empty or all-NA columns when determining the result dtypes. To retain the old behavior, exclude the relevant entries before the concat operation.\n",
      "  aggregated_df = pd.concat([aggregated_df, df_admission_data], ignore_index=True)\n"
     ]
    },
    {
     "name": "stdout",
     "output_type": "stream",
     "text": [
      "Getting admission data for North Carolina State University\n",
      "Getting admission data for University of California-Irvine\n"
     ]
    }
   ],
   "source": [
    "top_institutions, df_top_us = get_top_us_institutions_for_life_sciences()\n",
    "\n",
    "aggregated_df = pd.DataFrame()\n",
    "for institution in top_institutions:\n",
    "    df_admission_data = get_school_admission_data(institution)\n",
    "    if not df_admission_data.empty:\n",
    "        # Initialize aggregated_df with the first non-empty dataframe\n",
    "        if aggregated_df.empty:\n",
    "            aggregated_df = df_admission_data\n",
    "        else:\n",
    "            if not df_admission_data.isna().all().all():\n",
    "                aggregated_df = pd.concat([aggregated_df, df_admission_data], ignore_index=True)\n",
    "\n",
    "aggregated_df.head()\n",
    "\n",
    "# write aggregated_df to csv\n",
    "aggregated_df.to_csv(\"top_us_institutions.csv\", index=False)"
   ]
  },
  {
   "cell_type": "code",
   "execution_count": 14,
   "metadata": {},
   "outputs": [
    {
     "name": "stdout",
     "output_type": "stream",
     "text": [
      "   unitid                              institution  year  pct_pell  \\\n",
      "0  107141                    John Brown University  2023      24.0   \n",
      "1  110592  California State University-Los Angeles  2023      77.0   \n",
      "2  110635        University of California-Berkeley  2023      24.0   \n",
      "3  110644           University of California-Davis  2023      25.0   \n",
      "4  110653          University of California-Irvine  2023      35.0   \n",
      "\n",
      "   pct_admitted  admissions_yield  tuition_fees  enrollment_ft  pct_asian  \\\n",
      "0          68.0              37.0       30832.0           1327          2   \n",
      "1          92.0              12.0        6813.0          17785         10   \n",
      "2          12.0              45.0       14850.0          31548         31   \n",
      "3          42.0              17.0       15247.0          30929         28   \n",
      "4          26.0              22.0       14237.0          28884         35   \n",
      "\n",
      "   pct_black  ...  enrollment_ft_in_state  pct_enrollment_ft_in_state  \\\n",
      "0          4  ...                     NaN                         NaN   \n",
      "1          4  ...                  3581.0                        99.0   \n",
      "2          3  ...                  5271.0                        79.0   \n",
      "3          2  ...                  5206.0                        79.0   \n",
      "4          2  ...                  5222.0                        77.0   \n",
      "\n",
      "   enrollment_ft_out_of_state  pct_enrollment_ft_out_of_state  \\\n",
      "0                         NaN                             NaN   \n",
      "1                         9.0                             0.0   \n",
      "2                       678.0                            10.0   \n",
      "3                       348.0                             5.0   \n",
      "4                       525.0                             8.0   \n",
      "\n",
      "   enrollment_ft_foreign_countries  pct_enrollment_ft_foreign_countries  \\\n",
      "0                              NaN                                  NaN   \n",
      "1                             24.0                                  1.0   \n",
      "2                            692.0                                 10.0   \n",
      "3                           1020.0                                 16.0   \n",
      "4                           1045.0                                 15.0   \n",
      "\n",
      "                                       name  state       par_mean par_median  \n",
      "0                     John Brown University     AR  115449.075521      86800  \n",
      "1  California State University, Los Angeles     CA   52114.623490      36600  \n",
      "2        University Of California, Berkeley     CA  194452.191631     114700  \n",
      "3           University Of California, Davis     CA  158390.081252     109400  \n",
      "4          University Of California, Irvine     CA  121501.651414      92100  \n",
      "\n",
      "[5 rows x 23 columns]\n",
      "(40, 23)\n"
     ]
    }
   ],
   "source": [
    "df_proxy_data = pd.read_csv(\"raw_data/proxy_data.csv\")\n",
    "\n",
    "# print the first 5 rows\n",
    "print(df_proxy_data.head())\n",
    "\n",
    "# print the shape of the dataframe\n",
    "print(df_proxy_data.shape)\n",
    "\n",
    "# print the columns of the dataframe"
   ]
  },
  {
   "cell_type": "code",
   "execution_count": 15,
   "metadata": {},
   "outputs": [],
   "source": [
    "#merge df_proxy_data on 'institution' and aggregate_df on 'school.name'\n",
    "df_merged = pd.merge(df_proxy_data, aggregated_df, left_on='institution', right_on='school.name', how='left')"
   ]
  },
  {
   "cell_type": "code",
   "execution_count": 16,
   "metadata": {},
   "outputs": [
    {
     "data": {
      "text/html": [
       "<div>\n",
       "<style scoped>\n",
       "    .dataframe tbody tr th:only-of-type {\n",
       "        vertical-align: middle;\n",
       "    }\n",
       "\n",
       "    .dataframe tbody tr th {\n",
       "        vertical-align: top;\n",
       "    }\n",
       "\n",
       "    .dataframe thead th {\n",
       "        text-align: right;\n",
       "    }\n",
       "</style>\n",
       "<table border=\"1\" class=\"dataframe\">\n",
       "  <thead>\n",
       "    <tr style=\"text-align: right;\">\n",
       "      <th></th>\n",
       "      <th>unitid</th>\n",
       "      <th>institution</th>\n",
       "      <th>year</th>\n",
       "      <th>pct_pell</th>\n",
       "      <th>pct_admitted</th>\n",
       "      <th>admissions_yield</th>\n",
       "      <th>tuition_fees</th>\n",
       "      <th>enrollment_ft</th>\n",
       "      <th>pct_asian</th>\n",
       "      <th>pct_black</th>\n",
       "      <th>...</th>\n",
       "      <th>name</th>\n",
       "      <th>state</th>\n",
       "      <th>par_mean</th>\n",
       "      <th>par_median</th>\n",
       "      <th>latest.admissions.admission_rate.overall</th>\n",
       "      <th>latest.student.demographics.race_ethnicity.asian</th>\n",
       "      <th>latest.student.demographics.race_ethnicity.white</th>\n",
       "      <th>latest.student.demographics.race_ethnicity.hispanic</th>\n",
       "      <th>latest.student.demographics.race_ethnicity.black</th>\n",
       "      <th>school.name</th>\n",
       "    </tr>\n",
       "  </thead>\n",
       "  <tbody>\n",
       "    <tr>\n",
       "      <th>0</th>\n",
       "      <td>107141</td>\n",
       "      <td>John Brown University</td>\n",
       "      <td>2023</td>\n",
       "      <td>24.0</td>\n",
       "      <td>68.0</td>\n",
       "      <td>37.0</td>\n",
       "      <td>30832.0</td>\n",
       "      <td>1327</td>\n",
       "      <td>2</td>\n",
       "      <td>4</td>\n",
       "      <td>...</td>\n",
       "      <td>John Brown University</td>\n",
       "      <td>AR</td>\n",
       "      <td>115449.075521</td>\n",
       "      <td>86800</td>\n",
       "      <td>0.6764</td>\n",
       "      <td>0.0177</td>\n",
       "      <td>0.6848</td>\n",
       "      <td>0.1187</td>\n",
       "      <td>0.0113</td>\n",
       "      <td>John Brown University</td>\n",
       "    </tr>\n",
       "    <tr>\n",
       "      <th>1</th>\n",
       "      <td>110592</td>\n",
       "      <td>California State University-Los Angeles</td>\n",
       "      <td>2023</td>\n",
       "      <td>77.0</td>\n",
       "      <td>92.0</td>\n",
       "      <td>12.0</td>\n",
       "      <td>6813.0</td>\n",
       "      <td>17785</td>\n",
       "      <td>10</td>\n",
       "      <td>4</td>\n",
       "      <td>...</td>\n",
       "      <td>California State University, Los Angeles</td>\n",
       "      <td>CA</td>\n",
       "      <td>52114.623490</td>\n",
       "      <td>36600</td>\n",
       "      <td>0.9193</td>\n",
       "      <td>0.1014</td>\n",
       "      <td>0.0406</td>\n",
       "      <td>0.7716</td>\n",
       "      <td>0.0397</td>\n",
       "      <td>California State University-Los Angeles</td>\n",
       "    </tr>\n",
       "    <tr>\n",
       "      <th>2</th>\n",
       "      <td>110635</td>\n",
       "      <td>University of California-Berkeley</td>\n",
       "      <td>2023</td>\n",
       "      <td>24.0</td>\n",
       "      <td>12.0</td>\n",
       "      <td>45.0</td>\n",
       "      <td>14850.0</td>\n",
       "      <td>31548</td>\n",
       "      <td>31</td>\n",
       "      <td>3</td>\n",
       "      <td>...</td>\n",
       "      <td>University Of California, Berkeley</td>\n",
       "      <td>CA</td>\n",
       "      <td>194452.191631</td>\n",
       "      <td>114700</td>\n",
       "      <td>0.1166</td>\n",
       "      <td>0.3524</td>\n",
       "      <td>0.1952</td>\n",
       "      <td>0.2180</td>\n",
       "      <td>0.0213</td>\n",
       "      <td>University of California-Berkeley</td>\n",
       "    </tr>\n",
       "    <tr>\n",
       "      <th>3</th>\n",
       "      <td>110644</td>\n",
       "      <td>University of California-Davis</td>\n",
       "      <td>2023</td>\n",
       "      <td>25.0</td>\n",
       "      <td>42.0</td>\n",
       "      <td>17.0</td>\n",
       "      <td>15247.0</td>\n",
       "      <td>30929</td>\n",
       "      <td>28</td>\n",
       "      <td>2</td>\n",
       "      <td>...</td>\n",
       "      <td>University Of California, Davis</td>\n",
       "      <td>CA</td>\n",
       "      <td>158390.081252</td>\n",
       "      <td>109400</td>\n",
       "      <td>0.4163</td>\n",
       "      <td>0.3134</td>\n",
       "      <td>0.2054</td>\n",
       "      <td>0.2457</td>\n",
       "      <td>0.0174</td>\n",
       "      <td>University of California-Davis</td>\n",
       "    </tr>\n",
       "    <tr>\n",
       "      <th>4</th>\n",
       "      <td>110653</td>\n",
       "      <td>University of California-Irvine</td>\n",
       "      <td>2023</td>\n",
       "      <td>35.0</td>\n",
       "      <td>26.0</td>\n",
       "      <td>22.0</td>\n",
       "      <td>14237.0</td>\n",
       "      <td>28884</td>\n",
       "      <td>35</td>\n",
       "      <td>2</td>\n",
       "      <td>...</td>\n",
       "      <td>University Of California, Irvine</td>\n",
       "      <td>CA</td>\n",
       "      <td>121501.651414</td>\n",
       "      <td>92100</td>\n",
       "      <td>0.2557</td>\n",
       "      <td>0.3863</td>\n",
       "      <td>0.1289</td>\n",
       "      <td>0.2624</td>\n",
       "      <td>0.0191</td>\n",
       "      <td>University of California-Irvine</td>\n",
       "    </tr>\n",
       "    <tr>\n",
       "      <th>5</th>\n",
       "      <td>110680</td>\n",
       "      <td>University of California-San Diego</td>\n",
       "      <td>2023</td>\n",
       "      <td>40.0</td>\n",
       "      <td>25.0</td>\n",
       "      <td>22.0</td>\n",
       "      <td>15265.0</td>\n",
       "      <td>32852</td>\n",
       "      <td>31</td>\n",
       "      <td>2</td>\n",
       "      <td>...</td>\n",
       "      <td>University Of California, San Diego</td>\n",
       "      <td>CA</td>\n",
       "      <td>176468.657437</td>\n",
       "      <td>111300</td>\n",
       "      <td>0.2452</td>\n",
       "      <td>0.3432</td>\n",
       "      <td>0.1818</td>\n",
       "      <td>0.2526</td>\n",
       "      <td>0.0179</td>\n",
       "      <td>University of California-San Diego</td>\n",
       "    </tr>\n",
       "    <tr>\n",
       "      <th>6</th>\n",
       "      <td>123651</td>\n",
       "      <td>Vanguard University of Southern California</td>\n",
       "      <td>2023</td>\n",
       "      <td>50.0</td>\n",
       "      <td>65.0</td>\n",
       "      <td>23.0</td>\n",
       "      <td>39950.0</td>\n",
       "      <td>1811</td>\n",
       "      <td>5</td>\n",
       "      <td>5</td>\n",
       "      <td>...</td>\n",
       "      <td>Vanguard University Of Southern California</td>\n",
       "      <td>CA</td>\n",
       "      <td>119919.500769</td>\n",
       "      <td>83200</td>\n",
       "      <td>0.6470</td>\n",
       "      <td>0.0446</td>\n",
       "      <td>0.3063</td>\n",
       "      <td>0.4765</td>\n",
       "      <td>0.0532</td>\n",
       "      <td>Vanguard University of Southern California</td>\n",
       "    </tr>\n",
       "    <tr>\n",
       "      <th>7</th>\n",
       "      <td>130794</td>\n",
       "      <td>Yale University</td>\n",
       "      <td>2023</td>\n",
       "      <td>20.0</td>\n",
       "      <td>5.0</td>\n",
       "      <td>70.0</td>\n",
       "      <td>64700.0</td>\n",
       "      <td>6805</td>\n",
       "      <td>17</td>\n",
       "      <td>7</td>\n",
       "      <td>...</td>\n",
       "      <td>Yale University</td>\n",
       "      <td>CT</td>\n",
       "      <td>515437.751971</td>\n",
       "      <td>199700</td>\n",
       "      <td>0.0450</td>\n",
       "      <td>0.2283</td>\n",
       "      <td>0.3239</td>\n",
       "      <td>0.1571</td>\n",
       "      <td>0.0881</td>\n",
       "      <td>Yale University</td>\n",
       "    </tr>\n",
       "    <tr>\n",
       "      <th>8</th>\n",
       "      <td>132842</td>\n",
       "      <td>Albizu University-Miami</td>\n",
       "      <td>2023</td>\n",
       "      <td>67.0</td>\n",
       "      <td>100.0</td>\n",
       "      <td>59.0</td>\n",
       "      <td>13128.0</td>\n",
       "      <td>116</td>\n",
       "      <td>1</td>\n",
       "      <td>5</td>\n",
       "      <td>...</td>\n",
       "      <td>University Of Miami</td>\n",
       "      <td>FL</td>\n",
       "      <td>211065.553883</td>\n",
       "      <td>110100</td>\n",
       "      <td>1.0000</td>\n",
       "      <td>0.0000</td>\n",
       "      <td>0.0311</td>\n",
       "      <td>0.8756</td>\n",
       "      <td>0.0178</td>\n",
       "      <td>Albizu University-Miami</td>\n",
       "    </tr>\n",
       "    <tr>\n",
       "      <th>9</th>\n",
       "      <td>134097</td>\n",
       "      <td>Florida State University</td>\n",
       "      <td>2023</td>\n",
       "      <td>21.0</td>\n",
       "      <td>25.0</td>\n",
       "      <td>31.0</td>\n",
       "      <td>5656.0</td>\n",
       "      <td>29011</td>\n",
       "      <td>4</td>\n",
       "      <td>9</td>\n",
       "      <td>...</td>\n",
       "      <td>Florida State University</td>\n",
       "      <td>FL</td>\n",
       "      <td>139113.519529</td>\n",
       "      <td>100500</td>\n",
       "      <td>0.2538</td>\n",
       "      <td>0.0373</td>\n",
       "      <td>0.5821</td>\n",
       "      <td>0.2318</td>\n",
       "      <td>0.0739</td>\n",
       "      <td>Florida State University</td>\n",
       "    </tr>\n",
       "    <tr>\n",
       "      <th>10</th>\n",
       "      <td>139658</td>\n",
       "      <td>Emory University</td>\n",
       "      <td>2023</td>\n",
       "      <td>16.0</td>\n",
       "      <td>11.0</td>\n",
       "      <td>40.0</td>\n",
       "      <td>60774.0</td>\n",
       "      <td>7263</td>\n",
       "      <td>19</td>\n",
       "      <td>13</td>\n",
       "      <td>...</td>\n",
       "      <td>Emory University</td>\n",
       "      <td>GA</td>\n",
       "      <td>379558.826104</td>\n",
       "      <td>175700</td>\n",
       "      <td>0.1110</td>\n",
       "      <td>0.2518</td>\n",
       "      <td>0.3115</td>\n",
       "      <td>0.1182</td>\n",
       "      <td>0.0932</td>\n",
       "      <td>Emory University</td>\n",
       "    </tr>\n",
       "    <tr>\n",
       "      <th>11</th>\n",
       "      <td>145600</td>\n",
       "      <td>University of Illinois Chicago</td>\n",
       "      <td>2023</td>\n",
       "      <td>56.0</td>\n",
       "      <td>79.0</td>\n",
       "      <td>23.0</td>\n",
       "      <td>14338.0</td>\n",
       "      <td>19961</td>\n",
       "      <td>18</td>\n",
       "      <td>8</td>\n",
       "      <td>...</td>\n",
       "      <td>University Of Chicago</td>\n",
       "      <td>IL</td>\n",
       "      <td>284501.315884</td>\n",
       "      <td>132000</td>\n",
       "      <td>0.7850</td>\n",
       "      <td>0.2073</td>\n",
       "      <td>0.2284</td>\n",
       "      <td>0.3659</td>\n",
       "      <td>0.0795</td>\n",
       "      <td>University of Illinois Chicago</td>\n",
       "    </tr>\n",
       "    <tr>\n",
       "      <th>12</th>\n",
       "      <td>145600</td>\n",
       "      <td>University of Illinois Chicago</td>\n",
       "      <td>2023</td>\n",
       "      <td>56.0</td>\n",
       "      <td>79.0</td>\n",
       "      <td>23.0</td>\n",
       "      <td>14338.0</td>\n",
       "      <td>19961</td>\n",
       "      <td>18</td>\n",
       "      <td>8</td>\n",
       "      <td>...</td>\n",
       "      <td>University Of Chicago</td>\n",
       "      <td>IL</td>\n",
       "      <td>284501.315884</td>\n",
       "      <td>132000</td>\n",
       "      <td>0.7850</td>\n",
       "      <td>0.2073</td>\n",
       "      <td>0.2284</td>\n",
       "      <td>0.3659</td>\n",
       "      <td>0.0795</td>\n",
       "      <td>University of Illinois Chicago</td>\n",
       "    </tr>\n",
       "    <tr>\n",
       "      <th>13</th>\n",
       "      <td>145637</td>\n",
       "      <td>University of Illinois Urbana-Champaign</td>\n",
       "      <td>2023</td>\n",
       "      <td>22.0</td>\n",
       "      <td>44.0</td>\n",
       "      <td>28.0</td>\n",
       "      <td>16004.0</td>\n",
       "      <td>34468</td>\n",
       "      <td>19</td>\n",
       "      <td>5</td>\n",
       "      <td>...</td>\n",
       "      <td>University Of Illinois System</td>\n",
       "      <td>IL</td>\n",
       "      <td>142851.417309</td>\n",
       "      <td>109000</td>\n",
       "      <td>0.4369</td>\n",
       "      <td>0.2297</td>\n",
       "      <td>0.3873</td>\n",
       "      <td>0.1388</td>\n",
       "      <td>0.0560</td>\n",
       "      <td>University of Illinois Urbana-Champaign</td>\n",
       "    </tr>\n",
       "    <tr>\n",
       "      <th>14</th>\n",
       "      <td>151102</td>\n",
       "      <td>Purdue University Fort Wayne</td>\n",
       "      <td>2023</td>\n",
       "      <td>40.0</td>\n",
       "      <td>86.0</td>\n",
       "      <td>25.0</td>\n",
       "      <td>9254.0</td>\n",
       "      <td>4607</td>\n",
       "      <td>5</td>\n",
       "      <td>6</td>\n",
       "      <td>...</td>\n",
       "      <td>Purdue University</td>\n",
       "      <td>IN</td>\n",
       "      <td>140735.027042</td>\n",
       "      <td>103200</td>\n",
       "      <td>0.8566</td>\n",
       "      <td>0.0556</td>\n",
       "      <td>0.6917</td>\n",
       "      <td>0.1068</td>\n",
       "      <td>0.0723</td>\n",
       "      <td>Purdue University Fort Wayne</td>\n",
       "    </tr>\n",
       "    <tr>\n",
       "      <th>15</th>\n",
       "      <td>160038</td>\n",
       "      <td>Northwestern State University of Louisiana</td>\n",
       "      <td>2023</td>\n",
       "      <td>54.0</td>\n",
       "      <td>94.0</td>\n",
       "      <td>35.0</td>\n",
       "      <td>8864.0</td>\n",
       "      <td>4528</td>\n",
       "      <td>1</td>\n",
       "      <td>25</td>\n",
       "      <td>...</td>\n",
       "      <td>Northwestern State University</td>\n",
       "      <td>LA</td>\n",
       "      <td>69548.562649</td>\n",
       "      <td>57700</td>\n",
       "      <td>0.9374</td>\n",
       "      <td>0.0096</td>\n",
       "      <td>0.5361</td>\n",
       "      <td>0.0610</td>\n",
       "      <td>0.2967</td>\n",
       "      <td>Northwestern State University of Louisiana</td>\n",
       "    </tr>\n",
       "    <tr>\n",
       "      <th>16</th>\n",
       "      <td>162928</td>\n",
       "      <td>Johns Hopkins University</td>\n",
       "      <td>2023</td>\n",
       "      <td>22.0</td>\n",
       "      <td>8.0</td>\n",
       "      <td>48.0</td>\n",
       "      <td>63340.0</td>\n",
       "      <td>5607</td>\n",
       "      <td>16</td>\n",
       "      <td>7</td>\n",
       "      <td>...</td>\n",
       "      <td>Johns Hopkins University</td>\n",
       "      <td>MD</td>\n",
       "      <td>285199.682883</td>\n",
       "      <td>142300</td>\n",
       "      <td>0.0756</td>\n",
       "      <td>0.2663</td>\n",
       "      <td>0.2001</td>\n",
       "      <td>0.2071</td>\n",
       "      <td>0.0949</td>\n",
       "      <td>Johns Hopkins University</td>\n",
       "    </tr>\n",
       "    <tr>\n",
       "      <th>17</th>\n",
       "      <td>164988</td>\n",
       "      <td>Boston University</td>\n",
       "      <td>2023</td>\n",
       "      <td>19.0</td>\n",
       "      <td>11.0</td>\n",
       "      <td>36.0</td>\n",
       "      <td>65168.0</td>\n",
       "      <td>17899</td>\n",
       "      <td>15</td>\n",
       "      <td>5</td>\n",
       "      <td>...</td>\n",
       "      <td>Boston University</td>\n",
       "      <td>MA</td>\n",
       "      <td>262524.433528</td>\n",
       "      <td>126800</td>\n",
       "      <td>0.1085</td>\n",
       "      <td>0.1988</td>\n",
       "      <td>0.3285</td>\n",
       "      <td>0.1131</td>\n",
       "      <td>0.0596</td>\n",
       "      <td>Boston University</td>\n",
       "    </tr>\n",
       "    <tr>\n",
       "      <th>18</th>\n",
       "      <td>166027</td>\n",
       "      <td>Harvard University</td>\n",
       "      <td>2023</td>\n",
       "      <td>21.0</td>\n",
       "      <td>3.0</td>\n",
       "      <td>84.0</td>\n",
       "      <td>59076.0</td>\n",
       "      <td>7316</td>\n",
       "      <td>15</td>\n",
       "      <td>6</td>\n",
       "      <td>...</td>\n",
       "      <td>Harvard University</td>\n",
       "      <td>MA</td>\n",
       "      <td>504991.522473</td>\n",
       "      <td>174000</td>\n",
       "      <td>0.0345</td>\n",
       "      <td>0.2245</td>\n",
       "      <td>0.3278</td>\n",
       "      <td>0.1175</td>\n",
       "      <td>0.0928</td>\n",
       "      <td>Harvard University</td>\n",
       "    </tr>\n",
       "    <tr>\n",
       "      <th>19</th>\n",
       "      <td>166683</td>\n",
       "      <td>Massachusetts Institute of Technology</td>\n",
       "      <td>2023</td>\n",
       "      <td>18.0</td>\n",
       "      <td>5.0</td>\n",
       "      <td>86.0</td>\n",
       "      <td>60156.0</td>\n",
       "      <td>4543</td>\n",
       "      <td>21</td>\n",
       "      <td>5</td>\n",
       "      <td>...</td>\n",
       "      <td>Massachusetts Institute Of Technology</td>\n",
       "      <td>MA</td>\n",
       "      <td>242345.754876</td>\n",
       "      <td>141000</td>\n",
       "      <td>0.0474</td>\n",
       "      <td>0.3461</td>\n",
       "      <td>0.2102</td>\n",
       "      <td>0.1453</td>\n",
       "      <td>0.0866</td>\n",
       "      <td>Massachusetts Institute of Technology</td>\n",
       "    </tr>\n",
       "    <tr>\n",
       "      <th>20</th>\n",
       "      <td>168148</td>\n",
       "      <td>Tufts University</td>\n",
       "      <td>2023</td>\n",
       "      <td>12.0</td>\n",
       "      <td>10.0</td>\n",
       "      <td>50.0</td>\n",
       "      <td>67844.0</td>\n",
       "      <td>6685</td>\n",
       "      <td>16</td>\n",
       "      <td>6</td>\n",
       "      <td>...</td>\n",
       "      <td>Tufts University</td>\n",
       "      <td>MA</td>\n",
       "      <td>370105.719661</td>\n",
       "      <td>187900</td>\n",
       "      <td>0.1013</td>\n",
       "      <td>0.1664</td>\n",
       "      <td>0.4199</td>\n",
       "      <td>0.1014</td>\n",
       "      <td>0.0655</td>\n",
       "      <td>Tufts University</td>\n",
       "    </tr>\n",
       "    <tr>\n",
       "      <th>21</th>\n",
       "      <td>170976</td>\n",
       "      <td>University of Michigan-Ann Arbor</td>\n",
       "      <td>2023</td>\n",
       "      <td>18.0</td>\n",
       "      <td>18.0</td>\n",
       "      <td>47.0</td>\n",
       "      <td>17228.0</td>\n",
       "      <td>32345</td>\n",
       "      <td>16</td>\n",
       "      <td>5</td>\n",
       "      <td>...</td>\n",
       "      <td>University Of Michigan - Ann Arbor</td>\n",
       "      <td>MI</td>\n",
       "      <td>267630.774414</td>\n",
       "      <td>156100</td>\n",
       "      <td>0.1794</td>\n",
       "      <td>0.1863</td>\n",
       "      <td>0.4884</td>\n",
       "      <td>0.1003</td>\n",
       "      <td>0.0454</td>\n",
       "      <td>University of Michigan-Ann Arbor</td>\n",
       "    </tr>\n",
       "    <tr>\n",
       "      <th>22</th>\n",
       "      <td>171100</td>\n",
       "      <td>Michigan State University</td>\n",
       "      <td>2023</td>\n",
       "      <td>18.0</td>\n",
       "      <td>84.0</td>\n",
       "      <td>19.0</td>\n",
       "      <td>15988.0</td>\n",
       "      <td>37492</td>\n",
       "      <td>8</td>\n",
       "      <td>6</td>\n",
       "      <td>...</td>\n",
       "      <td>Michigan State University</td>\n",
       "      <td>MI</td>\n",
       "      <td>157147.031029</td>\n",
       "      <td>120400</td>\n",
       "      <td>0.8392</td>\n",
       "      <td>0.0798</td>\n",
       "      <td>0.6716</td>\n",
       "      <td>0.0624</td>\n",
       "      <td>0.0651</td>\n",
       "      <td>Michigan State University</td>\n",
       "    </tr>\n",
       "    <tr>\n",
       "      <th>23</th>\n",
       "      <td>174066</td>\n",
       "      <td>University of Minnesota-Twin Cities</td>\n",
       "      <td>2023</td>\n",
       "      <td>22.0</td>\n",
       "      <td>77.0</td>\n",
       "      <td>22.0</td>\n",
       "      <td>16488.0</td>\n",
       "      <td>29124</td>\n",
       "      <td>11</td>\n",
       "      <td>7</td>\n",
       "      <td>...</td>\n",
       "      <td>University Of Minnesota System</td>\n",
       "      <td>MN</td>\n",
       "      <td>127788.931202</td>\n",
       "      <td>101600</td>\n",
       "      <td>0.7703</td>\n",
       "      <td>0.1312</td>\n",
       "      <td>0.5921</td>\n",
       "      <td>0.0599</td>\n",
       "      <td>0.0891</td>\n",
       "      <td>University of Minnesota-Twin Cities</td>\n",
       "    </tr>\n",
       "    <tr>\n",
       "      <th>24</th>\n",
       "      <td>179867</td>\n",
       "      <td>Washington University in St Louis</td>\n",
       "      <td>2023</td>\n",
       "      <td>20.0</td>\n",
       "      <td>12.0</td>\n",
       "      <td>47.0</td>\n",
       "      <td>62982.0</td>\n",
       "      <td>7576</td>\n",
       "      <td>14</td>\n",
       "      <td>7</td>\n",
       "      <td>...</td>\n",
       "      <td>Washington University In St. Louis</td>\n",
       "      <td>MO</td>\n",
       "      <td>370117.295782</td>\n",
       "      <td>180200</td>\n",
       "      <td>0.1196</td>\n",
       "      <td>0.2115</td>\n",
       "      <td>0.4147</td>\n",
       "      <td>0.1256</td>\n",
       "      <td>0.0891</td>\n",
       "      <td>Washington University in St Louis</td>\n",
       "    </tr>\n",
       "    <tr>\n",
       "      <th>25</th>\n",
       "      <td>186131</td>\n",
       "      <td>Princeton University</td>\n",
       "      <td>2023</td>\n",
       "      <td>19.0</td>\n",
       "      <td>4.0</td>\n",
       "      <td>77.0</td>\n",
       "      <td>59710.0</td>\n",
       "      <td>5598</td>\n",
       "      <td>19</td>\n",
       "      <td>7</td>\n",
       "      <td>...</td>\n",
       "      <td>Princeton University</td>\n",
       "      <td>NJ</td>\n",
       "      <td>519426.918002</td>\n",
       "      <td>218100</td>\n",
       "      <td>0.0450</td>\n",
       "      <td>0.2371</td>\n",
       "      <td>0.3597</td>\n",
       "      <td>0.0980</td>\n",
       "      <td>0.0859</td>\n",
       "      <td>Princeton University</td>\n",
       "    </tr>\n",
       "    <tr>\n",
       "      <th>26</th>\n",
       "      <td>190150</td>\n",
       "      <td>Columbia University in the City of New York</td>\n",
       "      <td>2023</td>\n",
       "      <td>22.0</td>\n",
       "      <td>4.0</td>\n",
       "      <td>63.0</td>\n",
       "      <td>69045.0</td>\n",
       "      <td>8428</td>\n",
       "      <td>13</td>\n",
       "      <td>5</td>\n",
       "      <td>...</td>\n",
       "      <td>Columbia University In The City Of New York</td>\n",
       "      <td>NY</td>\n",
       "      <td>372277.272176</td>\n",
       "      <td>169600</td>\n",
       "      <td>0.0423</td>\n",
       "      <td>0.1842</td>\n",
       "      <td>0.2987</td>\n",
       "      <td>0.1625</td>\n",
       "      <td>0.0776</td>\n",
       "      <td>Columbia University in the City of New York</td>\n",
       "    </tr>\n",
       "    <tr>\n",
       "      <th>27</th>\n",
       "      <td>196176</td>\n",
       "      <td>State University of New York at New Paltz</td>\n",
       "      <td>2023</td>\n",
       "      <td>34.0</td>\n",
       "      <td>59.0</td>\n",
       "      <td>12.0</td>\n",
       "      <td>8524.0</td>\n",
       "      <td>5564</td>\n",
       "      <td>5</td>\n",
       "      <td>7</td>\n",
       "      <td>...</td>\n",
       "      <td>State University Of New York At New Paltz</td>\n",
       "      <td>NY</td>\n",
       "      <td>103260.959929</td>\n",
       "      <td>91900</td>\n",
       "      <td>0.5870</td>\n",
       "      <td>0.0443</td>\n",
       "      <td>0.5860</td>\n",
       "      <td>0.2300</td>\n",
       "      <td>0.0734</td>\n",
       "      <td>State University of New York at New Paltz</td>\n",
       "    </tr>\n",
       "    <tr>\n",
       "      <th>28</th>\n",
       "      <td>198419</td>\n",
       "      <td>Duke University</td>\n",
       "      <td>2023</td>\n",
       "      <td>11.0</td>\n",
       "      <td>7.0</td>\n",
       "      <td>55.0</td>\n",
       "      <td>65805.0</td>\n",
       "      <td>6435</td>\n",
       "      <td>14</td>\n",
       "      <td>7</td>\n",
       "      <td>...</td>\n",
       "      <td>Duke University</td>\n",
       "      <td>NC</td>\n",
       "      <td>517631.586896</td>\n",
       "      <td>196000</td>\n",
       "      <td>0.0678</td>\n",
       "      <td>0.2317</td>\n",
       "      <td>0.3611</td>\n",
       "      <td>0.1077</td>\n",
       "      <td>0.0849</td>\n",
       "      <td>Duke University</td>\n",
       "    </tr>\n",
       "    <tr>\n",
       "      <th>29</th>\n",
       "      <td>199120</td>\n",
       "      <td>University of North Carolina at Chapel Hill</td>\n",
       "      <td>2023</td>\n",
       "      <td>17.0</td>\n",
       "      <td>19.0</td>\n",
       "      <td>43.0</td>\n",
       "      <td>8989.0</td>\n",
       "      <td>19840</td>\n",
       "      <td>13</td>\n",
       "      <td>9</td>\n",
       "      <td>...</td>\n",
       "      <td>University Of North Carolina - Chapel Hill</td>\n",
       "      <td>NC</td>\n",
       "      <td>221587.976106</td>\n",
       "      <td>129500</td>\n",
       "      <td>0.1874</td>\n",
       "      <td>0.1483</td>\n",
       "      <td>0.5407</td>\n",
       "      <td>0.0979</td>\n",
       "      <td>0.0818</td>\n",
       "      <td>University of North Carolina at Chapel Hill</td>\n",
       "    </tr>\n",
       "    <tr>\n",
       "      <th>30</th>\n",
       "      <td>199193</td>\n",
       "      <td>North Carolina State University at Raleigh</td>\n",
       "      <td>2023</td>\n",
       "      <td>18.0</td>\n",
       "      <td>40.0</td>\n",
       "      <td>36.0</td>\n",
       "      <td>8895.0</td>\n",
       "      <td>24925</td>\n",
       "      <td>8</td>\n",
       "      <td>6</td>\n",
       "      <td>...</td>\n",
       "      <td>North Carolina State University</td>\n",
       "      <td>NC</td>\n",
       "      <td>154271.343733</td>\n",
       "      <td>111400</td>\n",
       "      <td>0.3985</td>\n",
       "      <td>0.0958</td>\n",
       "      <td>0.6746</td>\n",
       "      <td>0.0851</td>\n",
       "      <td>0.0579</td>\n",
       "      <td>North Carolina State University at Raleigh</td>\n",
       "    </tr>\n",
       "    <tr>\n",
       "      <th>31</th>\n",
       "      <td>201645</td>\n",
       "      <td>Case Western Reserve University</td>\n",
       "      <td>2023</td>\n",
       "      <td>17.0</td>\n",
       "      <td>29.0</td>\n",
       "      <td>14.0</td>\n",
       "      <td>64671.0</td>\n",
       "      <td>6093</td>\n",
       "      <td>20</td>\n",
       "      <td>7</td>\n",
       "      <td>...</td>\n",
       "      <td>Case Western Reserve University</td>\n",
       "      <td>OH</td>\n",
       "      <td>166132.025082</td>\n",
       "      <td>118200</td>\n",
       "      <td>0.2868</td>\n",
       "      <td>0.2734</td>\n",
       "      <td>0.3461</td>\n",
       "      <td>0.1180</td>\n",
       "      <td>0.0640</td>\n",
       "      <td>Case Western Reserve University</td>\n",
       "    </tr>\n",
       "    <tr>\n",
       "      <th>32</th>\n",
       "      <td>209490</td>\n",
       "      <td>Oregon Health &amp; Science University</td>\n",
       "      <td>2023</td>\n",
       "      <td>NaN</td>\n",
       "      <td>NaN</td>\n",
       "      <td>NaN</td>\n",
       "      <td>NaN</td>\n",
       "      <td>494</td>\n",
       "      <td>13</td>\n",
       "      <td>3</td>\n",
       "      <td>...</td>\n",
       "      <td>Oregon State University</td>\n",
       "      <td>OR</td>\n",
       "      <td>134287.369018</td>\n",
       "      <td>100600</td>\n",
       "      <td>NaN</td>\n",
       "      <td>0.0635</td>\n",
       "      <td>0.6231</td>\n",
       "      <td>0.2132</td>\n",
       "      <td>0.0254</td>\n",
       "      <td>Oregon Health &amp; Science University</td>\n",
       "    </tr>\n",
       "    <tr>\n",
       "      <th>33</th>\n",
       "      <td>211024</td>\n",
       "      <td>Clarks Summit University</td>\n",
       "      <td>2023</td>\n",
       "      <td>44.0</td>\n",
       "      <td>90.0</td>\n",
       "      <td>36.0</td>\n",
       "      <td>32400.0</td>\n",
       "      <td>264</td>\n",
       "      <td>3</td>\n",
       "      <td>6</td>\n",
       "      <td>...</td>\n",
       "      <td>Clark University</td>\n",
       "      <td>MA</td>\n",
       "      <td>176605.044171</td>\n",
       "      <td>103000</td>\n",
       "      <td>0.9010</td>\n",
       "      <td>0.0181</td>\n",
       "      <td>0.8006</td>\n",
       "      <td>0.0816</td>\n",
       "      <td>0.0514</td>\n",
       "      <td>Clarks Summit University</td>\n",
       "    </tr>\n",
       "    <tr>\n",
       "      <th>34</th>\n",
       "      <td>214625</td>\n",
       "      <td>Pennsylvania State University-Penn State New K...</td>\n",
       "      <td>2023</td>\n",
       "      <td>36.0</td>\n",
       "      <td>93.0</td>\n",
       "      <td>21.0</td>\n",
       "      <td>14380.0</td>\n",
       "      <td>387</td>\n",
       "      <td>2</td>\n",
       "      <td>6</td>\n",
       "      <td>...</td>\n",
       "      <td>Pennsylvania State University</td>\n",
       "      <td>PA</td>\n",
       "      <td>123356.386532</td>\n",
       "      <td>95400</td>\n",
       "      <td>0.9331</td>\n",
       "      <td>0.0189</td>\n",
       "      <td>0.7943</td>\n",
       "      <td>0.0615</td>\n",
       "      <td>0.0591</td>\n",
       "      <td>Pennsylvania State University-Penn State New K...</td>\n",
       "    </tr>\n",
       "    <tr>\n",
       "      <th>35</th>\n",
       "      <td>215293</td>\n",
       "      <td>University of Pittsburgh-Pittsburgh Campus</td>\n",
       "      <td>2023</td>\n",
       "      <td>16.0</td>\n",
       "      <td>50.0</td>\n",
       "      <td>16.0</td>\n",
       "      <td>21524.0</td>\n",
       "      <td>19618</td>\n",
       "      <td>12</td>\n",
       "      <td>6</td>\n",
       "      <td>...</td>\n",
       "      <td>University Of Pittsburgh System</td>\n",
       "      <td>PA</td>\n",
       "      <td>115736.892984</td>\n",
       "      <td>91200</td>\n",
       "      <td>0.4970</td>\n",
       "      <td>0.1489</td>\n",
       "      <td>0.6104</td>\n",
       "      <td>0.0675</td>\n",
       "      <td>0.0546</td>\n",
       "      <td>University of Pittsburgh-Pittsburgh Campus</td>\n",
       "    </tr>\n",
       "    <tr>\n",
       "      <th>36</th>\n",
       "      <td>221999</td>\n",
       "      <td>Vanderbilt University</td>\n",
       "      <td>2023</td>\n",
       "      <td>22.0</td>\n",
       "      <td>6.0</td>\n",
       "      <td>57.0</td>\n",
       "      <td>63946.0</td>\n",
       "      <td>7087</td>\n",
       "      <td>13</td>\n",
       "      <td>9</td>\n",
       "      <td>...</td>\n",
       "      <td>Vanderbilt University</td>\n",
       "      <td>TN</td>\n",
       "      <td>535431.061571</td>\n",
       "      <td>197900</td>\n",
       "      <td>0.0628</td>\n",
       "      <td>0.1856</td>\n",
       "      <td>0.3888</td>\n",
       "      <td>0.1196</td>\n",
       "      <td>0.1043</td>\n",
       "      <td>Vanderbilt University</td>\n",
       "    </tr>\n",
       "    <tr>\n",
       "      <th>37</th>\n",
       "      <td>228778</td>\n",
       "      <td>The University of Texas at Austin</td>\n",
       "      <td>2023</td>\n",
       "      <td>27.0</td>\n",
       "      <td>29.0</td>\n",
       "      <td>49.0</td>\n",
       "      <td>11678.0</td>\n",
       "      <td>39787</td>\n",
       "      <td>22</td>\n",
       "      <td>5</td>\n",
       "      <td>...</td>\n",
       "      <td>University Of Texas At Austin</td>\n",
       "      <td>TX</td>\n",
       "      <td>195837.489862</td>\n",
       "      <td>125100</td>\n",
       "      <td>0.2912</td>\n",
       "      <td>0.2537</td>\n",
       "      <td>0.3157</td>\n",
       "      <td>0.2828</td>\n",
       "      <td>0.0467</td>\n",
       "      <td>The University of Texas at Austin</td>\n",
       "    </tr>\n",
       "    <tr>\n",
       "      <th>38</th>\n",
       "      <td>237011</td>\n",
       "      <td>Western Washington University</td>\n",
       "      <td>2023</td>\n",
       "      <td>21.0</td>\n",
       "      <td>91.0</td>\n",
       "      <td>24.0</td>\n",
       "      <td>9286.0</td>\n",
       "      <td>12327</td>\n",
       "      <td>6</td>\n",
       "      <td>2</td>\n",
       "      <td>...</td>\n",
       "      <td>Western Washington University</td>\n",
       "      <td>WA</td>\n",
       "      <td>132537.492257</td>\n",
       "      <td>108100</td>\n",
       "      <td>0.9131</td>\n",
       "      <td>0.0580</td>\n",
       "      <td>0.6939</td>\n",
       "      <td>0.1098</td>\n",
       "      <td>0.0198</td>\n",
       "      <td>Western Washington University</td>\n",
       "    </tr>\n",
       "    <tr>\n",
       "      <th>39</th>\n",
       "      <td>240444</td>\n",
       "      <td>University of Wisconsin-Madison</td>\n",
       "      <td>2023</td>\n",
       "      <td>17.0</td>\n",
       "      <td>43.0</td>\n",
       "      <td>29.0</td>\n",
       "      <td>11205.0</td>\n",
       "      <td>34278</td>\n",
       "      <td>9</td>\n",
       "      <td>3</td>\n",
       "      <td>...</td>\n",
       "      <td>University Of Wisconsin System</td>\n",
       "      <td>WI</td>\n",
       "      <td>125883.243735</td>\n",
       "      <td>96100</td>\n",
       "      <td>0.4335</td>\n",
       "      <td>0.1051</td>\n",
       "      <td>0.6035</td>\n",
       "      <td>0.0831</td>\n",
       "      <td>0.0250</td>\n",
       "      <td>University of Wisconsin-Madison</td>\n",
       "    </tr>\n",
       "    <tr>\n",
       "      <th>40</th>\n",
       "      <td>243744</td>\n",
       "      <td>Stanford University</td>\n",
       "      <td>2023</td>\n",
       "      <td>20.0</td>\n",
       "      <td>4.0</td>\n",
       "      <td>81.0</td>\n",
       "      <td>62484.0</td>\n",
       "      <td>7841</td>\n",
       "      <td>22</td>\n",
       "      <td>6</td>\n",
       "      <td>...</td>\n",
       "      <td>Stanford University</td>\n",
       "      <td>CA</td>\n",
       "      <td>472210.529162</td>\n",
       "      <td>172600</td>\n",
       "      <td>0.0391</td>\n",
       "      <td>0.2747</td>\n",
       "      <td>0.2416</td>\n",
       "      <td>0.1766</td>\n",
       "      <td>0.0791</td>\n",
       "      <td>Stanford University</td>\n",
       "    </tr>\n",
       "  </tbody>\n",
       "</table>\n",
       "<p>41 rows × 29 columns</p>\n",
       "</div>"
      ],
      "text/plain": [
       "    unitid                                        institution  year  pct_pell  \\\n",
       "0   107141                              John Brown University  2023      24.0   \n",
       "1   110592            California State University-Los Angeles  2023      77.0   \n",
       "2   110635                  University of California-Berkeley  2023      24.0   \n",
       "3   110644                     University of California-Davis  2023      25.0   \n",
       "4   110653                    University of California-Irvine  2023      35.0   \n",
       "5   110680                 University of California-San Diego  2023      40.0   \n",
       "6   123651         Vanguard University of Southern California  2023      50.0   \n",
       "7   130794                                    Yale University  2023      20.0   \n",
       "8   132842                            Albizu University-Miami  2023      67.0   \n",
       "9   134097                           Florida State University  2023      21.0   \n",
       "10  139658                                   Emory University  2023      16.0   \n",
       "11  145600                     University of Illinois Chicago  2023      56.0   \n",
       "12  145600                     University of Illinois Chicago  2023      56.0   \n",
       "13  145637            University of Illinois Urbana-Champaign  2023      22.0   \n",
       "14  151102                       Purdue University Fort Wayne  2023      40.0   \n",
       "15  160038         Northwestern State University of Louisiana  2023      54.0   \n",
       "16  162928                           Johns Hopkins University  2023      22.0   \n",
       "17  164988                                  Boston University  2023      19.0   \n",
       "18  166027                                 Harvard University  2023      21.0   \n",
       "19  166683              Massachusetts Institute of Technology  2023      18.0   \n",
       "20  168148                                   Tufts University  2023      12.0   \n",
       "21  170976                   University of Michigan-Ann Arbor  2023      18.0   \n",
       "22  171100                          Michigan State University  2023      18.0   \n",
       "23  174066                University of Minnesota-Twin Cities  2023      22.0   \n",
       "24  179867                  Washington University in St Louis  2023      20.0   \n",
       "25  186131                               Princeton University  2023      19.0   \n",
       "26  190150        Columbia University in the City of New York  2023      22.0   \n",
       "27  196176          State University of New York at New Paltz  2023      34.0   \n",
       "28  198419                                    Duke University  2023      11.0   \n",
       "29  199120        University of North Carolina at Chapel Hill  2023      17.0   \n",
       "30  199193         North Carolina State University at Raleigh  2023      18.0   \n",
       "31  201645                    Case Western Reserve University  2023      17.0   \n",
       "32  209490                 Oregon Health & Science University  2023       NaN   \n",
       "33  211024                           Clarks Summit University  2023      44.0   \n",
       "34  214625  Pennsylvania State University-Penn State New K...  2023      36.0   \n",
       "35  215293         University of Pittsburgh-Pittsburgh Campus  2023      16.0   \n",
       "36  221999                              Vanderbilt University  2023      22.0   \n",
       "37  228778                  The University of Texas at Austin  2023      27.0   \n",
       "38  237011                      Western Washington University  2023      21.0   \n",
       "39  240444                    University of Wisconsin-Madison  2023      17.0   \n",
       "40  243744                                Stanford University  2023      20.0   \n",
       "\n",
       "    pct_admitted  admissions_yield  tuition_fees  enrollment_ft  pct_asian  \\\n",
       "0           68.0              37.0       30832.0           1327          2   \n",
       "1           92.0              12.0        6813.0          17785         10   \n",
       "2           12.0              45.0       14850.0          31548         31   \n",
       "3           42.0              17.0       15247.0          30929         28   \n",
       "4           26.0              22.0       14237.0          28884         35   \n",
       "5           25.0              22.0       15265.0          32852         31   \n",
       "6           65.0              23.0       39950.0           1811          5   \n",
       "7            5.0              70.0       64700.0           6805         17   \n",
       "8          100.0              59.0       13128.0            116          1   \n",
       "9           25.0              31.0        5656.0          29011          4   \n",
       "10          11.0              40.0       60774.0           7263         19   \n",
       "11          79.0              23.0       14338.0          19961         18   \n",
       "12          79.0              23.0       14338.0          19961         18   \n",
       "13          44.0              28.0       16004.0          34468         19   \n",
       "14          86.0              25.0        9254.0           4607          5   \n",
       "15          94.0              35.0        8864.0           4528          1   \n",
       "16           8.0              48.0       63340.0           5607         16   \n",
       "17          11.0              36.0       65168.0          17899         15   \n",
       "18           3.0              84.0       59076.0           7316         15   \n",
       "19           5.0              86.0       60156.0           4543         21   \n",
       "20          10.0              50.0       67844.0           6685         16   \n",
       "21          18.0              47.0       17228.0          32345         16   \n",
       "22          84.0              19.0       15988.0          37492          8   \n",
       "23          77.0              22.0       16488.0          29124         11   \n",
       "24          12.0              47.0       62982.0           7576         14   \n",
       "25           4.0              77.0       59710.0           5598         19   \n",
       "26           4.0              63.0       69045.0           8428         13   \n",
       "27          59.0              12.0        8524.0           5564          5   \n",
       "28           7.0              55.0       65805.0           6435         14   \n",
       "29          19.0              43.0        8989.0          19840         13   \n",
       "30          40.0              36.0        8895.0          24925          8   \n",
       "31          29.0              14.0       64671.0           6093         20   \n",
       "32           NaN               NaN           NaN            494         13   \n",
       "33          90.0              36.0       32400.0            264          3   \n",
       "34          93.0              21.0       14380.0            387          2   \n",
       "35          50.0              16.0       21524.0          19618         12   \n",
       "36           6.0              57.0       63946.0           7087         13   \n",
       "37          29.0              49.0       11678.0          39787         22   \n",
       "38          91.0              24.0        9286.0          12327          6   \n",
       "39          43.0              29.0       11205.0          34278          9   \n",
       "40           4.0              81.0       62484.0           7841         22   \n",
       "\n",
       "    pct_black  ...                                         name  state  \\\n",
       "0           4  ...                        John Brown University     AR   \n",
       "1           4  ...     California State University, Los Angeles     CA   \n",
       "2           3  ...           University Of California, Berkeley     CA   \n",
       "3           2  ...              University Of California, Davis     CA   \n",
       "4           2  ...             University Of California, Irvine     CA   \n",
       "5           2  ...          University Of California, San Diego     CA   \n",
       "6           5  ...   Vanguard University Of Southern California     CA   \n",
       "7           7  ...                              Yale University     CT   \n",
       "8           5  ...                          University Of Miami     FL   \n",
       "9           9  ...                     Florida State University     FL   \n",
       "10         13  ...                             Emory University     GA   \n",
       "11          8  ...                       University Of Chicago      IL   \n",
       "12          8  ...                       University Of Chicago      IL   \n",
       "13          5  ...                University Of Illinois System     IL   \n",
       "14          6  ...                            Purdue University     IN   \n",
       "15         25  ...                Northwestern State University     LA   \n",
       "16          7  ...                     Johns Hopkins University     MD   \n",
       "17          5  ...                            Boston University     MA   \n",
       "18          6  ...                           Harvard University     MA   \n",
       "19          5  ...        Massachusetts Institute Of Technology     MA   \n",
       "20          6  ...                             Tufts University     MA   \n",
       "21          5  ...           University Of Michigan - Ann Arbor     MI   \n",
       "22          6  ...                    Michigan State University     MI   \n",
       "23          7  ...               University Of Minnesota System     MN   \n",
       "24          7  ...           Washington University In St. Louis     MO   \n",
       "25          7  ...                         Princeton University     NJ   \n",
       "26          5  ...  Columbia University In The City Of New York     NY   \n",
       "27          7  ...    State University Of New York At New Paltz     NY   \n",
       "28          7  ...                              Duke University     NC   \n",
       "29          9  ...   University Of North Carolina - Chapel Hill     NC   \n",
       "30          6  ...              North Carolina State University     NC   \n",
       "31          7  ...              Case Western Reserve University     OH   \n",
       "32          3  ...                      Oregon State University     OR   \n",
       "33          6  ...                             Clark University     MA   \n",
       "34          6  ...               Pennsylvania State University      PA   \n",
       "35          6  ...              University Of Pittsburgh System     PA   \n",
       "36          9  ...                        Vanderbilt University     TN   \n",
       "37          5  ...                University Of Texas At Austin     TX   \n",
       "38          2  ...                Western Washington University     WA   \n",
       "39          3  ...               University Of Wisconsin System     WI   \n",
       "40          6  ...                          Stanford University     CA   \n",
       "\n",
       "         par_mean  par_median  latest.admissions.admission_rate.overall  \\\n",
       "0   115449.075521       86800                                    0.6764   \n",
       "1    52114.623490       36600                                    0.9193   \n",
       "2   194452.191631      114700                                    0.1166   \n",
       "3   158390.081252      109400                                    0.4163   \n",
       "4   121501.651414       92100                                    0.2557   \n",
       "5   176468.657437      111300                                    0.2452   \n",
       "6   119919.500769       83200                                    0.6470   \n",
       "7   515437.751971      199700                                    0.0450   \n",
       "8   211065.553883      110100                                    1.0000   \n",
       "9   139113.519529      100500                                    0.2538   \n",
       "10  379558.826104      175700                                    0.1110   \n",
       "11  284501.315884      132000                                    0.7850   \n",
       "12  284501.315884      132000                                    0.7850   \n",
       "13  142851.417309      109000                                    0.4369   \n",
       "14  140735.027042      103200                                    0.8566   \n",
       "15   69548.562649       57700                                    0.9374   \n",
       "16  285199.682883      142300                                    0.0756   \n",
       "17  262524.433528      126800                                    0.1085   \n",
       "18  504991.522473      174000                                    0.0345   \n",
       "19  242345.754876      141000                                    0.0474   \n",
       "20  370105.719661      187900                                    0.1013   \n",
       "21  267630.774414      156100                                    0.1794   \n",
       "22  157147.031029      120400                                    0.8392   \n",
       "23  127788.931202      101600                                    0.7703   \n",
       "24  370117.295782      180200                                    0.1196   \n",
       "25  519426.918002      218100                                    0.0450   \n",
       "26  372277.272176      169600                                    0.0423   \n",
       "27  103260.959929       91900                                    0.5870   \n",
       "28  517631.586896      196000                                    0.0678   \n",
       "29  221587.976106      129500                                    0.1874   \n",
       "30  154271.343733      111400                                    0.3985   \n",
       "31  166132.025082      118200                                    0.2868   \n",
       "32  134287.369018      100600                                       NaN   \n",
       "33  176605.044171      103000                                    0.9010   \n",
       "34  123356.386532       95400                                    0.9331   \n",
       "35  115736.892984       91200                                    0.4970   \n",
       "36  535431.061571      197900                                    0.0628   \n",
       "37  195837.489862      125100                                    0.2912   \n",
       "38  132537.492257      108100                                    0.9131   \n",
       "39  125883.243735       96100                                    0.4335   \n",
       "40  472210.529162      172600                                    0.0391   \n",
       "\n",
       "    latest.student.demographics.race_ethnicity.asian  \\\n",
       "0                                             0.0177   \n",
       "1                                             0.1014   \n",
       "2                                             0.3524   \n",
       "3                                             0.3134   \n",
       "4                                             0.3863   \n",
       "5                                             0.3432   \n",
       "6                                             0.0446   \n",
       "7                                             0.2283   \n",
       "8                                             0.0000   \n",
       "9                                             0.0373   \n",
       "10                                            0.2518   \n",
       "11                                            0.2073   \n",
       "12                                            0.2073   \n",
       "13                                            0.2297   \n",
       "14                                            0.0556   \n",
       "15                                            0.0096   \n",
       "16                                            0.2663   \n",
       "17                                            0.1988   \n",
       "18                                            0.2245   \n",
       "19                                            0.3461   \n",
       "20                                            0.1664   \n",
       "21                                            0.1863   \n",
       "22                                            0.0798   \n",
       "23                                            0.1312   \n",
       "24                                            0.2115   \n",
       "25                                            0.2371   \n",
       "26                                            0.1842   \n",
       "27                                            0.0443   \n",
       "28                                            0.2317   \n",
       "29                                            0.1483   \n",
       "30                                            0.0958   \n",
       "31                                            0.2734   \n",
       "32                                            0.0635   \n",
       "33                                            0.0181   \n",
       "34                                            0.0189   \n",
       "35                                            0.1489   \n",
       "36                                            0.1856   \n",
       "37                                            0.2537   \n",
       "38                                            0.0580   \n",
       "39                                            0.1051   \n",
       "40                                            0.2747   \n",
       "\n",
       "    latest.student.demographics.race_ethnicity.white  \\\n",
       "0                                             0.6848   \n",
       "1                                             0.0406   \n",
       "2                                             0.1952   \n",
       "3                                             0.2054   \n",
       "4                                             0.1289   \n",
       "5                                             0.1818   \n",
       "6                                             0.3063   \n",
       "7                                             0.3239   \n",
       "8                                             0.0311   \n",
       "9                                             0.5821   \n",
       "10                                            0.3115   \n",
       "11                                            0.2284   \n",
       "12                                            0.2284   \n",
       "13                                            0.3873   \n",
       "14                                            0.6917   \n",
       "15                                            0.5361   \n",
       "16                                            0.2001   \n",
       "17                                            0.3285   \n",
       "18                                            0.3278   \n",
       "19                                            0.2102   \n",
       "20                                            0.4199   \n",
       "21                                            0.4884   \n",
       "22                                            0.6716   \n",
       "23                                            0.5921   \n",
       "24                                            0.4147   \n",
       "25                                            0.3597   \n",
       "26                                            0.2987   \n",
       "27                                            0.5860   \n",
       "28                                            0.3611   \n",
       "29                                            0.5407   \n",
       "30                                            0.6746   \n",
       "31                                            0.3461   \n",
       "32                                            0.6231   \n",
       "33                                            0.8006   \n",
       "34                                            0.7943   \n",
       "35                                            0.6104   \n",
       "36                                            0.3888   \n",
       "37                                            0.3157   \n",
       "38                                            0.6939   \n",
       "39                                            0.6035   \n",
       "40                                            0.2416   \n",
       "\n",
       "    latest.student.demographics.race_ethnicity.hispanic  \\\n",
       "0                                              0.1187     \n",
       "1                                              0.7716     \n",
       "2                                              0.2180     \n",
       "3                                              0.2457     \n",
       "4                                              0.2624     \n",
       "5                                              0.2526     \n",
       "6                                              0.4765     \n",
       "7                                              0.1571     \n",
       "8                                              0.8756     \n",
       "9                                              0.2318     \n",
       "10                                             0.1182     \n",
       "11                                             0.3659     \n",
       "12                                             0.3659     \n",
       "13                                             0.1388     \n",
       "14                                             0.1068     \n",
       "15                                             0.0610     \n",
       "16                                             0.2071     \n",
       "17                                             0.1131     \n",
       "18                                             0.1175     \n",
       "19                                             0.1453     \n",
       "20                                             0.1014     \n",
       "21                                             0.1003     \n",
       "22                                             0.0624     \n",
       "23                                             0.0599     \n",
       "24                                             0.1256     \n",
       "25                                             0.0980     \n",
       "26                                             0.1625     \n",
       "27                                             0.2300     \n",
       "28                                             0.1077     \n",
       "29                                             0.0979     \n",
       "30                                             0.0851     \n",
       "31                                             0.1180     \n",
       "32                                             0.2132     \n",
       "33                                             0.0816     \n",
       "34                                             0.0615     \n",
       "35                                             0.0675     \n",
       "36                                             0.1196     \n",
       "37                                             0.2828     \n",
       "38                                             0.1098     \n",
       "39                                             0.0831     \n",
       "40                                             0.1766     \n",
       "\n",
       "    latest.student.demographics.race_ethnicity.black  \\\n",
       "0                                             0.0113   \n",
       "1                                             0.0397   \n",
       "2                                             0.0213   \n",
       "3                                             0.0174   \n",
       "4                                             0.0191   \n",
       "5                                             0.0179   \n",
       "6                                             0.0532   \n",
       "7                                             0.0881   \n",
       "8                                             0.0178   \n",
       "9                                             0.0739   \n",
       "10                                            0.0932   \n",
       "11                                            0.0795   \n",
       "12                                            0.0795   \n",
       "13                                            0.0560   \n",
       "14                                            0.0723   \n",
       "15                                            0.2967   \n",
       "16                                            0.0949   \n",
       "17                                            0.0596   \n",
       "18                                            0.0928   \n",
       "19                                            0.0866   \n",
       "20                                            0.0655   \n",
       "21                                            0.0454   \n",
       "22                                            0.0651   \n",
       "23                                            0.0891   \n",
       "24                                            0.0891   \n",
       "25                                            0.0859   \n",
       "26                                            0.0776   \n",
       "27                                            0.0734   \n",
       "28                                            0.0849   \n",
       "29                                            0.0818   \n",
       "30                                            0.0579   \n",
       "31                                            0.0640   \n",
       "32                                            0.0254   \n",
       "33                                            0.0514   \n",
       "34                                            0.0591   \n",
       "35                                            0.0546   \n",
       "36                                            0.1043   \n",
       "37                                            0.0467   \n",
       "38                                            0.0198   \n",
       "39                                            0.0250   \n",
       "40                                            0.0791   \n",
       "\n",
       "                                          school.name  \n",
       "0                               John Brown University  \n",
       "1             California State University-Los Angeles  \n",
       "2                   University of California-Berkeley  \n",
       "3                      University of California-Davis  \n",
       "4                     University of California-Irvine  \n",
       "5                  University of California-San Diego  \n",
       "6          Vanguard University of Southern California  \n",
       "7                                     Yale University  \n",
       "8                             Albizu University-Miami  \n",
       "9                            Florida State University  \n",
       "10                                   Emory University  \n",
       "11                     University of Illinois Chicago  \n",
       "12                     University of Illinois Chicago  \n",
       "13            University of Illinois Urbana-Champaign  \n",
       "14                       Purdue University Fort Wayne  \n",
       "15         Northwestern State University of Louisiana  \n",
       "16                           Johns Hopkins University  \n",
       "17                                  Boston University  \n",
       "18                                 Harvard University  \n",
       "19              Massachusetts Institute of Technology  \n",
       "20                                   Tufts University  \n",
       "21                   University of Michigan-Ann Arbor  \n",
       "22                          Michigan State University  \n",
       "23                University of Minnesota-Twin Cities  \n",
       "24                  Washington University in St Louis  \n",
       "25                               Princeton University  \n",
       "26        Columbia University in the City of New York  \n",
       "27          State University of New York at New Paltz  \n",
       "28                                    Duke University  \n",
       "29        University of North Carolina at Chapel Hill  \n",
       "30         North Carolina State University at Raleigh  \n",
       "31                    Case Western Reserve University  \n",
       "32                 Oregon Health & Science University  \n",
       "33                           Clarks Summit University  \n",
       "34  Pennsylvania State University-Penn State New K...  \n",
       "35         University of Pittsburgh-Pittsburgh Campus  \n",
       "36                              Vanderbilt University  \n",
       "37                  The University of Texas at Austin  \n",
       "38                      Western Washington University  \n",
       "39                    University of Wisconsin-Madison  \n",
       "40                                Stanford University  \n",
       "\n",
       "[41 rows x 29 columns]"
      ]
     },
     "execution_count": 16,
     "metadata": {},
     "output_type": "execute_result"
    }
   ],
   "source": [
    "df_merged"
   ]
  },
  {
   "cell_type": "code",
   "execution_count": 10,
   "metadata": {},
   "outputs": [],
   "source": [
    "#df_merged.to_csv(\"college_analysis.csv\", index=False)"
   ]
  },
  {
   "cell_type": "code",
   "execution_count": 17,
   "metadata": {},
   "outputs": [
    {
     "data": {
      "text/plain": [
       "Index(['unitid', 'institution', 'year', 'pct_pell', 'pct_admitted',\n",
       "       'admissions_yield', 'tuition_fees', 'enrollment_ft', 'pct_asian',\n",
       "       'pct_black', 'pct_hispanic', 'pct_native_hawaiian', 'pct_white',\n",
       "       'enrollment_ft_in_state', 'pct_enrollment_ft_in_state',\n",
       "       'enrollment_ft_out_of_state', 'pct_enrollment_ft_out_of_state',\n",
       "       'enrollment_ft_foreign_countries',\n",
       "       'pct_enrollment_ft_foreign_countries', 'name', 'state', 'par_mean',\n",
       "       'par_median', 'latest.admissions.admission_rate.overall',\n",
       "       'latest.student.demographics.race_ethnicity.asian',\n",
       "       'latest.student.demographics.race_ethnicity.white',\n",
       "       'latest.student.demographics.race_ethnicity.hispanic',\n",
       "       'latest.student.demographics.race_ethnicity.black', 'school.name'],\n",
       "      dtype='object')"
      ]
     },
     "execution_count": 17,
     "metadata": {},
     "output_type": "execute_result"
    }
   ],
   "source": [
    "df_merged.columns"
   ]
  },
  {
   "cell_type": "code",
   "execution_count": 18,
   "metadata": {},
   "outputs": [],
   "source": [
    "df = df_merged"
   ]
  },
  {
   "cell_type": "code",
   "execution_count": 19,
   "metadata": {},
   "outputs": [
    {
     "data": {
      "application/vnd.plotly.v1+json": {
       "config": {
        "plotlyServerURL": "https://plot.ly"
       },
       "data": [
        {
         "name": "Public School %",
         "type": "bar",
         "x": [
          "California State University-Los Angeles",
          "Vanguard University of Southern California",
          "State University of New York at New Paltz",
          "University of Illinois Chicago",
          "University of Illinois Chicago",
          "Purdue University Fort Wayne",
          "University of California-San Diego",
          "University of California-Irvine",
          "The University of Texas at Austin",
          "Western Washington University",
          "Florida State University",
          "University of California-Davis",
          "North Carolina State University at Raleigh",
          "University of California-Berkeley",
          "University of Illinois Urbana-Champaign",
          "Michigan State University",
          "University of Minnesota-Twin Cities",
          "University of North Carolina at Chapel Hill",
          "University of Pittsburgh-Pittsburgh Campus",
          "University of Wisconsin-Madison",
          "Case Western Reserve University",
          "Stanford University",
          "Boston University",
          "Massachusetts Institute of Technology",
          "Tufts University",
          "Washington University in St Louis",
          "Emory University",
          "Harvard University",
          "Princeton University",
          "Vanderbilt University",
          "Yale University"
         ],
         "y": {
          "bdata": "m5mZmZmZVkCIO/N9bUxSQBKkkRbyXlFAG5Nf7o0YUUAbk1/ujRhRQC7XsrsZYlBAVdiKICE6T0C6DC0L4PZOQIYfD+C8Bk5AsbjTO9IiTUBjH41f/f9MQHXdgwnjmUxA5FkZs4B8TEAufgHkrKdLQI0GtB1kH0tAxL++kXigSkBH9iHqxQhKQNxAkFOLsUlAccos2mgVR0DPswFcRHlFQA97KkWPrjtAauO2aYZqOUDqh+KsOn44QLCAWQYxhzZAiPtHPPhwNEDk1LYKDKQzQBcR6K1tpjFAEFQBjrhRL0A0lwo2FFMtQAEAAAAAACxAkKn0rmV0JkA=",
          "dtype": "f8"
         }
        },
        {
         "name": "Private School %",
         "type": "bar",
         "x": [
          "California State University-Los Angeles",
          "Vanguard University of Southern California",
          "State University of New York at New Paltz",
          "University of Illinois Chicago",
          "University of Illinois Chicago",
          "Purdue University Fort Wayne",
          "University of California-San Diego",
          "University of California-Irvine",
          "The University of Texas at Austin",
          "Western Washington University",
          "Florida State University",
          "University of California-Davis",
          "North Carolina State University at Raleigh",
          "University of California-Berkeley",
          "University of Illinois Urbana-Champaign",
          "Michigan State University",
          "University of Minnesota-Twin Cities",
          "University of North Carolina at Chapel Hill",
          "University of Pittsburgh-Pittsburgh Campus",
          "University of Wisconsin-Madison",
          "Case Western Reserve University",
          "Stanford University",
          "Boston University",
          "Massachusetts Institute of Technology",
          "Tufts University",
          "Washington University in St Louis",
          "Emory University",
          "Harvard University",
          "Princeton University",
          "Vanderbilt University",
          "Yale University"
         ],
         "y": {
          "bdata": "LDMzMzMzI0DgETMISs46QLpvuaU3hD5Ak7OBRsidP0CTs4FGyJ0/QKNRmojMO0FAqyd1397FQkBG89L0HwlDQHrg8B9D+UNAT0csxC3dRECd4HKgAgBFQIsifPYcZkVAHKbmTH+DRUDSgf4bU1hGQHP5S+Kb4EZAPEBBbodfR0C5Cd4VOvdHQCS/b6x0TkhAjjXTJZfqSkAxTP6ju4ZMQD1htS5cFFJAJkeSZV6lUkAGXsdUceBSQNSfab4zXlNAHgHu8MHjU0DHSlL9/BZUQLv7hZRkllRAftU/7sgVVUAZrT55nVVVQAAAAAAAgFVAzmohSnMxVkA=",
          "dtype": "f8"
         }
        }
       ],
       "layout": {
        "barmode": "stack",
        "height": 600,
        "template": {
         "data": {
          "bar": [
           {
            "error_x": {
             "color": "#2a3f5f"
            },
            "error_y": {
             "color": "#2a3f5f"
            },
            "marker": {
             "line": {
              "color": "#E5ECF6",
              "width": 0.5
             },
             "pattern": {
              "fillmode": "overlay",
              "size": 10,
              "solidity": 0.2
             }
            },
            "type": "bar"
           }
          ],
          "barpolar": [
           {
            "marker": {
             "line": {
              "color": "#E5ECF6",
              "width": 0.5
             },
             "pattern": {
              "fillmode": "overlay",
              "size": 10,
              "solidity": 0.2
             }
            },
            "type": "barpolar"
           }
          ],
          "carpet": [
           {
            "aaxis": {
             "endlinecolor": "#2a3f5f",
             "gridcolor": "white",
             "linecolor": "white",
             "minorgridcolor": "white",
             "startlinecolor": "#2a3f5f"
            },
            "baxis": {
             "endlinecolor": "#2a3f5f",
             "gridcolor": "white",
             "linecolor": "white",
             "minorgridcolor": "white",
             "startlinecolor": "#2a3f5f"
            },
            "type": "carpet"
           }
          ],
          "choropleth": [
           {
            "colorbar": {
             "outlinewidth": 0,
             "ticks": ""
            },
            "type": "choropleth"
           }
          ],
          "contour": [
           {
            "colorbar": {
             "outlinewidth": 0,
             "ticks": ""
            },
            "colorscale": [
             [
              0,
              "#0d0887"
             ],
             [
              0.1111111111111111,
              "#46039f"
             ],
             [
              0.2222222222222222,
              "#7201a8"
             ],
             [
              0.3333333333333333,
              "#9c179e"
             ],
             [
              0.4444444444444444,
              "#bd3786"
             ],
             [
              0.5555555555555556,
              "#d8576b"
             ],
             [
              0.6666666666666666,
              "#ed7953"
             ],
             [
              0.7777777777777778,
              "#fb9f3a"
             ],
             [
              0.8888888888888888,
              "#fdca26"
             ],
             [
              1,
              "#f0f921"
             ]
            ],
            "type": "contour"
           }
          ],
          "contourcarpet": [
           {
            "colorbar": {
             "outlinewidth": 0,
             "ticks": ""
            },
            "type": "contourcarpet"
           }
          ],
          "heatmap": [
           {
            "colorbar": {
             "outlinewidth": 0,
             "ticks": ""
            },
            "colorscale": [
             [
              0,
              "#0d0887"
             ],
             [
              0.1111111111111111,
              "#46039f"
             ],
             [
              0.2222222222222222,
              "#7201a8"
             ],
             [
              0.3333333333333333,
              "#9c179e"
             ],
             [
              0.4444444444444444,
              "#bd3786"
             ],
             [
              0.5555555555555556,
              "#d8576b"
             ],
             [
              0.6666666666666666,
              "#ed7953"
             ],
             [
              0.7777777777777778,
              "#fb9f3a"
             ],
             [
              0.8888888888888888,
              "#fdca26"
             ],
             [
              1,
              "#f0f921"
             ]
            ],
            "type": "heatmap"
           }
          ],
          "histogram": [
           {
            "marker": {
             "pattern": {
              "fillmode": "overlay",
              "size": 10,
              "solidity": 0.2
             }
            },
            "type": "histogram"
           }
          ],
          "histogram2d": [
           {
            "colorbar": {
             "outlinewidth": 0,
             "ticks": ""
            },
            "colorscale": [
             [
              0,
              "#0d0887"
             ],
             [
              0.1111111111111111,
              "#46039f"
             ],
             [
              0.2222222222222222,
              "#7201a8"
             ],
             [
              0.3333333333333333,
              "#9c179e"
             ],
             [
              0.4444444444444444,
              "#bd3786"
             ],
             [
              0.5555555555555556,
              "#d8576b"
             ],
             [
              0.6666666666666666,
              "#ed7953"
             ],
             [
              0.7777777777777778,
              "#fb9f3a"
             ],
             [
              0.8888888888888888,
              "#fdca26"
             ],
             [
              1,
              "#f0f921"
             ]
            ],
            "type": "histogram2d"
           }
          ],
          "histogram2dcontour": [
           {
            "colorbar": {
             "outlinewidth": 0,
             "ticks": ""
            },
            "colorscale": [
             [
              0,
              "#0d0887"
             ],
             [
              0.1111111111111111,
              "#46039f"
             ],
             [
              0.2222222222222222,
              "#7201a8"
             ],
             [
              0.3333333333333333,
              "#9c179e"
             ],
             [
              0.4444444444444444,
              "#bd3786"
             ],
             [
              0.5555555555555556,
              "#d8576b"
             ],
             [
              0.6666666666666666,
              "#ed7953"
             ],
             [
              0.7777777777777778,
              "#fb9f3a"
             ],
             [
              0.8888888888888888,
              "#fdca26"
             ],
             [
              1,
              "#f0f921"
             ]
            ],
            "type": "histogram2dcontour"
           }
          ],
          "mesh3d": [
           {
            "colorbar": {
             "outlinewidth": 0,
             "ticks": ""
            },
            "type": "mesh3d"
           }
          ],
          "parcoords": [
           {
            "line": {
             "colorbar": {
              "outlinewidth": 0,
              "ticks": ""
             }
            },
            "type": "parcoords"
           }
          ],
          "pie": [
           {
            "automargin": true,
            "type": "pie"
           }
          ],
          "scatter": [
           {
            "fillpattern": {
             "fillmode": "overlay",
             "size": 10,
             "solidity": 0.2
            },
            "type": "scatter"
           }
          ],
          "scatter3d": [
           {
            "line": {
             "colorbar": {
              "outlinewidth": 0,
              "ticks": ""
             }
            },
            "marker": {
             "colorbar": {
              "outlinewidth": 0,
              "ticks": ""
             }
            },
            "type": "scatter3d"
           }
          ],
          "scattercarpet": [
           {
            "marker": {
             "colorbar": {
              "outlinewidth": 0,
              "ticks": ""
             }
            },
            "type": "scattercarpet"
           }
          ],
          "scattergeo": [
           {
            "marker": {
             "colorbar": {
              "outlinewidth": 0,
              "ticks": ""
             }
            },
            "type": "scattergeo"
           }
          ],
          "scattergl": [
           {
            "marker": {
             "colorbar": {
              "outlinewidth": 0,
              "ticks": ""
             }
            },
            "type": "scattergl"
           }
          ],
          "scattermap": [
           {
            "marker": {
             "colorbar": {
              "outlinewidth": 0,
              "ticks": ""
             }
            },
            "type": "scattermap"
           }
          ],
          "scattermapbox": [
           {
            "marker": {
             "colorbar": {
              "outlinewidth": 0,
              "ticks": ""
             }
            },
            "type": "scattermapbox"
           }
          ],
          "scatterpolar": [
           {
            "marker": {
             "colorbar": {
              "outlinewidth": 0,
              "ticks": ""
             }
            },
            "type": "scatterpolar"
           }
          ],
          "scatterpolargl": [
           {
            "marker": {
             "colorbar": {
              "outlinewidth": 0,
              "ticks": ""
             }
            },
            "type": "scatterpolargl"
           }
          ],
          "scatterternary": [
           {
            "marker": {
             "colorbar": {
              "outlinewidth": 0,
              "ticks": ""
             }
            },
            "type": "scatterternary"
           }
          ],
          "surface": [
           {
            "colorbar": {
             "outlinewidth": 0,
             "ticks": ""
            },
            "colorscale": [
             [
              0,
              "#0d0887"
             ],
             [
              0.1111111111111111,
              "#46039f"
             ],
             [
              0.2222222222222222,
              "#7201a8"
             ],
             [
              0.3333333333333333,
              "#9c179e"
             ],
             [
              0.4444444444444444,
              "#bd3786"
             ],
             [
              0.5555555555555556,
              "#d8576b"
             ],
             [
              0.6666666666666666,
              "#ed7953"
             ],
             [
              0.7777777777777778,
              "#fb9f3a"
             ],
             [
              0.8888888888888888,
              "#fdca26"
             ],
             [
              1,
              "#f0f921"
             ]
            ],
            "type": "surface"
           }
          ],
          "table": [
           {
            "cells": {
             "fill": {
              "color": "#EBF0F8"
             },
             "line": {
              "color": "white"
             }
            },
            "header": {
             "fill": {
              "color": "#C8D4E3"
             },
             "line": {
              "color": "white"
             }
            },
            "type": "table"
           }
          ]
         },
         "layout": {
          "annotationdefaults": {
           "arrowcolor": "#2a3f5f",
           "arrowhead": 0,
           "arrowwidth": 1
          },
          "autotypenumbers": "strict",
          "coloraxis": {
           "colorbar": {
            "outlinewidth": 0,
            "ticks": ""
           }
          },
          "colorscale": {
           "diverging": [
            [
             0,
             "#8e0152"
            ],
            [
             0.1,
             "#c51b7d"
            ],
            [
             0.2,
             "#de77ae"
            ],
            [
             0.3,
             "#f1b6da"
            ],
            [
             0.4,
             "#fde0ef"
            ],
            [
             0.5,
             "#f7f7f7"
            ],
            [
             0.6,
             "#e6f5d0"
            ],
            [
             0.7,
             "#b8e186"
            ],
            [
             0.8,
             "#7fbc41"
            ],
            [
             0.9,
             "#4d9221"
            ],
            [
             1,
             "#276419"
            ]
           ],
           "sequential": [
            [
             0,
             "#0d0887"
            ],
            [
             0.1111111111111111,
             "#46039f"
            ],
            [
             0.2222222222222222,
             "#7201a8"
            ],
            [
             0.3333333333333333,
             "#9c179e"
            ],
            [
             0.4444444444444444,
             "#bd3786"
            ],
            [
             0.5555555555555556,
             "#d8576b"
            ],
            [
             0.6666666666666666,
             "#ed7953"
            ],
            [
             0.7777777777777778,
             "#fb9f3a"
            ],
            [
             0.8888888888888888,
             "#fdca26"
            ],
            [
             1,
             "#f0f921"
            ]
           ],
           "sequentialminus": [
            [
             0,
             "#0d0887"
            ],
            [
             0.1111111111111111,
             "#46039f"
            ],
            [
             0.2222222222222222,
             "#7201a8"
            ],
            [
             0.3333333333333333,
             "#9c179e"
            ],
            [
             0.4444444444444444,
             "#bd3786"
            ],
            [
             0.5555555555555556,
             "#d8576b"
            ],
            [
             0.6666666666666666,
             "#ed7953"
            ],
            [
             0.7777777777777778,
             "#fb9f3a"
            ],
            [
             0.8888888888888888,
             "#fdca26"
            ],
            [
             1,
             "#f0f921"
            ]
           ]
          },
          "colorway": [
           "#636efa",
           "#EF553B",
           "#00cc96",
           "#ab63fa",
           "#FFA15A",
           "#19d3f3",
           "#FF6692",
           "#B6E880",
           "#FF97FF",
           "#FECB52"
          ],
          "font": {
           "color": "#2a3f5f"
          },
          "geo": {
           "bgcolor": "white",
           "lakecolor": "white",
           "landcolor": "#E5ECF6",
           "showlakes": true,
           "showland": true,
           "subunitcolor": "white"
          },
          "hoverlabel": {
           "align": "left"
          },
          "hovermode": "closest",
          "mapbox": {
           "style": "light"
          },
          "paper_bgcolor": "white",
          "plot_bgcolor": "#E5ECF6",
          "polar": {
           "angularaxis": {
            "gridcolor": "white",
            "linecolor": "white",
            "ticks": ""
           },
           "bgcolor": "#E5ECF6",
           "radialaxis": {
            "gridcolor": "white",
            "linecolor": "white",
            "ticks": ""
           }
          },
          "scene": {
           "xaxis": {
            "backgroundcolor": "#E5ECF6",
            "gridcolor": "white",
            "gridwidth": 2,
            "linecolor": "white",
            "showbackground": true,
            "ticks": "",
            "zerolinecolor": "white"
           },
           "yaxis": {
            "backgroundcolor": "#E5ECF6",
            "gridcolor": "white",
            "gridwidth": 2,
            "linecolor": "white",
            "showbackground": true,
            "ticks": "",
            "zerolinecolor": "white"
           },
           "zaxis": {
            "backgroundcolor": "#E5ECF6",
            "gridcolor": "white",
            "gridwidth": 2,
            "linecolor": "white",
            "showbackground": true,
            "ticks": "",
            "zerolinecolor": "white"
           }
          },
          "shapedefaults": {
           "line": {
            "color": "#2a3f5f"
           }
          },
          "ternary": {
           "aaxis": {
            "gridcolor": "white",
            "linecolor": "white",
            "ticks": ""
           },
           "baxis": {
            "gridcolor": "white",
            "linecolor": "white",
            "ticks": ""
           },
           "bgcolor": "#E5ECF6",
           "caxis": {
            "gridcolor": "white",
            "linecolor": "white",
            "ticks": ""
           }
          },
          "title": {
           "x": 0.05
          },
          "xaxis": {
           "automargin": true,
           "gridcolor": "white",
           "linecolor": "white",
           "ticks": "",
           "title": {
            "standoff": 15
           },
           "zerolinecolor": "white",
           "zerolinewidth": 2
          },
          "yaxis": {
           "automargin": true,
           "gridcolor": "white",
           "linecolor": "white",
           "ticks": "",
           "title": {
            "standoff": 15
           },
           "zerolinecolor": "white",
           "zerolinewidth": 2
          }
         }
        },
        "title": {
         "text": "Estimated % of Students from Public vs Private Schools"
        },
        "width": 1200,
        "xaxis": {
         "tickangle": -45,
         "title": {
          "text": "Institution"
         }
        },
        "yaxis": {
         "title": {
          "text": "Percentage of Students"
         }
        }
       }
      }
     },
     "metadata": {},
     "output_type": "display_data"
    }
   ],
   "source": [
    "# Define the logic for estimating public vs. private school %\n",
    "# Heuristic logic based on socioeconomic proxies:\n",
    "# - Higher Pell Grant % → likely more public school\n",
    "# - Higher in-state % → likely more public school\n",
    "# - Higher parent income → likely more private school\n",
    "# We'll combine these heuristics linearly.\n",
    "\n",
    "# Normalize relevant columns\n",
    "df['pct_pell_norm'] = df['pct_pell'] / 100\n",
    "df['in_state_ug_pct_norm'] = df['pct_enrollment_ft_in_state'] / 100\n",
    "df['par_mean_norm'] = (df['par_mean'] - df['par_mean'].min()) / (df['par_mean'].max() - df['par_mean'].min())\n",
    "\n",
    "# Define weights for the heuristic (you can tweak this based on literature / assumptions)\n",
    "w_pell = 0.4\n",
    "w_in_state = 0.4\n",
    "w_income = 0.2\n",
    "\n",
    "# Estimate \"Public school % score\"\n",
    "df['public_school_score'] = (\n",
    "    w_pell * df['pct_pell_norm'] +\n",
    "    w_in_state * df['in_state_ug_pct_norm'] +\n",
    "    w_income * (1 - df['par_mean_norm'])  # higher income → less public\n",
    ")\n",
    "\n",
    "# Clip scores between 0 and 1\n",
    "df['public_school_pct'] = (df['public_school_score']).clip(0, 1)\n",
    "\n",
    "# Private school % is complementary\n",
    "df['private_school_pct'] = 1 - df['public_school_pct']\n",
    "\n",
    "# Prepare data for plot\n",
    "plot_df = df[['institution', 'public_school_pct', 'private_school_pct']].dropna().sort_values(by='public_school_pct', ascending=False)\n",
    "\n",
    "\n",
    "\n",
    "fig = go.Figure(data=[\n",
    "    go.Bar(name='Public School %', x=plot_df['institution'], y=plot_df['public_school_pct'] * 100),\n",
    "    go.Bar(name='Private School %', x=plot_df['institution'], y=plot_df['private_school_pct'] * 100)\n",
    "])\n",
    "\n",
    "fig.update_layout(\n",
    "    barmode='stack',\n",
    "    title='Estimated % of Students from Public vs Private Schools',\n",
    "    xaxis_title='Institution',\n",
    "    yaxis_title='Percentage of Students',\n",
    "    xaxis_tickangle=-45,\n",
    "    height=600,\n",
    "    width=1200\n",
    ")\n",
    "\n",
    "fig.show()\n"
   ]
  }
 ],
 "metadata": {
  "kernelspec": {
   "display_name": "ai_tut",
   "language": "python",
   "name": "python3"
  },
  "language_info": {
   "codemirror_mode": {
    "name": "ipython",
    "version": 3
   },
   "file_extension": ".py",
   "mimetype": "text/x-python",
   "name": "python",
   "nbconvert_exporter": "python",
   "pygments_lexer": "ipython3",
   "version": "3.13.3"
  }
 },
 "nbformat": 4,
 "nbformat_minor": 2
}
