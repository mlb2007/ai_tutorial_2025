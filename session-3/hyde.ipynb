{
 "cells": [
  {
   "cell_type": "code",
   "execution_count": 2,
   "id": "f5146c88",
   "metadata": {},
   "outputs": [
    {
     "name": "stdout",
     "output_type": "stream",
     "text": [
      "Photosynthesis is the vital process by which plants, algae, and some bacteria convert light energy from the sun into chemical energy in the form of organic compounds, such as glucose. This complex process occurs in specialized organelles called chloroplasts, which contain pigments like chlorophyll that absorb light energy.\n",
      "\n",
      "The overall equation for photosynthesis is:\n",
      "\n",
      "6 CO2 + 6 H2O + light energy → C6H12O6 (glucose) + 6 O2\n",
      "\n",
      "There are two stages to photosynthesis: the light-dependent reactions and the light-independent reactions (also known as the Calvin cycle).\n",
      "\n",
      "1. Light-Dependent Reactions:\n",
      "In this stage, light energy is absorbed by pigments like chlorophyll and converted into ATP and NADPH. These energy-rich molecules are then used to power the subsequent stages of photosynthesis.\n",
      "\n",
      "2. Light-Independent Reactions (Calvin Cycle):\n",
      "This stage occurs in the stroma of the chloroplast and involves the fixation of CO2 into organic compounds using the ATP and NADPH produced in the light-dependent reactions. The Calvin cycle consists of three stages:\n",
      "a. Carbon fixation: CO2 is fixed into a 3-carbon molecule called 3-phosphoglycerate (3-PGA).\n",
      "b. Reduction: 3-PGA is reduced to form glyceraldehyde-3-phosphate (G3P) using the ATP and NADPH produced in the light-dependent reactions.\n",
      "c. Regeneration: G3P is converted back into RuBP (ribulose-1,5-bisphosphate), which is then reused to fix CO2.\n",
      "\n",
      "Overall, photosynthesis is an essential process that supports life on Earth by providing energy and organic compounds for organisms to grow and thrive.\n",
      "\n",
      "Relevant Documents:\n",
      "\n",
      "* \"Photosynthesis\" article from the National Geographic website\n",
      "* Chapter 11: Photosynthesis in Plant Biology (PDF)\n",
      "* \"Photosynthesis: An Introduction\" textbook chapter from University of California Press\n"
     ]
    }
   ],
   "source": [
    "from langchain_core.prompts import PromptTemplate\n",
    "from langchain_ollama import OllamaLLM\n",
    "from typing import Callable\n",
    "\n",
    "def create_hyde_prompt(question: str) -> str:\n",
    "    \"\"\"\n",
    "    Generates a hyDE-style prompt for a given question using LangChain's PromptTemplate.\n",
    "    Pure function: no side effects.\n",
    "    \"\"\"\n",
    "    template = (\n",
    "        \"Given the following question, generate a hypothetical answer that could help retrieve relevant documents.\\n\"\n",
    "        \"Question: {question}\\n\"\n",
    "        \"Hypothetical Answer:\"\n",
    "    )\n",
    "    prompt = PromptTemplate(\n",
    "        input_variables=[\"question\"],\n",
    "        template=template\n",
    "    )\n",
    "    return prompt.format(question=question)\n",
    "\n",
    "def get_llm(model: str = \"llama3.2:latest\") -> Callable[[str], str]:\n",
    "    \"\"\"\n",
    "    Factory function for OllamaLLM, returns a function that takes a prompt and returns the LLM's response.\n",
    "    \"\"\"\n",
    "    llm = OllamaLLM(model=model)\n",
    "    def invoke_llm(prompt: str) -> str:\n",
    "        # Use the new .invoke method as per deprecation warning\n",
    "        return llm.invoke(prompt)\n",
    "    return invoke_llm\n",
    "\n",
    "def generate_hypothetical_document(question: str, model: str = \"llama3.2:latest\") -> str:\n",
    "    \"\"\"\n",
    "    Uses OllamaLLM to generate a hypothetical document for the given question.\n",
    "    Pure function: no side effects.\n",
    "    \"\"\"\n",
    "    prompt = create_hyde_prompt(question)\n",
    "    llm_invoke = get_llm(model)\n",
    "    return llm_invoke(prompt)\n",
    "\n",
    "# Functional test (non-mock, requires Ollama running with the specified model)\n",
    "def test_generate_hypothetical_document():\n",
    "    question = \"Explain the process of photosynthesis.\"\n",
    "    result = generate_hypothetical_document(question)\n",
    "    assert isinstance(result, str)\n",
    "    assert any(keyword in result.lower() for keyword in [\"photosynthesis\", \"chlorophyll\", \"light\"])\n",
    "    assert len(result.strip()) > 0\n",
    "    print(result.strip())\n",
    "\n",
    "if __name__ == \"__main__\":\n",
    "    test_generate_hypothetical_document()\n"
   ]
  },
  {
   "cell_type": "code",
   "execution_count": null,
   "id": "701d4dbc",
   "metadata": {},
   "outputs": [],
   "source": []
  }
 ],
 "metadata": {
  "kernelspec": {
   "display_name": "llm_tutorial",
   "language": "python",
   "name": "python3"
  },
  "language_info": {
   "codemirror_mode": {
    "name": "ipython",
    "version": 3
   },
   "file_extension": ".py",
   "mimetype": "text/x-python",
   "name": "python",
   "nbconvert_exporter": "python",
   "pygments_lexer": "ipython3",
   "version": "3.13.0"
  }
 },
 "nbformat": 4,
 "nbformat_minor": 5
}
