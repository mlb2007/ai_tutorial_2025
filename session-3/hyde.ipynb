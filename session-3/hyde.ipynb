{
 "cells": [
  {
   "cell_type": "code",
   "execution_count": 6,
   "id": "f5146c88",
   "metadata": {},
   "outputs": [
    {
     "name": "stdout",
     "output_type": "stream",
     "text": [
      "Given the following question, generate a hypothetical answer that could help retrieve relevant documents.\n",
      "Question: Explain the process of photosynthesis.\n",
      "Hypothetical Answer:\n",
      "Sure! Here's a hypothetical answer to the question:\n",
      "\n",
      "\"Photosynthesis is a complex biochemical process by which plants, algae, and some bacteria convert light energy from the sun into chemical energy in the form of organic compounds, such as glucose. This process occurs in specialized organelles called chloroplasts, which contain pigments like chlorophyll that absorb light energy.\n",
      "\n",
      "The photosynthetic process can be divided into two stages: the light-dependent reactions and the light-independent reactions (also known as the Calvin cycle).\n",
      "\n",
      "**Light-Dependent Reactions:**\n",
      "\n",
      "1. Light absorption: Light is absorbed by pigments in the thylakoid membrane, exciting electrons which are then transferred to a special molecule called ATP synthase.\n",
      "2. Electron transport chain: The energy from light is used to generate a proton gradient across the thylakoid membrane, creating a concentration gradient that drives the production of ATP and NADPH.\n",
      "\n",
      "**Light-Independent Reactions (Calvin Cycle):**\n",
      "\n",
      "1. Carbon fixation: CO2 is fixed into a three-carbon molecule called 3-phosphoglycerate (3-PGA) via the enzyme RuBisCO.\n",
      "2. Reduction: The enzyme NADP-malate dehydrogenase reduces the 3-PGA to form glyceraldehyde 3-phosphate (G3P).\n",
      "3. Regeneration: The G3P molecules are used to regenerate RuBP, the five-carbon molecule that serves as a carrier for CO2 fixation.\n",
      "\n",
      "**Overall Equation:**\n",
      "\n",
      "6CO2 + 6H2O + light energy → C6H12O6 (glucose) + 6O2\n",
      "\n",
      "In summary, photosynthesis is a vital process that converts sunlight into chemical energy, supporting life on Earth and maintaining the balance of our ecosystem.\"\n",
      "\n",
      "This hypothetical answer could help retrieve relevant documents by:\n",
      "\n",
      "1. Providing a clear overview of the photosynthetic process.\n",
      "2. Discussing the key stages and components involved in photosynthesis (light-dependent reactions and light-independent reactions).\n",
      "3. Highlighting the importance of chlorophyll, ATP synthase, and RuBisCO in the process.\n",
      "4. Including the overall equation for photosynthesis, demonstrating its energy requirements.\n",
      "\n",
      "Retrieving relevant documents could include sources such as:\n",
      "\n",
      "* Scientific articles on plant physiology and biochemistry\n",
      "* Online resources from reputable websites like National Geographic or NASA\n",
      "* Educational materials from universities or institutions that specialize in biology, ecology, or environmental science\n",
      "* Research papers on the molecular mechanisms of photosynthesis\n",
      "\n",
      "Please note that this is just a hypothetical answer, and actual documents would depend on the specific context and requirements of the question.\n"
     ]
    }
   ],
   "source": [
    "from langchain_core.prompts import PromptTemplate\n",
    "from langchain_community.llms.ollama import Ollama\n",
    "\n",
    "def create_hyde_prompt(question: str) -> str:\n",
    "    \"\"\"\n",
    "    Generates a hyDE-style prompt for a given question using LangChain's PromptTemplate.\n",
    "    \"\"\"\n",
    "    template = (\n",
    "        \"Given the following question, generate a hypothetical answer that could help retrieve relevant documents.\\n\"\n",
    "        \"Question: {question}\\n\"\n",
    "        \"Hypothetical Answer:\"\n",
    "    )\n",
    "    prompt = PromptTemplate(\n",
    "        input_variables=[\"question\"],\n",
    "        template=template\n",
    "    )\n",
    "    return prompt.format(question=question)\n",
    "\n",
    "def generate_hypothetical_document(question: str, model: str = \"llama3.2:latest\") -> str:\n",
    "    \"\"\"\n",
    "    Uses Ollama LLM to generate a hypothetical document for the given question.\n",
    "    \"\"\"\n",
    "    prompt = create_hyde_prompt(question)\n",
    "    print(prompt)\n",
    "    llm = Ollama(model=model)\n",
    "    return llm(prompt)\n",
    "\n",
    "# Functional test (non-mock, requires Ollama running with the specified model)\n",
    "def test_generate_hypothetical_document():\n",
    "    question = \"Explain the process of photosynthesis.\"\n",
    "    result = generate_hypothetical_document(question)\n",
    "    assert isinstance(result, str)\n",
    "    assert \"photosynthesis\" in result.lower() or \"chlorophyll\" in result.lower() or \"light\" in result.lower()\n",
    "    assert len(result.strip()) > 0\n",
    "    print(result.strip())\n",
    "\n",
    "\n",
    "test_generate_hypothetical_document()\n"
   ]
  },
  {
   "cell_type": "code",
   "execution_count": null,
   "id": "701d4dbc",
   "metadata": {},
   "outputs": [],
   "source": []
  }
 ],
 "metadata": {
  "kernelspec": {
   "display_name": "llm_tutorial",
   "language": "python",
   "name": "python3"
  },
  "language_info": {
   "codemirror_mode": {
    "name": "ipython",
    "version": 3
   },
   "file_extension": ".py",
   "mimetype": "text/x-python",
   "name": "python",
   "nbconvert_exporter": "python",
   "pygments_lexer": "ipython3",
   "version": "3.13.0"
  }
 },
 "nbformat": 4,
 "nbformat_minor": 5
}
